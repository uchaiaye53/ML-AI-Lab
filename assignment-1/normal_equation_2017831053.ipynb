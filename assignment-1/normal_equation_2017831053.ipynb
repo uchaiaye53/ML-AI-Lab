{
  "nbformat": 4,
  "nbformat_minor": 0,
  "metadata": {
    "colab": {
      "provenance": [],
      "authorship_tag": "ABX9TyPvllpjTqsInUMQS6Q5QEdE",
      "include_colab_link": true
    },
    "kernelspec": {
      "name": "python3",
      "display_name": "Python 3"
    },
    "language_info": {
      "name": "python"
    }
  },
  "cells": [
    {
      "cell_type": "markdown",
      "metadata": {
        "id": "view-in-github",
        "colab_type": "text"
      },
      "source": [
        "<a href=\"https://colab.research.google.com/github/uchaiaye53/ML-AI-Lab/blob/main/assignment-1/normal_equation_2017831053.ipynb\" target=\"_parent\"><img src=\"https://colab.research.google.com/assets/colab-badge.svg\" alt=\"Open In Colab\"/></a>"
      ]
    },
    {
      "cell_type": "code",
      "execution_count": null,
      "metadata": {
        "id": "Js12c_95L3UV"
      },
      "outputs": [],
      "source": [
        "import pandas as pd\n",
        "import matplotlib.pyplot as plt\n",
        "import numpy as np\n",
        "import seaborn as sns\n",
        "import csv\n",
        "import io"
      ]
    },
    {
      "cell_type": "markdown",
      "source": [
        "# **Data** **Managing**"
      ],
      "metadata": {
        "id": "IGjOZ6jlyUrO"
      }
    },
    {
      "cell_type": "code",
      "source": [
        "from google.colab import files\n",
        "uploaded = files.upload()"
      ],
      "metadata": {
        "colab": {
          "base_uri": "https://localhost:8080/",
          "height": 74
        },
        "id": "O4h8uAhXZ_T3",
        "outputId": "bdb8aab2-f55c-43b8-a854-deb6ff8deeca"
      },
      "execution_count": null,
      "outputs": [
        {
          "output_type": "display_data",
          "data": {
            "text/plain": [
              "<IPython.core.display.HTML object>"
            ],
            "text/html": [
              "\n",
              "     <input type=\"file\" id=\"files-8d2dd7db-a895-4beb-b847-764231b09687\" name=\"files[]\" multiple disabled\n",
              "        style=\"border:none\" />\n",
              "     <output id=\"result-8d2dd7db-a895-4beb-b847-764231b09687\">\n",
              "      Upload widget is only available when the cell has been executed in the\n",
              "      current browser session. Please rerun this cell to enable.\n",
              "      </output>\n",
              "      <script>// Copyright 2017 Google LLC\n",
              "//\n",
              "// Licensed under the Apache License, Version 2.0 (the \"License\");\n",
              "// you may not use this file except in compliance with the License.\n",
              "// You may obtain a copy of the License at\n",
              "//\n",
              "//      http://www.apache.org/licenses/LICENSE-2.0\n",
              "//\n",
              "// Unless required by applicable law or agreed to in writing, software\n",
              "// distributed under the License is distributed on an \"AS IS\" BASIS,\n",
              "// WITHOUT WARRANTIES OR CONDITIONS OF ANY KIND, either express or implied.\n",
              "// See the License for the specific language governing permissions and\n",
              "// limitations under the License.\n",
              "\n",
              "/**\n",
              " * @fileoverview Helpers for google.colab Python module.\n",
              " */\n",
              "(function(scope) {\n",
              "function span(text, styleAttributes = {}) {\n",
              "  const element = document.createElement('span');\n",
              "  element.textContent = text;\n",
              "  for (const key of Object.keys(styleAttributes)) {\n",
              "    element.style[key] = styleAttributes[key];\n",
              "  }\n",
              "  return element;\n",
              "}\n",
              "\n",
              "// Max number of bytes which will be uploaded at a time.\n",
              "const MAX_PAYLOAD_SIZE = 100 * 1024;\n",
              "\n",
              "function _uploadFiles(inputId, outputId) {\n",
              "  const steps = uploadFilesStep(inputId, outputId);\n",
              "  const outputElement = document.getElementById(outputId);\n",
              "  // Cache steps on the outputElement to make it available for the next call\n",
              "  // to uploadFilesContinue from Python.\n",
              "  outputElement.steps = steps;\n",
              "\n",
              "  return _uploadFilesContinue(outputId);\n",
              "}\n",
              "\n",
              "// This is roughly an async generator (not supported in the browser yet),\n",
              "// where there are multiple asynchronous steps and the Python side is going\n",
              "// to poll for completion of each step.\n",
              "// This uses a Promise to block the python side on completion of each step,\n",
              "// then passes the result of the previous step as the input to the next step.\n",
              "function _uploadFilesContinue(outputId) {\n",
              "  const outputElement = document.getElementById(outputId);\n",
              "  const steps = outputElement.steps;\n",
              "\n",
              "  const next = steps.next(outputElement.lastPromiseValue);\n",
              "  return Promise.resolve(next.value.promise).then((value) => {\n",
              "    // Cache the last promise value to make it available to the next\n",
              "    // step of the generator.\n",
              "    outputElement.lastPromiseValue = value;\n",
              "    return next.value.response;\n",
              "  });\n",
              "}\n",
              "\n",
              "/**\n",
              " * Generator function which is called between each async step of the upload\n",
              " * process.\n",
              " * @param {string} inputId Element ID of the input file picker element.\n",
              " * @param {string} outputId Element ID of the output display.\n",
              " * @return {!Iterable<!Object>} Iterable of next steps.\n",
              " */\n",
              "function* uploadFilesStep(inputId, outputId) {\n",
              "  const inputElement = document.getElementById(inputId);\n",
              "  inputElement.disabled = false;\n",
              "\n",
              "  const outputElement = document.getElementById(outputId);\n",
              "  outputElement.innerHTML = '';\n",
              "\n",
              "  const pickedPromise = new Promise((resolve) => {\n",
              "    inputElement.addEventListener('change', (e) => {\n",
              "      resolve(e.target.files);\n",
              "    });\n",
              "  });\n",
              "\n",
              "  const cancel = document.createElement('button');\n",
              "  inputElement.parentElement.appendChild(cancel);\n",
              "  cancel.textContent = 'Cancel upload';\n",
              "  const cancelPromise = new Promise((resolve) => {\n",
              "    cancel.onclick = () => {\n",
              "      resolve(null);\n",
              "    };\n",
              "  });\n",
              "\n",
              "  // Wait for the user to pick the files.\n",
              "  const files = yield {\n",
              "    promise: Promise.race([pickedPromise, cancelPromise]),\n",
              "    response: {\n",
              "      action: 'starting',\n",
              "    }\n",
              "  };\n",
              "\n",
              "  cancel.remove();\n",
              "\n",
              "  // Disable the input element since further picks are not allowed.\n",
              "  inputElement.disabled = true;\n",
              "\n",
              "  if (!files) {\n",
              "    return {\n",
              "      response: {\n",
              "        action: 'complete',\n",
              "      }\n",
              "    };\n",
              "  }\n",
              "\n",
              "  for (const file of files) {\n",
              "    const li = document.createElement('li');\n",
              "    li.append(span(file.name, {fontWeight: 'bold'}));\n",
              "    li.append(span(\n",
              "        `(${file.type || 'n/a'}) - ${file.size} bytes, ` +\n",
              "        `last modified: ${\n",
              "            file.lastModifiedDate ? file.lastModifiedDate.toLocaleDateString() :\n",
              "                                    'n/a'} - `));\n",
              "    const percent = span('0% done');\n",
              "    li.appendChild(percent);\n",
              "\n",
              "    outputElement.appendChild(li);\n",
              "\n",
              "    const fileDataPromise = new Promise((resolve) => {\n",
              "      const reader = new FileReader();\n",
              "      reader.onload = (e) => {\n",
              "        resolve(e.target.result);\n",
              "      };\n",
              "      reader.readAsArrayBuffer(file);\n",
              "    });\n",
              "    // Wait for the data to be ready.\n",
              "    let fileData = yield {\n",
              "      promise: fileDataPromise,\n",
              "      response: {\n",
              "        action: 'continue',\n",
              "      }\n",
              "    };\n",
              "\n",
              "    // Use a chunked sending to avoid message size limits. See b/62115660.\n",
              "    let position = 0;\n",
              "    do {\n",
              "      const length = Math.min(fileData.byteLength - position, MAX_PAYLOAD_SIZE);\n",
              "      const chunk = new Uint8Array(fileData, position, length);\n",
              "      position += length;\n",
              "\n",
              "      const base64 = btoa(String.fromCharCode.apply(null, chunk));\n",
              "      yield {\n",
              "        response: {\n",
              "          action: 'append',\n",
              "          file: file.name,\n",
              "          data: base64,\n",
              "        },\n",
              "      };\n",
              "\n",
              "      let percentDone = fileData.byteLength === 0 ?\n",
              "          100 :\n",
              "          Math.round((position / fileData.byteLength) * 100);\n",
              "      percent.textContent = `${percentDone}% done`;\n",
              "\n",
              "    } while (position < fileData.byteLength);\n",
              "  }\n",
              "\n",
              "  // All done.\n",
              "  yield {\n",
              "    response: {\n",
              "      action: 'complete',\n",
              "    }\n",
              "  };\n",
              "}\n",
              "\n",
              "scope.google = scope.google || {};\n",
              "scope.google.colab = scope.google.colab || {};\n",
              "scope.google.colab._files = {\n",
              "  _uploadFiles,\n",
              "  _uploadFilesContinue,\n",
              "};\n",
              "})(self);\n",
              "</script> "
            ]
          },
          "metadata": {}
        },
        {
          "output_type": "stream",
          "name": "stdout",
          "text": [
            "Saving House_Rent_Dataset.csv to House_Rent_Dataset.csv\n"
          ]
        }
      ]
    },
    {
      "cell_type": "code",
      "source": [
        "data = pd.read_csv(io.BytesIO(uploaded['House_Rent_Dataset.csv']))\n",
        "data"
      ],
      "metadata": {
        "colab": {
          "base_uri": "https://localhost:8080/",
          "height": 424
        },
        "id": "u0I4BZMEaA-x",
        "outputId": "134468e3-8db2-44b8-ebee-7e27130af462"
      },
      "execution_count": null,
      "outputs": [
        {
          "output_type": "execute_result",
          "data": {
            "text/plain": [
              "       Posted On  BHK   Rent  Size            Floor    Area Type  \\\n",
              "0     2022-05-18    2  10000  1100  Ground out of 2   Super Area   \n",
              "1     2022-05-13    2  20000   800       1 out of 3   Super Area   \n",
              "2     2022-05-16    2  17000  1000       1 out of 3   Super Area   \n",
              "3     2022-07-04    2  10000   800       1 out of 2   Super Area   \n",
              "4     2022-05-09    2   7500   850       1 out of 2  Carpet Area   \n",
              "...          ...  ...    ...   ...              ...          ...   \n",
              "4741  2022-05-18    2  15000  1000       3 out of 5  Carpet Area   \n",
              "4742  2022-05-15    3  29000  2000       1 out of 4   Super Area   \n",
              "4743  2022-07-10    3  35000  1750       3 out of 5  Carpet Area   \n",
              "4744  2022-07-06    3  45000  1500     23 out of 34  Carpet Area   \n",
              "4745  2022-05-04    2  15000  1000       4 out of 5  Carpet Area   \n",
              "\n",
              "                 Area Locality       City Furnishing Status  Tenant Preferred  \\\n",
              "0                       Bandel    Kolkata       Unfurnished  Bachelors/Family   \n",
              "1     Phool Bagan, Kankurgachi    Kolkata    Semi-Furnished  Bachelors/Family   \n",
              "2      Salt Lake City Sector 2    Kolkata    Semi-Furnished  Bachelors/Family   \n",
              "3                  Dumdum Park    Kolkata       Unfurnished  Bachelors/Family   \n",
              "4                South Dum Dum    Kolkata       Unfurnished         Bachelors   \n",
              "...                        ...        ...               ...               ...   \n",
              "4741              Bandam Kommu  Hyderabad    Semi-Furnished  Bachelors/Family   \n",
              "4742      Manikonda, Hyderabad  Hyderabad    Semi-Furnished  Bachelors/Family   \n",
              "4743      Himayath Nagar, NH 7  Hyderabad    Semi-Furnished  Bachelors/Family   \n",
              "4744                Gachibowli  Hyderabad    Semi-Furnished            Family   \n",
              "4745           Suchitra Circle  Hyderabad       Unfurnished         Bachelors   \n",
              "\n",
              "      Bathroom Point of Contact  \n",
              "0            2    Contact Owner  \n",
              "1            1    Contact Owner  \n",
              "2            1    Contact Owner  \n",
              "3            1    Contact Owner  \n",
              "4            1    Contact Owner  \n",
              "...        ...              ...  \n",
              "4741         2    Contact Owner  \n",
              "4742         3    Contact Owner  \n",
              "4743         3    Contact Agent  \n",
              "4744         2    Contact Agent  \n",
              "4745         2    Contact Owner  \n",
              "\n",
              "[4746 rows x 12 columns]"
            ],
            "text/html": [
              "\n",
              "  <div id=\"df-7d5fcd7f-c320-409c-af02-142cafedcdab\">\n",
              "    <div class=\"colab-df-container\">\n",
              "      <div>\n",
              "<style scoped>\n",
              "    .dataframe tbody tr th:only-of-type {\n",
              "        vertical-align: middle;\n",
              "    }\n",
              "\n",
              "    .dataframe tbody tr th {\n",
              "        vertical-align: top;\n",
              "    }\n",
              "\n",
              "    .dataframe thead th {\n",
              "        text-align: right;\n",
              "    }\n",
              "</style>\n",
              "<table border=\"1\" class=\"dataframe\">\n",
              "  <thead>\n",
              "    <tr style=\"text-align: right;\">\n",
              "      <th></th>\n",
              "      <th>Posted On</th>\n",
              "      <th>BHK</th>\n",
              "      <th>Rent</th>\n",
              "      <th>Size</th>\n",
              "      <th>Floor</th>\n",
              "      <th>Area Type</th>\n",
              "      <th>Area Locality</th>\n",
              "      <th>City</th>\n",
              "      <th>Furnishing Status</th>\n",
              "      <th>Tenant Preferred</th>\n",
              "      <th>Bathroom</th>\n",
              "      <th>Point of Contact</th>\n",
              "    </tr>\n",
              "  </thead>\n",
              "  <tbody>\n",
              "    <tr>\n",
              "      <th>0</th>\n",
              "      <td>2022-05-18</td>\n",
              "      <td>2</td>\n",
              "      <td>10000</td>\n",
              "      <td>1100</td>\n",
              "      <td>Ground out of 2</td>\n",
              "      <td>Super Area</td>\n",
              "      <td>Bandel</td>\n",
              "      <td>Kolkata</td>\n",
              "      <td>Unfurnished</td>\n",
              "      <td>Bachelors/Family</td>\n",
              "      <td>2</td>\n",
              "      <td>Contact Owner</td>\n",
              "    </tr>\n",
              "    <tr>\n",
              "      <th>1</th>\n",
              "      <td>2022-05-13</td>\n",
              "      <td>2</td>\n",
              "      <td>20000</td>\n",
              "      <td>800</td>\n",
              "      <td>1 out of 3</td>\n",
              "      <td>Super Area</td>\n",
              "      <td>Phool Bagan, Kankurgachi</td>\n",
              "      <td>Kolkata</td>\n",
              "      <td>Semi-Furnished</td>\n",
              "      <td>Bachelors/Family</td>\n",
              "      <td>1</td>\n",
              "      <td>Contact Owner</td>\n",
              "    </tr>\n",
              "    <tr>\n",
              "      <th>2</th>\n",
              "      <td>2022-05-16</td>\n",
              "      <td>2</td>\n",
              "      <td>17000</td>\n",
              "      <td>1000</td>\n",
              "      <td>1 out of 3</td>\n",
              "      <td>Super Area</td>\n",
              "      <td>Salt Lake City Sector 2</td>\n",
              "      <td>Kolkata</td>\n",
              "      <td>Semi-Furnished</td>\n",
              "      <td>Bachelors/Family</td>\n",
              "      <td>1</td>\n",
              "      <td>Contact Owner</td>\n",
              "    </tr>\n",
              "    <tr>\n",
              "      <th>3</th>\n",
              "      <td>2022-07-04</td>\n",
              "      <td>2</td>\n",
              "      <td>10000</td>\n",
              "      <td>800</td>\n",
              "      <td>1 out of 2</td>\n",
              "      <td>Super Area</td>\n",
              "      <td>Dumdum Park</td>\n",
              "      <td>Kolkata</td>\n",
              "      <td>Unfurnished</td>\n",
              "      <td>Bachelors/Family</td>\n",
              "      <td>1</td>\n",
              "      <td>Contact Owner</td>\n",
              "    </tr>\n",
              "    <tr>\n",
              "      <th>4</th>\n",
              "      <td>2022-05-09</td>\n",
              "      <td>2</td>\n",
              "      <td>7500</td>\n",
              "      <td>850</td>\n",
              "      <td>1 out of 2</td>\n",
              "      <td>Carpet Area</td>\n",
              "      <td>South Dum Dum</td>\n",
              "      <td>Kolkata</td>\n",
              "      <td>Unfurnished</td>\n",
              "      <td>Bachelors</td>\n",
              "      <td>1</td>\n",
              "      <td>Contact Owner</td>\n",
              "    </tr>\n",
              "    <tr>\n",
              "      <th>...</th>\n",
              "      <td>...</td>\n",
              "      <td>...</td>\n",
              "      <td>...</td>\n",
              "      <td>...</td>\n",
              "      <td>...</td>\n",
              "      <td>...</td>\n",
              "      <td>...</td>\n",
              "      <td>...</td>\n",
              "      <td>...</td>\n",
              "      <td>...</td>\n",
              "      <td>...</td>\n",
              "      <td>...</td>\n",
              "    </tr>\n",
              "    <tr>\n",
              "      <th>4741</th>\n",
              "      <td>2022-05-18</td>\n",
              "      <td>2</td>\n",
              "      <td>15000</td>\n",
              "      <td>1000</td>\n",
              "      <td>3 out of 5</td>\n",
              "      <td>Carpet Area</td>\n",
              "      <td>Bandam Kommu</td>\n",
              "      <td>Hyderabad</td>\n",
              "      <td>Semi-Furnished</td>\n",
              "      <td>Bachelors/Family</td>\n",
              "      <td>2</td>\n",
              "      <td>Contact Owner</td>\n",
              "    </tr>\n",
              "    <tr>\n",
              "      <th>4742</th>\n",
              "      <td>2022-05-15</td>\n",
              "      <td>3</td>\n",
              "      <td>29000</td>\n",
              "      <td>2000</td>\n",
              "      <td>1 out of 4</td>\n",
              "      <td>Super Area</td>\n",
              "      <td>Manikonda, Hyderabad</td>\n",
              "      <td>Hyderabad</td>\n",
              "      <td>Semi-Furnished</td>\n",
              "      <td>Bachelors/Family</td>\n",
              "      <td>3</td>\n",
              "      <td>Contact Owner</td>\n",
              "    </tr>\n",
              "    <tr>\n",
              "      <th>4743</th>\n",
              "      <td>2022-07-10</td>\n",
              "      <td>3</td>\n",
              "      <td>35000</td>\n",
              "      <td>1750</td>\n",
              "      <td>3 out of 5</td>\n",
              "      <td>Carpet Area</td>\n",
              "      <td>Himayath Nagar, NH 7</td>\n",
              "      <td>Hyderabad</td>\n",
              "      <td>Semi-Furnished</td>\n",
              "      <td>Bachelors/Family</td>\n",
              "      <td>3</td>\n",
              "      <td>Contact Agent</td>\n",
              "    </tr>\n",
              "    <tr>\n",
              "      <th>4744</th>\n",
              "      <td>2022-07-06</td>\n",
              "      <td>3</td>\n",
              "      <td>45000</td>\n",
              "      <td>1500</td>\n",
              "      <td>23 out of 34</td>\n",
              "      <td>Carpet Area</td>\n",
              "      <td>Gachibowli</td>\n",
              "      <td>Hyderabad</td>\n",
              "      <td>Semi-Furnished</td>\n",
              "      <td>Family</td>\n",
              "      <td>2</td>\n",
              "      <td>Contact Agent</td>\n",
              "    </tr>\n",
              "    <tr>\n",
              "      <th>4745</th>\n",
              "      <td>2022-05-04</td>\n",
              "      <td>2</td>\n",
              "      <td>15000</td>\n",
              "      <td>1000</td>\n",
              "      <td>4 out of 5</td>\n",
              "      <td>Carpet Area</td>\n",
              "      <td>Suchitra Circle</td>\n",
              "      <td>Hyderabad</td>\n",
              "      <td>Unfurnished</td>\n",
              "      <td>Bachelors</td>\n",
              "      <td>2</td>\n",
              "      <td>Contact Owner</td>\n",
              "    </tr>\n",
              "  </tbody>\n",
              "</table>\n",
              "<p>4746 rows × 12 columns</p>\n",
              "</div>\n",
              "      <button class=\"colab-df-convert\" onclick=\"convertToInteractive('df-7d5fcd7f-c320-409c-af02-142cafedcdab')\"\n",
              "              title=\"Convert this dataframe to an interactive table.\"\n",
              "              style=\"display:none;\">\n",
              "        \n",
              "  <svg xmlns=\"http://www.w3.org/2000/svg\" height=\"24px\"viewBox=\"0 0 24 24\"\n",
              "       width=\"24px\">\n",
              "    <path d=\"M0 0h24v24H0V0z\" fill=\"none\"/>\n",
              "    <path d=\"M18.56 5.44l.94 2.06.94-2.06 2.06-.94-2.06-.94-.94-2.06-.94 2.06-2.06.94zm-11 1L8.5 8.5l.94-2.06 2.06-.94-2.06-.94L8.5 2.5l-.94 2.06-2.06.94zm10 10l.94 2.06.94-2.06 2.06-.94-2.06-.94-.94-2.06-.94 2.06-2.06.94z\"/><path d=\"M17.41 7.96l-1.37-1.37c-.4-.4-.92-.59-1.43-.59-.52 0-1.04.2-1.43.59L10.3 9.45l-7.72 7.72c-.78.78-.78 2.05 0 2.83L4 21.41c.39.39.9.59 1.41.59.51 0 1.02-.2 1.41-.59l7.78-7.78 2.81-2.81c.8-.78.8-2.07 0-2.86zM5.41 20L4 18.59l7.72-7.72 1.47 1.35L5.41 20z\"/>\n",
              "  </svg>\n",
              "      </button>\n",
              "      \n",
              "  <style>\n",
              "    .colab-df-container {\n",
              "      display:flex;\n",
              "      flex-wrap:wrap;\n",
              "      gap: 12px;\n",
              "    }\n",
              "\n",
              "    .colab-df-convert {\n",
              "      background-color: #E8F0FE;\n",
              "      border: none;\n",
              "      border-radius: 50%;\n",
              "      cursor: pointer;\n",
              "      display: none;\n",
              "      fill: #1967D2;\n",
              "      height: 32px;\n",
              "      padding: 0 0 0 0;\n",
              "      width: 32px;\n",
              "    }\n",
              "\n",
              "    .colab-df-convert:hover {\n",
              "      background-color: #E2EBFA;\n",
              "      box-shadow: 0px 1px 2px rgba(60, 64, 67, 0.3), 0px 1px 3px 1px rgba(60, 64, 67, 0.15);\n",
              "      fill: #174EA6;\n",
              "    }\n",
              "\n",
              "    [theme=dark] .colab-df-convert {\n",
              "      background-color: #3B4455;\n",
              "      fill: #D2E3FC;\n",
              "    }\n",
              "\n",
              "    [theme=dark] .colab-df-convert:hover {\n",
              "      background-color: #434B5C;\n",
              "      box-shadow: 0px 1px 3px 1px rgba(0, 0, 0, 0.15);\n",
              "      filter: drop-shadow(0px 1px 2px rgba(0, 0, 0, 0.3));\n",
              "      fill: #FFFFFF;\n",
              "    }\n",
              "  </style>\n",
              "\n",
              "      <script>\n",
              "        const buttonEl =\n",
              "          document.querySelector('#df-7d5fcd7f-c320-409c-af02-142cafedcdab button.colab-df-convert');\n",
              "        buttonEl.style.display =\n",
              "          google.colab.kernel.accessAllowed ? 'block' : 'none';\n",
              "\n",
              "        async function convertToInteractive(key) {\n",
              "          const element = document.querySelector('#df-7d5fcd7f-c320-409c-af02-142cafedcdab');\n",
              "          const dataTable =\n",
              "            await google.colab.kernel.invokeFunction('convertToInteractive',\n",
              "                                                     [key], {});\n",
              "          if (!dataTable) return;\n",
              "\n",
              "          const docLinkHtml = 'Like what you see? Visit the ' +\n",
              "            '<a target=\"_blank\" href=https://colab.research.google.com/notebooks/data_table.ipynb>data table notebook</a>'\n",
              "            + ' to learn more about interactive tables.';\n",
              "          element.innerHTML = '';\n",
              "          dataTable['output_type'] = 'display_data';\n",
              "          await google.colab.output.renderOutput(dataTable, element);\n",
              "          const docLink = document.createElement('div');\n",
              "          docLink.innerHTML = docLinkHtml;\n",
              "          element.appendChild(docLink);\n",
              "        }\n",
              "      </script>\n",
              "    </div>\n",
              "  </div>\n",
              "  "
            ]
          },
          "metadata": {},
          "execution_count": 39
        }
      ]
    },
    {
      "cell_type": "code",
      "source": [
        "y = data['Rent'].values\n",
        "x1 = data['Size'].values\n",
        "x2 = data['BHK'].values\n",
        "x3 = data['Bathroom'].values\n",
        "x4 = data['Furnishing Status'].values"
      ],
      "metadata": {
        "id": "aoHeilQEdyl8"
      },
      "execution_count": null,
      "outputs": []
    },
    {
      "cell_type": "code",
      "source": [
        "max_x1 = max(x1)\n",
        "min_x1 = min(x1)\n",
        "mean_x1 = round(np.mean(x1))\n",
        "print(max_x1,min_x1,mean_x1,x1)"
      ],
      "metadata": {
        "colab": {
          "base_uri": "https://localhost:8080/"
        },
        "id": "zlr7HBcN4J86",
        "outputId": "d67f8193-0262-452d-a9d0-b733fa518077"
      },
      "execution_count": null,
      "outputs": [
        {
          "output_type": "stream",
          "name": "stdout",
          "text": [
            "8000 10 967 [1100  800 1000 ... 1750 1500 1000]\n"
          ]
        }
      ]
    },
    {
      "cell_type": "code",
      "source": [
        "def replace_values(list_to_replace, item_to_replace, item_to_replace_with):\n",
        "    return [item_to_replace_with if item == item_to_replace else item for item in list_to_replace]\n",
        "x4 = replace_values(x4,'Furnished',3)\n",
        "x4 = replace_values(x4,'Semi-Furnished',2)\n",
        "x4 = replace_values(x4,'Unfurnished',1)"
      ],
      "metadata": {
        "id": "Q93EMAwefroK"
      },
      "execution_count": null,
      "outputs": []
    },
    {
      "cell_type": "code",
      "source": [
        "#y = np.array(y)\n",
        "Y = [y]\n",
        "print(Y)\n",
        "Y = np.transpose(Y)\n",
        "print(Y)"
      ],
      "metadata": {
        "colab": {
          "base_uri": "https://localhost:8080/"
        },
        "id": "E52O_rxzfuW2",
        "outputId": "b23f37fe-bfd3-497d-b5bd-be48085f7812"
      },
      "execution_count": null,
      "outputs": [
        {
          "output_type": "stream",
          "name": "stdout",
          "text": [
            "[array([10000, 20000, 17000, ..., 35000, 45000, 15000])]\n",
            "[[10000]\n",
            " [20000]\n",
            " [17000]\n",
            " ...\n",
            " [35000]\n",
            " [45000]\n",
            " [15000]]\n"
          ]
        }
      ]
    },
    {
      "cell_type": "code",
      "source": [
        "print(len(x1),len(x2),len(x3),len(x4),len(Y))"
      ],
      "metadata": {
        "colab": {
          "base_uri": "https://localhost:8080/"
        },
        "id": "i-jYW8CBhLL6",
        "outputId": "b4596723-2883-4bbc-f6d4-cc406e269191"
      },
      "execution_count": null,
      "outputs": [
        {
          "output_type": "stream",
          "name": "stdout",
          "text": [
            "4746 4746 4746 4746 4746\n"
          ]
        }
      ]
    },
    {
      "cell_type": "code",
      "source": [
        "X = []\n",
        "column = 5\n",
        "row = len(Y)\n",
        "for r in range(row):\n",
        "  temp_list = []\n",
        "  temp_list.append(1)\n",
        "  temp_list.append(x1[r])\n",
        "  temp_list.append(x2[r])\n",
        "  temp_list.append(x3[r])\n",
        "  temp_list.append(x4[r])\n",
        "  X.append(temp_list)\n",
        "\n",
        "print((X))"
      ],
      "metadata": {
        "colab": {
          "base_uri": "https://localhost:8080/"
        },
        "id": "FBB8c7nyhTz9",
        "outputId": "18e66aff-cb18-4ed7-9456-c84e889b4011"
      },
      "execution_count": null,
      "outputs": [
        {
          "output_type": "stream",
          "name": "stdout",
          "text": [
            "[[1, 1100, 2, 2, 1], [1, 800, 2, 1, 2], [1, 1000, 2, 1, 2], [1, 800, 2, 1, 1], [1, 850, 2, 1, 1], [1, 600, 2, 2, 1], [1, 700, 2, 2, 1], [1, 250, 1, 1, 1], [1, 800, 2, 2, 1], [1, 1000, 2, 2, 2], [1, 1200, 3, 2, 2], [1, 400, 1, 1, 1], [1, 250, 1, 1, 3], [1, 375, 1, 1, 1], [1, 900, 3, 2, 1], [1, 1286, 3, 2, 3], [1, 600, 2, 1, 2], [1, 800, 2, 1, 1], [1, 2000, 2, 1, 1], [1, 660, 2, 1, 1], [1, 650, 2, 1, 1], [1, 400, 2, 2, 1], [1, 300, 1, 1, 1], [1, 1600, 3, 1, 1], [1, 400, 1, 1, 2], [1, 1000, 2, 1, 1], [1, 355, 1, 1, 2], [1, 1000, 2, 1, 2], [1, 800, 2, 1, 1], [1, 850, 2, 2, 1], [1, 350, 1, 1, 1], [1, 900, 2, 2, 1], [1, 550, 2, 1, 2], [1, 500, 2, 2, 1], [1, 1100, 3, 1, 1], [1, 850, 2, 1, 2], [1, 800, 2, 1, 1], [1, 630, 2, 1, 1], [1, 900, 2, 2, 2], [1, 270, 1, 1, 2], [1, 630, 2, 1, 2], [1, 1500, 3, 2, 3], [1, 600, 1, 1, 1], [1, 700, 2, 1, 2], [1, 300, 1, 1, 2], [1, 1300, 2, 2, 2], [1, 400, 2, 1, 2], [1, 650, 2, 2, 1], [1, 2000, 3, 2, 2], [1, 1068, 3, 2, 2], [1, 150, 1, 1, 3], [1, 450, 1, 1, 1], [1, 800, 2, 1, 1], [1, 1000, 2, 2, 1], [1, 900, 2, 1, 2], [1, 600, 1, 1, 1], [1, 1200, 2, 1, 1], [1, 1200, 2, 2, 2], [1, 650, 2, 2, 2], [1, 720, 2, 2, 2], [1, 300, 1, 1, 1], [1, 1200, 3, 3, 1], [1, 700, 2, 2, 1], [1, 2000, 3, 2, 2], [1, 250, 1, 1, 2], [1, 1100, 2, 1, 1], [1, 300, 1, 1, 1], [1, 600, 2, 1, 2], [1, 800, 2, 1, 1], [1, 680, 1, 1, 1], [1, 680, 1, 1, 1], [1, 850, 2, 1, 2], [1, 850, 2, 1, 2], [1, 700, 2, 1, 1], [1, 1500, 3, 2, 1], [1, 950, 2, 2, 2], [1, 500, 2, 1, 1], [1, 450, 1, 1, 2], [1, 700, 2, 1, 1], [1, 500, 1, 1, 1], [1, 1800, 3, 2, 2], [1, 500, 1, 1, 2], [1, 480, 2, 2, 3], [1, 1000, 6, 2, 2], [1, 800, 2, 1, 3], [1, 435, 1, 1, 1], [1, 700, 2, 2, 2], [1, 800, 2, 1, 3], [1, 450, 2, 1, 1], [1, 550, 2, 1, 2], [1, 800, 2, 2, 1], [1, 550, 2, 2, 2], [1, 600, 1, 1, 3], [1, 500, 1, 1, 1], [1, 1000, 2, 2, 3], [1, 300, 1, 1, 1], [1, 1200, 2, 2, 3], [1, 500, 2, 1, 2], [1, 1200, 4, 2, 1], [1, 900, 2, 2, 2], [1, 1300, 3, 3, 1], [1, 1600, 4, 3, 1], [1, 1450, 3, 2, 1], [1, 1100, 2, 2, 3], [1, 950, 2, 2, 1], [1, 600, 1, 1, 1], [1, 700, 2, 2, 1], [1, 750, 3, 1, 1], [1, 1000, 2, 1, 1], [1, 220, 1, 1, 3], [1, 300, 1, 1, 2], [1, 300, 1, 1, 1], [1, 700, 1, 1, 2], [1, 800, 3, 2, 1], [1, 1600, 3, 2, 1], [1, 1000, 2, 2, 1], [1, 20, 1, 1, 1], [1, 400, 2, 1, 1], [1, 200, 1, 1, 3], [1, 840, 3, 2, 1], [1, 300, 1, 1, 1], [1, 550, 2, 2, 3], [1, 300, 1, 1, 1], [1, 800, 2, 2, 1], [1, 740, 2, 1, 1], [1, 1300, 2, 2, 1], [1, 650, 2, 1, 2], [1, 490, 2, 1, 2], [1, 250, 1, 1, 3], [1, 250, 1, 1, 3], [1, 450, 1, 1, 1], [1, 300, 1, 1, 2], [1, 750, 2, 2, 1], [1, 250, 1, 1, 3], [1, 751, 2, 1, 1], [1, 900, 2, 1, 2], [1, 400, 2, 1, 2], [1, 1000, 2, 2, 2], [1, 1000, 2, 1, 1], [1, 1500, 3, 2, 2], [1, 750, 2, 2, 1], [1, 1200, 1, 1, 2], [1, 700, 2, 1, 1], [1, 700, 2, 1, 3], [1, 1000, 2, 1, 2], [1, 1200, 2, 2, 1], [1, 550, 2, 1, 3], [1, 800, 2, 1, 1], [1, 280, 2, 1, 1], [1, 1100, 3, 3, 1], [1, 950, 2, 1, 1], [1, 250, 1, 1, 3], [1, 1000, 2, 1, 1], [1, 1000, 3, 2, 2], [1, 650, 2, 1, 1], [1, 700, 2, 2, 1], [1, 700, 2, 1, 1], [1, 1000, 3, 2, 2], [1, 900, 2, 2, 1], [1, 700, 1, 1, 1], [1, 700, 2, 2, 1], [1, 450, 2, 2, 2], [1, 120, 1, 1, 1], [1, 800, 2, 2, 2], [1, 1220, 3, 2, 1], [1, 1100, 3, 1, 1], [1, 700, 3, 2, 1], [1, 800, 2, 1, 3], [1, 670, 2, 1, 1], [1, 1300, 4, 3, 1], [1, 190, 1, 1, 2], [1, 700, 2, 1, 2], [1, 240, 1, 1, 1], [1, 850, 2, 1, 2], [1, 950, 1, 2, 1], [1, 450, 1, 1, 3], [1, 800, 2, 1, 1], [1, 600, 2, 1, 1], [1, 800, 3, 2, 1], [1, 1100, 3, 2, 1], [1, 800, 2, 1, 3], [1, 2200, 1, 3, 3], [1, 950, 2, 2, 1], [1, 550, 2, 1, 1], [1, 1800, 2, 2, 1], [1, 1000, 2, 1, 3], [1, 600, 2, 2, 2], [1, 750, 2, 2, 2], [1, 685, 2, 1, 1], [1, 44, 1, 1, 3], [1, 1200, 4, 1, 1], [1, 500, 2, 1, 1], [1, 1110, 4, 2, 1], [1, 1000, 2, 2, 1], [1, 392, 2, 1, 1], [1, 700, 2, 1, 1], [1, 750, 1, 1, 1], [1, 1500, 3, 2, 1], [1, 900, 2, 2, 1], [1, 710, 1, 1, 3], [1, 400, 1, 1, 1], [1, 700, 1, 1, 1], [1, 1000, 2, 1, 2], [1, 250, 1, 1, 3], [1, 500, 1, 1, 2], [1, 450, 2, 1, 2], [1, 1400, 3, 1, 1], [1, 500, 1, 1, 2], [1, 700, 2, 1, 1], [1, 1200, 3, 1, 2], [1, 450, 2, 1, 1], [1, 500, 1, 1, 3], [1, 400, 2, 1, 1], [1, 1000, 3, 2, 1], [1, 750, 2, 1, 1], [1, 450, 1, 1, 1], [1, 1000, 3, 2, 1], [1, 500, 2, 2, 1], [1, 1600, 4, 2, 1], [1, 550, 2, 1, 1], [1, 550, 1, 2, 1], [1, 200, 1, 1, 1], [1, 650, 2, 1, 1], [1, 1000, 2, 2, 3], [1, 680, 2, 2, 1], [1, 720, 2, 2, 1], [1, 500, 2, 1, 1], [1, 800, 2, 1, 1], [1, 160, 1, 1, 1], [1, 1200, 2, 2, 1], [1, 700, 1, 1, 3], [1, 1000, 1, 1, 2], [1, 1250, 2, 2, 1], [1, 1600, 4, 3, 1], [1, 700, 2, 1, 2], [1, 450, 1, 1, 1], [1, 839, 2, 2, 2], [1, 230, 1, 1, 1], [1, 1800, 1, 1, 1], [1, 800, 2, 2, 1], [1, 500, 1, 1, 2], [1, 620, 2, 1, 1], [1, 650, 2, 1, 1], [1, 550, 1, 1, 2], [1, 450, 2, 2, 3], [1, 1350, 3, 2, 1], [1, 600, 2, 2, 2], [1, 1200, 3, 1, 3], [1, 700, 2, 1, 1], [1, 800, 3, 2, 3], [1, 600, 2, 1, 2], [1, 900, 2, 2, 1], [1, 750, 2, 1, 1], [1, 1250, 3, 2, 1], [1, 1000, 3, 3, 2], [1, 600, 2, 1, 2], [1, 650, 2, 1, 1], [1, 450, 2, 1, 1], [1, 800, 3, 2, 1], [1, 1000, 3, 2, 2], [1, 1000, 2, 1, 1], [1, 1400, 3, 3, 3], [1, 600, 2, 1, 2], [1, 723, 2, 1, 3], [1, 320, 1, 1, 1], [1, 900, 2, 1, 2], [1, 1400, 3, 2, 3], [1, 2160, 1, 1, 2], [1, 650, 2, 1, 2], [1, 800, 2, 1, 2], [1, 800, 3, 1, 2], [1, 500, 1, 1, 1], [1, 1700, 3, 2, 2], [1, 130, 1, 1, 2], [1, 505, 1, 1, 3], [1, 4000, 4, 3, 3], [1, 1250, 3, 2, 1], [1, 700, 1, 1, 1], [1, 900, 2, 1, 1], [1, 650, 1, 1, 2], [1, 750, 2, 1, 3], [1, 450, 2, 1, 1], [1, 350, 1, 1, 2], [1, 480, 1, 2, 3], [1, 900, 2, 1, 1], [1, 200, 1, 1, 2], [1, 1100, 3, 3, 1], [1, 800, 2, 1, 1], [1, 1000, 3, 2, 3], [1, 800, 1, 1, 1], [1, 200, 1, 1, 2], [1, 1190, 3, 2, 1], [1, 900, 2, 2, 1], [1, 1500, 2, 2, 1], [1, 600, 2, 1, 1], [1, 800, 3, 1, 1], [1, 800, 2, 2, 1], [1, 900, 3, 2, 2], [1, 350, 1, 1, 2], [1, 800, 2, 1, 1], [1, 1600, 2, 2, 1], [1, 1012, 3, 2, 2], [1, 1200, 3, 2, 1], [1, 700, 2, 1, 3], [1, 1000, 2, 1, 2], [1, 800, 2, 1, 1], [1, 500, 1, 1, 2], [1, 1200, 3, 2, 2], [1, 450, 1, 1, 1], [1, 950, 3, 2, 1], [1, 350, 1, 1, 1], [1, 450, 1, 1, 1], [1, 550, 1, 1, 2], [1, 300, 2, 1, 1], [1, 1250, 3, 2, 2], [1, 700, 2, 1, 1], [1, 812, 3, 2, 1], [1, 550, 2, 1, 1], [1, 500, 1, 1, 2], [1, 320, 1, 1, 3], [1, 600, 2, 1, 1], [1, 420, 2, 1, 1], [1, 1100, 3, 1, 1], [1, 220, 1, 1, 1], [1, 700, 2, 2, 2], [1, 1200, 3, 2, 1], [1, 800, 2, 2, 1], [1, 300, 1, 1, 3], [1, 650, 2, 1, 1], [1, 600, 1, 1, 3], [1, 350, 1, 1, 1], [1, 500, 1, 1, 1], [1, 400, 1, 1, 1], [1, 1750, 3, 3, 2], [1, 1600, 3, 2, 1], [1, 300, 1, 1, 2], [1, 1100, 2, 2, 2], [1, 830, 2, 1, 1], [1, 600, 2, 2, 2], [1, 500, 1, 2, 1], [1, 900, 2, 1, 1], [1, 1250, 2, 2, 1], [1, 700, 2, 1, 1], [1, 850, 1, 2, 1], [1, 550, 2, 1, 1], [1, 550, 2, 2, 3], [1, 1200, 2, 1, 1], [1, 1100, 3, 2, 1], [1, 650, 2, 1, 2], [1, 1050, 3, 2, 1], [1, 960, 2, 2, 2], [1, 650, 2, 2, 1], [1, 550, 1, 1, 2], [1, 500, 2, 2, 2], [1, 450, 1, 1, 1], [1, 850, 2, 2, 1], [1, 300, 1, 1, 1], [1, 1000, 2, 3, 2], [1, 500, 2, 1, 1], [1, 756, 2, 1, 2], [1, 1000, 1, 1, 1], [1, 150, 1, 1, 1], [1, 800, 1, 1, 1], [1, 700, 2, 2, 1], [1, 420, 1, 1, 1], [1, 800, 2, 1, 1], [1, 288, 2, 1, 1], [1, 900, 2, 2, 1], [1, 850, 2, 2, 1], [1, 350, 1, 1, 1], [1, 600, 2, 1, 1], [1, 1600, 2, 1, 2], [1, 986, 2, 1, 1], [1, 1330, 3, 2, 1], [1, 1300, 3, 2, 2], [1, 800, 2, 1, 1], [1, 800, 2, 1, 1], [1, 850, 2, 1, 1], [1, 322, 1, 1, 1], [1, 800, 2, 1, 3], [1, 1500, 4, 2, 1], [1, 3500, 3, 2, 2], [1, 957, 2, 2, 3], [1, 850, 1, 1, 1], [1, 900, 2, 2, 1], [1, 600, 2, 1, 2], [1, 350, 1, 1, 2], [1, 800, 2, 1, 1], [1, 320, 2, 1, 1], [1, 800, 3, 1, 1], [1, 700, 2, 2, 2], [1, 1200, 2, 2, 2], [1, 750, 2, 1, 2], [1, 1200, 3, 3, 2], [1, 450, 2, 1, 1], [1, 1430, 3, 1, 2], [1, 450, 2, 1, 1], [1, 800, 4, 3, 2], [1, 400, 1, 1, 1], [1, 650, 2, 1, 1], [1, 450, 1, 1, 1], [1, 600, 2, 1, 1], [1, 1200, 3, 2, 1], [1, 700, 2, 1, 1], [1, 300, 1, 1, 1], [1, 1200, 3, 3, 1], [1, 1300, 3, 2, 1], [1, 400, 1, 1, 1], [1, 1320, 3, 2, 1], [1, 1000, 2, 2, 3], [1, 700, 2, 1, 1], [1, 800, 2, 2, 1], [1, 900, 2, 1, 3], [1, 1700, 3, 2, 1], [1, 600, 2, 1, 1], [1, 850, 2, 2, 1], [1, 550, 2, 1, 1], [1, 650, 1, 1, 3], [1, 800, 1, 1, 1], [1, 475, 2, 1, 1], [1, 200, 1, 1, 1], [1, 400, 1, 1, 1], [1, 500, 1, 1, 3], [1, 550, 2, 1, 1], [1, 800, 2, 1, 1], [1, 1000, 2, 2, 3], [1, 400, 1, 1, 2], [1, 300, 1, 1, 1], [1, 450, 2, 1, 1], [1, 450, 2, 1, 1], [1, 1100, 2, 2, 1], [1, 450, 1, 1, 1], [1, 1100, 2, 2, 1], [1, 650, 2, 1, 1], [1, 780, 2, 1, 1], [1, 1100, 3, 2, 2], [1, 800, 1, 1, 1], [1, 500, 1, 2, 2], [1, 400, 1, 1, 1], [1, 450, 1, 1, 1], [1, 550, 2, 1, 1], [1, 600, 2, 1, 1], [1, 200, 1, 1, 1], [1, 500, 2, 1, 2], [1, 450, 1, 1, 1], [1, 1050, 2, 2, 1], [1, 1000, 3, 2, 1], [1, 1200, 2, 2, 2], [1, 1100, 3, 2, 2], [1, 220, 1, 1, 1], [1, 350, 1, 1, 1], [1, 1100, 3, 1, 1], [1, 800, 2, 1, 1], [1, 950, 2, 1, 1], [1, 1200, 3, 1, 1], [1, 700, 2, 1, 2], [1, 500, 1, 1, 1], [1, 570, 2, 1, 1], [1, 650, 2, 1, 1], [1, 1200, 3, 3, 1], [1, 960, 5, 2, 1], [1, 1250, 2, 2, 2], [1, 120, 3, 2, 3], [1, 950, 3, 2, 2], [1, 600, 1, 1, 1], [1, 750, 2, 1, 1], [1, 1200, 3, 2, 1], [1, 400, 1, 1, 2], [1, 600, 1, 1, 3], [1, 700, 2, 1, 1], [1, 850, 2, 1, 2], [1, 500, 1, 1, 2], [1, 650, 2, 1, 1], [1, 800, 2, 2, 2], [1, 830, 3, 2, 1], [1, 600, 2, 1, 1], [1, 800, 2, 1, 1], [1, 1200, 2, 2, 2], [1, 1000, 2, 2, 3], [1, 750, 2, 2, 1], [1, 800, 2, 2, 1], [1, 1200, 2, 2, 1], [1, 750, 2, 1, 1], [1, 1500, 3, 2, 2], [1, 300, 1, 1, 1], [1, 800, 3, 1, 1], [1, 450, 2, 2, 1], [1, 1200, 4, 2, 3], [1, 500, 2, 2, 2], [1, 900, 2, 2, 2], [1, 460, 2, 1, 1], [1, 530, 2, 1, 2], [1, 650, 2, 2, 2], [1, 700, 2, 2, 2], [1, 400, 2, 1, 1], [1, 1000, 2, 2, 1], [1, 400, 1, 1, 2], [1, 700, 2, 2, 1], [1, 850, 2, 2, 2], [1, 558, 2, 2, 1], [1, 800, 2, 1, 1], [1, 900, 2, 2, 1], [1, 1600, 3, 2, 3], [1, 150, 1, 1, 1], [1, 1600, 3, 2, 1], [1, 1000, 3, 1, 1], [1, 700, 1, 1, 1], [1, 175, 1, 1, 1], [1, 450, 1, 1, 2], [1, 1700, 3, 3, 2], [1, 425, 2, 1, 1], [1, 900, 3, 3, 2], [1, 400, 1, 1, 1], [1, 600, 2, 1, 1], [1, 721, 2, 2, 3], [1, 1150, 3, 2, 1], [1, 2210, 3, 3, 1], [1, 675, 2, 1, 1], [1, 1320, 2, 2, 3], [1, 250, 1, 1, 1], [1, 720, 2, 2, 1], [1, 1880, 5, 2, 1], [1, 850, 3, 3, 2], [1, 1050, 2, 2, 1], [1, 320, 1, 1, 2], [1, 750, 2, 2, 3], [1, 450, 1, 1, 3], [1, 1100, 3, 3, 1], [1, 640, 1, 1, 3], [1, 650, 1, 1, 1], [1, 800, 2, 2, 1], [1, 1600, 4, 5, 2], [1, 460, 1, 1, 1], [1, 1650, 4, 4, 2], [1, 480, 1, 2, 2], [1, 500, 1, 2, 3], [1, 490, 1, 2, 2], [1, 620, 1, 1, 3], [1, 518, 2, 2, 2], [1, 700, 2, 2, 2], [1, 777, 2, 2, 2], [1, 650, 2, 2, 1], [1, 1800, 3, 4, 2], [1, 2308, 5, 5, 3], [1, 425, 1, 2, 1], [1, 890, 2, 2, 1], [1, 270, 1, 1, 1], [1, 850, 2, 2, 2], [1, 888, 2, 2, 2], [1, 650, 2, 2, 2], [1, 275, 1, 1, 1], [1, 700, 2, 2, 2], [1, 375, 1, 1, 1], [1, 424, 1, 1, 2], [1, 400, 1, 2, 3], [1, 450, 1, 1, 3], [1, 2079, 4, 5, 2], [1, 586, 2, 1, 2], [1, 610, 2, 2, 3], [1, 488, 1, 2, 2], [1, 1200, 3, 3, 2], [1, 722, 2, 2, 2], [1, 450, 1, 1, 1], [1, 500, 1, 2, 2], [1, 680, 2, 2, 3], [1, 1150, 2, 2, 1], [1, 830, 2, 2, 3], [1, 550, 1, 1, 3], [1, 470, 1, 2, 2], [1, 410, 1, 2, 2], [1, 710, 2, 2, 2], [1, 750, 2, 2, 2], [1, 800, 2, 2, 1], [1, 435, 1, 2, 1], [1, 500, 1, 1, 2], [1, 800, 2, 2, 3], [1, 540, 1, 2, 2], [1, 1050, 2, 2, 1], [1, 700, 2, 2, 2], [1, 1600, 4, 4, 2], [1, 600, 2, 1, 3], [1, 300, 1, 2, 1], [1, 550, 1, 2, 1], [1, 932, 3, 3, 2], [1, 450, 1, 2, 1], [1, 600, 2, 2, 1], [1, 424, 1, 2, 1], [1, 560, 2, 2, 3], [1, 450, 1, 2, 1], [1, 3000, 4, 5, 2], [1, 600, 1, 2, 3], [1, 1400, 3, 3, 3], [1, 630, 2, 2, 1], [1, 1400, 3, 3, 1], [1, 320, 1, 1, 3], [1, 1000, 2, 2, 1], [1, 1150, 3, 3, 1], [1, 751, 2, 2, 2], [1, 570, 2, 2, 3], [1, 696, 2, 2, 2], [1, 1600, 4, 4, 1], [1, 2500, 3, 3, 2], [1, 1150, 3, 3, 1], [1, 1500, 3, 4, 2], [1, 950, 3, 3, 3], [1, 750, 2, 2, 1], [1, 715, 2, 2, 3], [1, 1337, 3, 3, 3], [1, 737, 3, 3, 2], [1, 750, 2, 2, 1], [1, 760, 2, 2, 2], [1, 750, 2, 2, 2], [1, 650, 2, 2, 2], [1, 1000, 2, 2, 2], [1, 570, 1, 1, 1], [1, 900, 2, 2, 2], [1, 760, 2, 2, 1], [1, 1500, 3, 4, 1], [1, 1150, 3, 3, 1], [1, 1100, 3, 3, 2], [1, 1000, 3, 3, 3], [1, 720, 2, 2, 1], [1, 365, 1, 1, 3], [1, 2000, 4, 4, 3], [1, 400, 1, 1, 1], [1, 1330, 3, 4, 2], [1, 850, 3, 3, 2], [1, 2000, 4, 5, 3], [1, 700, 2, 2, 2], [1, 900, 2, 2, 2], [1, 650, 2, 2, 3], [1, 2600, 4, 4, 1], [1, 680, 2, 2, 1], [1, 950, 3, 3, 2], [1, 1783, 4, 3, 2], [1, 1330, 3, 3, 1], [1, 565, 1, 2, 1], [1, 450, 1, 1, 1], [1, 710, 2, 2, 2], [1, 1514, 3, 4, 2], [1, 1080, 3, 3, 1], [1, 700, 2, 2, 1], [1, 890, 3, 2, 1], [1, 1250, 3, 3, 2], [1, 300, 1, 1, 2], [1, 720, 2, 2, 1], [1, 825, 3, 3, 3], [1, 500, 2, 2, 3], [1, 750, 2, 2, 2], [1, 750, 2, 2, 2], [1, 360, 1, 1, 3], [1, 1545, 4, 5, 2], [1, 400, 1, 1, 1], [1, 750, 3, 2, 1], [1, 432, 1, 2, 1], [1, 780, 2, 2, 1], [1, 695, 2, 1, 2], [1, 375, 1, 1, 1], [1, 1095, 3, 3, 2], [1, 475, 1, 2, 2], [1, 790, 2, 2, 1], [1, 661, 2, 2, 2], [1, 700, 2, 2, 2], [1, 420, 1, 1, 2], [1, 750, 2, 2, 1], [1, 950, 2, 3, 2], [1, 1880, 5, 5, 3], [1, 1350, 3, 3, 3], [1, 330, 1, 1, 2], [1, 750, 2, 2, 1], [1, 925, 2, 3, 3], [1, 1150, 3, 3, 2], [1, 1105, 3, 3, 1], [1, 1050, 3, 3, 3], [1, 410, 1, 1, 2], [1, 460, 1, 2, 1], [1, 600, 1, 1, 2], [1, 570, 1, 2, 3], [1, 720, 2, 2, 3], [1, 500, 1, 2, 2], [1, 1460, 4, 4, 2], [1, 415, 1, 2, 1], [1, 1400, 3, 3, 2], [1, 270, 1, 1, 1], [1, 585, 2, 2, 2], [1, 1755, 4, 4, 1], [1, 550, 1, 2, 3], [1, 1300, 3, 4, 2], [1, 1200, 2, 2, 3], [1, 600, 2, 2, 2], [1, 700, 2, 2, 2], [1, 385, 1, 1, 1], [1, 500, 1, 1, 2], [1, 850, 2, 2, 2], [1, 900, 3, 2, 2], [1, 400, 1, 1, 1], [1, 600, 2, 2, 1], [1, 750, 2, 2, 2], [1, 628, 2, 2, 1], [1, 1330, 3, 4, 1], [1, 1064, 3, 3, 1], [1, 1200, 3, 3, 3], [1, 2200, 4, 4, 3], [1, 630, 2, 2, 2], [1, 650, 2, 2, 1], [1, 845, 2, 2, 3], [1, 1915, 3, 3, 2], [1, 900, 2, 2, 2], [1, 807, 2, 2, 1], [1, 1100, 2, 2, 2], [1, 1600, 3, 5, 2], [1, 790, 2, 2, 1], [1, 380, 1, 1, 1], [1, 650, 2, 2, 1], [1, 800, 2, 2, 2], [1, 830, 2, 2, 2], [1, 410, 1, 1, 1], [1, 428, 1, 2, 2], [1, 550, 1, 1, 2], [1, 630, 2, 2, 1], [1, 550, 1, 2, 1], [1, 450, 1, 2, 1], [1, 750, 2, 2, 1], [1, 800, 2, 2, 2], [1, 1050, 3, 3, 3], [1, 850, 2, 2, 3], [1, 2500, 4, 4, 2], [1, 2000, 3, 3, 3], [1, 1330, 3, 4, 2], [1, 950, 3, 3, 1], [1, 435, 1, 2, 2], [1, 1300, 3, 4, 2], [1, 650, 2, 2, 1], [1, 1550, 3, 3, 2], [1, 380, 1, 1, 2], [1, 1454, 4, 4, 1], [1, 860, 2, 2, 2], [1, 680, 2, 2, 2], [1, 433, 1, 2, 1], [1, 710, 2, 2, 2], [1, 700, 2, 2, 3], [1, 550, 1, 1, 1], [1, 2700, 4, 5, 2], [1, 350, 1, 1, 1], [1, 490, 1, 1, 2], [1, 1225, 3, 3, 3], [1, 1286, 3, 5, 1], [1, 425, 1, 2, 1], [1, 550, 2, 2, 2], [1, 1224, 3, 3, 1], [1, 950, 3, 3, 1], [1, 425, 1, 2, 2], [1, 1000, 3, 3, 3], [1, 710, 2, 2, 2], [1, 1300, 3, 3, 2], [1, 433, 1, 2, 2], [1, 650, 2, 2, 3], [1, 1650, 3, 4, 3], [1, 600, 2, 1, 2], [1, 850, 2, 2, 2], [1, 305, 1, 1, 1], [1, 490, 2, 2, 3], [1, 690, 2, 2, 2], [1, 635, 2, 2, 1], [1, 1100, 3, 2, 3], [1, 250, 1, 1, 1], [1, 1200, 3, 3, 3], [1, 750, 2, 2, 1], [1, 1100, 3, 3, 3], [1, 700, 2, 2, 2], [1, 1150, 2, 2, 1], [1, 1379, 3, 3, 1], [1, 500, 1, 1, 3], [1, 1400, 3, 3, 1], [1, 390, 1, 1, 1], [1, 935, 2, 2, 3], [1, 535, 2, 2, 1], [1, 1250, 3, 3, 2], [1, 3700, 4, 4, 3], [1, 350, 1, 2, 1], [1, 1350, 3, 4, 2], [1, 1550, 3, 3, 2], [1, 1100, 3, 3, 3], [1, 950, 3, 3, 1], [1, 400, 1, 1, 1], [1, 700, 2, 2, 3], [1, 850, 3, 2, 3], [1, 900, 2, 2, 3], [1, 1208, 3, 3, 1], [1, 1150, 3, 3, 2], [1, 1600, 3, 4, 2], [1, 700, 2, 2, 3], [1, 3200, 5, 5, 2], [1, 330, 1, 1, 1], [1, 225, 1, 1, 1], [1, 1050, 3, 3, 3], [1, 225, 1, 1, 2], [1, 463, 1, 2, 3], [1, 1900, 4, 3, 3], [1, 1500, 2, 4, 3], [1, 1000, 2, 2, 2], [1, 450, 1, 2, 2], [1, 700, 2, 2, 1], [1, 355, 1, 1, 1], [1, 1325, 3, 3, 3], [1, 950, 2, 2, 3], [1, 600, 1, 1, 2], [1, 905, 2, 2, 2], [1, 1500, 3, 3, 3], [1, 455, 1, 1, 1], [1, 850, 2, 2, 2], [1, 1100, 3, 2, 1], [1, 430, 1, 2, 1], [1, 650, 2, 2, 2], [1, 795, 2, 2, 1], [1, 800, 2, 2, 3], [1, 700, 1, 1, 3], [1, 450, 1, 2, 3], [1, 575, 2, 2, 2], [1, 650, 2, 3, 3], [1, 200, 1, 1, 3], [1, 1200, 2, 2, 2], [1, 656, 1, 2, 1], [1, 1600, 3, 3, 2], [1, 950, 3, 3, 1], [1, 719, 2, 2, 2], [1, 1100, 3, 3, 1], [1, 3064, 4, 4, 2], [1, 650, 2, 2, 2], [1, 1450, 3, 5, 2], [1, 720, 2, 2, 2], [1, 670, 2, 2, 2], [1, 1350, 3, 3, 3], [1, 925, 3, 2, 1], [1, 1450, 4, 4, 1], [1, 1550, 3, 3, 3], [1, 420, 1, 2, 2], [1, 650, 2, 2, 1], [1, 700, 2, 2, 3], [1, 3400, 5, 5, 2], [1, 935, 2, 2, 2], [1, 980, 2, 2, 2], [1, 2800, 4, 4, 3], [1, 700, 2, 3, 3], [1, 720, 2, 2, 2], [1, 750, 2, 2, 2], [1, 700, 2, 2, 3], [1, 1000, 2, 3, 2], [1, 3000, 5, 5, 3], [1, 413, 1, 1, 3], [1, 1755, 4, 4, 2], [1, 1850, 3, 4, 2], [1, 890, 2, 2, 1], [1, 1200, 3, 3, 2], [1, 1100, 3, 3, 3], [1, 420, 1, 2, 2], [1, 630, 2, 2, 1], [1, 1705, 4, 3, 2], [1, 1300, 3, 3, 3], [1, 1355, 3, 3, 3], [1, 450, 1, 2, 2], [1, 1350, 3, 3, 1], [1, 825, 2, 2, 3], [1, 550, 1, 1, 2], [1, 430, 1, 1, 1], [1, 320, 1, 1, 3], [1, 1100, 3, 3, 2], [1, 1460, 4, 4, 2], [1, 1250, 3, 3, 3], [1, 1000, 2, 3, 3], [1, 710, 2, 2, 1], [1, 1350, 3, 3, 3], [1, 400, 2, 1, 3], [1, 1000, 3, 4, 2], [1, 1500, 3, 3, 1], [1, 500, 1, 1, 2], [1, 2000, 4, 4, 3], [1, 225, 1, 1, 1], [1, 650, 2, 2, 3], [1, 670, 2, 2, 2], [1, 610, 2, 1, 2], [1, 400, 1, 2, 3], [1, 340, 1, 1, 1], [1, 471, 2, 2, 2], [1, 550, 1, 2, 3], [1, 630, 2, 1, 2], [1, 500, 1, 2, 2], [1, 400, 1, 1, 3], [1, 1000, 2, 2, 1], [1, 1528, 4, 4, 1], [1, 650, 2, 2, 2], [1, 500, 1, 1, 1], [1, 850, 3, 2, 2], [1, 550, 1, 1, 2], [1, 430, 1, 2, 1], [1, 1030, 3, 3, 3], [1, 250, 1, 1, 1], [1, 500, 1, 2, 1], [1, 1750, 4, 4, 2], [1, 985, 2, 2, 1], [1, 1050, 3, 3, 1], [1, 700, 2, 2, 1], [1, 1200, 3, 3, 2], [1, 1000, 3, 3, 3], [1, 550, 2, 2, 1], [1, 806, 3, 2, 2], [1, 1400, 3, 3, 3], [1, 470, 1, 2, 2], [1, 475, 1, 1, 1], [1, 583, 2, 2, 1], [1, 475, 2, 2, 1], [1, 900, 2, 2, 3], [1, 500, 1, 1, 2], [1, 806, 2, 3, 1], [1, 400, 1, 1, 3], [1, 650, 1, 2, 2], [1, 550, 1, 2, 2], [1, 390, 1, 1, 1], [1, 994, 2, 2, 2], [1, 520, 1, 2, 2], [1, 575, 1, 1, 2], [1, 2750, 3, 3, 1], [1, 470, 1, 2, 2], [1, 2500, 4, 4, 2], [1, 1100, 3, 3, 2], [1, 480, 1, 2, 3], [1, 750, 2, 2, 1], [1, 2424, 4, 5, 2], [1, 724, 2, 2, 2], [1, 600, 1, 1, 3], [1, 1076, 3, 2, 2], [1, 800, 1, 2, 1], [1, 1300, 3, 3, 2], [1, 500, 1, 2, 1], [1, 700, 2, 2, 2], [1, 700, 2, 2, 3], [1, 2170, 3, 4, 2], [1, 225, 1, 2, 1], [1, 485, 1, 2, 3], [1, 225, 1, 1, 1], [1, 478, 1, 2, 2], [1, 1200, 3, 3, 2], [1, 620, 2, 2, 2], [1, 280, 1, 1, 1], [1, 385, 1, 1, 1], [1, 704, 3, 2, 1], [1, 710, 2, 2, 1], [1, 525, 1, 1, 1], [1, 390, 1, 1, 2], [1, 755, 2, 2, 2], [1, 700, 2, 2, 1], [1, 1000, 2, 3, 2], [1, 2000, 3, 3, 3], [1, 650, 2, 2, 1], [1, 470, 1, 1, 2], [1, 450, 1, 2, 2], [1, 625, 2, 2, 2], [1, 700, 2, 2, 3], [1, 600, 2, 2, 1], [1, 600, 2, 1, 1], [1, 1100, 2, 4, 3], [1, 370, 1, 1, 2], [1, 950, 2, 2, 2], [1, 825, 2, 2, 1], [1, 650, 2, 2, 1], [1, 750, 2, 2, 2], [1, 900, 3, 3, 2], [1, 805, 2, 3, 2], [1, 742, 2, 2, 1], [1, 550, 2, 2, 2], [1, 745, 2, 2, 2], [1, 800, 2, 2, 3], [1, 1265, 3, 3, 1], [1, 1800, 3, 3, 1], [1, 325, 1, 1, 3], [1, 902, 2, 2, 2], [1, 1233, 3, 4, 2], [1, 750, 2, 2, 3], [1, 600, 2, 2, 1], [1, 500, 1, 1, 1], [1, 600, 2, 2, 1], [1, 950, 3, 3, 1], [1, 680, 1, 4, 3], [1, 400, 1, 1, 1], [1, 2120, 4, 5, 3], [1, 1350, 3, 4, 2], [1, 1600, 3, 3, 2], [1, 430, 1, 1, 1], [1, 1937, 4, 5, 2], [1, 700, 2, 3, 2], [1, 780, 2, 2, 1], [1, 1300, 4, 4, 2], [1, 1350, 3, 3, 2], [1, 750, 2, 2, 3], [1, 1400, 4, 3, 2], [1, 2000, 4, 5, 3], [1, 850, 2, 2, 3], [1, 500, 1, 1, 3], [1, 900, 2, 2, 1], [1, 750, 2, 2, 2], [1, 1100, 3, 2, 2], [1, 5000, 4, 4, 2], [1, 596, 1, 1, 2], [1, 680, 2, 2, 1], [1, 1950, 4, 4, 1], [1, 1350, 3, 3, 2], [1, 510, 1, 1, 2], [1, 500, 1, 1, 3], [1, 375, 1, 1, 1], [1, 500, 1, 1, 3], [1, 1500, 3, 3, 2], [1, 1000, 3, 3, 3], [1, 1260, 3, 3, 1], [1, 475, 1, 2, 1], [1, 620, 2, 2, 2], [1, 490, 1, 1, 3], [1, 710, 2, 2, 2], [1, 720, 2, 2, 1], [1, 770, 2, 2, 2], [1, 1600, 3, 3, 2], [1, 500, 1, 1, 3], [1, 350, 1, 1, 1], [1, 1000, 2, 2, 2], [1, 3900, 5, 5, 3], [1, 1000, 3, 3, 2], [1, 660, 2, 2, 2], [1, 600, 1, 1, 2], [1, 900, 2, 2, 3], [1, 750, 2, 2, 3], [1, 1000, 2, 2, 3], [1, 1500, 3, 3, 2], [1, 1200, 2, 3, 3], [1, 1200, 3, 3, 3], [1, 280, 1, 1, 2], [1, 1000, 2, 2, 3], [1, 1800, 3, 4, 2], [1, 694, 2, 2, 2], [1, 3250, 5, 5, 1], [1, 1740, 3, 4, 3], [1, 750, 2, 2, 3], [1, 1000, 3, 3, 2], [1, 500, 1, 1, 3], [1, 2000, 4, 5, 2], [1, 550, 1, 2, 3], [1, 270, 1, 1, 1], [1, 960, 3, 3, 2], [1, 1200, 3, 2, 2], [1, 710, 2, 2, 1], [1, 472, 1, 2, 2], [1, 1000, 2, 2, 2], [1, 800, 2, 2, 2], [1, 650, 2, 2, 1], [1, 1300, 3, 3, 2], [1, 600, 2, 2, 1], [1, 750, 2, 2, 3], [1, 890, 2, 2, 2], [1, 421, 1, 1, 1], [1, 1300, 3, 3, 2], [1, 350, 1, 1, 1], [1, 800, 2, 2, 2], [1, 650, 2, 2, 2], [1, 650, 1, 2, 3], [1, 650, 2, 2, 2], [1, 680, 2, 2, 1], [1, 800, 2, 2, 3], [1, 1250, 3, 3, 2], [1, 475, 1, 1, 1], [1, 600, 2, 2, 1], [1, 450, 1, 1, 1], [1, 400, 1, 1, 1], [1, 985, 3, 3, 1], [1, 1450, 3, 3, 1], [1, 650, 2, 2, 2], [1, 805, 2, 3, 2], [1, 650, 1, 1, 2], [1, 515, 1, 1, 1], [1, 1000, 3, 2, 2], [1, 1050, 3, 3, 2], [1, 777, 2, 2, 3], [1, 831, 2, 2, 1], [1, 1233, 3, 4, 2], [1, 250, 1, 1, 1], [1, 900, 2, 2, 2], [1, 753, 2, 2, 1], [1, 1800, 3, 3, 3], [1, 670, 2, 2, 1], [1, 2800, 4, 4, 2], [1, 1197, 3, 3, 2], [1, 880, 2, 2, 1], [1, 1000, 2, 2, 3], [1, 935, 2, 2, 2], [1, 751, 2, 2, 2], [1, 200, 1, 1, 1], [1, 2500, 4, 6, 2], [1, 500, 1, 1, 3], [1, 430, 1, 1, 3], [1, 1088, 3, 3, 2], [1, 330, 1, 1, 2], [1, 400, 1, 1, 1], [1, 1200, 3, 3, 3], [1, 700, 2, 2, 1], [1, 1000, 3, 2, 2], [1, 750, 2, 2, 2], [1, 450, 1, 2, 1], [1, 640, 1, 2, 3], [1, 1190, 3, 3, 2], [1, 850, 3, 3, 1], [1, 330, 1, 1, 2], [1, 685, 2, 2, 2], [1, 400, 1, 2, 1], [1, 500, 1, 2, 3], [1, 550, 1, 1, 1], [1, 2500, 4, 4, 1], [1, 1100, 3, 3, 3], [1, 650, 2, 2, 1], [1, 1400, 3, 3, 3], [1, 1050, 2, 2, 3], [1, 850, 3, 3, 1], [1, 550, 1, 1, 1], [1, 750, 2, 2, 3], [1, 1350, 3, 3, 2], [1, 800, 2, 2, 2], [1, 2650, 4, 3, 2], [1, 975, 3, 2, 2], [1, 1325, 3, 4, 3], [1, 700, 2, 2, 2], [1, 700, 2, 2, 3], [1, 850, 2, 2, 2], [1, 305, 1, 1, 1], [1, 850, 2, 2, 1], [1, 724, 2, 2, 1], [1, 650, 2, 2, 3], [1, 650, 2, 2, 1], [1, 700, 2, 2, 1], [1, 785, 2, 2, 3], [1, 1250, 3, 3, 2], [1, 1016, 4, 3, 1], [1, 380, 1, 2, 1], [1, 475, 1, 1, 1], [1, 444, 1, 2, 1], [1, 640, 2, 2, 1], [1, 320, 1, 1, 1], [1, 1100, 3, 4, 1], [1, 1500, 4, 3, 3], [1, 650, 2, 2, 2], [1, 508, 1, 2, 2], [1, 2500, 4, 4, 3], [1, 720, 2, 2, 1], [1, 750, 2, 2, 1], [1, 430, 1, 1, 1], [1, 623, 2, 2, 1], [1, 1358, 3, 4, 2], [1, 1000, 3, 3, 2], [1, 1100, 3, 3, 1], [1, 1255, 3, 3, 3], [1, 450, 1, 2, 3], [1, 650, 2, 2, 3], [1, 955, 2, 2, 2], [1, 700, 2, 2, 1], [1, 1915, 3, 4, 2], [1, 2308, 4, 6, 2], [1, 1250, 3, 3, 2], [1, 625, 2, 2, 2], [1, 2200, 4, 4, 3], [1, 870, 2, 2, 3], [1, 1300, 3, 3, 2], [1, 750, 2, 2, 1], [1, 750, 2, 2, 3], [1, 550, 2, 2, 3], [1, 1250, 4, 4, 3], [1, 1400, 3, 3, 2], [1, 1330, 3, 4, 2], [1, 1000, 3, 3, 2], [1, 770, 2, 2, 1], [1, 800, 2, 2, 1], [1, 1691, 4, 6, 2], [1, 550, 1, 2, 3], [1, 800, 2, 2, 1], [1, 615, 2, 2, 1], [1, 663, 2, 2, 1], [1, 400, 1, 1, 2], [1, 625, 2, 2, 3], [1, 1432, 4, 3, 1], [1, 425, 1, 1, 1], [1, 649, 2, 2, 2], [1, 905, 2, 2, 1], [1, 882, 2, 2, 1], [1, 1200, 3, 3, 3], [1, 736, 2, 2, 1], [1, 1710, 3, 3, 3], [1, 225, 1, 1, 1], [1, 720, 2, 2, 1], [1, 555, 1, 1, 1], [1, 415, 1, 1, 1], [1, 649, 2, 2, 2], [1, 1000, 3, 2, 3], [1, 1300, 2, 2, 3], [1, 1065, 2, 2, 3], [1, 854, 2, 2, 2], [1, 1200, 3, 3, 3], [1, 500, 1, 1, 1], [1, 906, 3, 3, 2], [1, 1800, 3, 4, 3], [1, 500, 2, 1, 3], [1, 450, 1, 1, 1], [1, 1130, 3, 3, 2], [1, 495, 1, 2, 3], [1, 407, 1, 2, 1], [1, 1092, 3, 3, 2], [1, 610, 2, 2, 1], [1, 500, 1, 2, 3], [1, 750, 2, 2, 1], [1, 750, 2, 2, 3], [1, 850, 2, 2, 3], [1, 350, 1, 1, 1], [1, 300, 1, 1, 2], [1, 695, 1, 2, 3], [1, 415, 1, 2, 2], [1, 450, 1, 2, 1], [1, 850, 3, 3, 1], [1, 805, 2, 3, 2], [1, 700, 2, 2, 3], [1, 1800, 3, 4, 3], [1, 669, 2, 2, 1], [1, 325, 1, 1, 1], [1, 600, 1, 1, 3], [1, 725, 2, 2, 1], [1, 750, 2, 2, 2], [1, 1050, 3, 3, 2], [1, 600, 2, 2, 1], [1, 1000, 2, 2, 2], [1, 1110, 3, 3, 3], [1, 650, 2, 2, 1], [1, 1100, 3, 3, 2], [1, 1100, 3, 3, 1], [1, 1110, 3, 3, 2], [1, 999, 3, 2, 2], [1, 1000, 3, 3, 3], [1, 2200, 4, 5, 2], [1, 1256, 3, 3, 3], [1, 750, 2, 2, 2], [1, 889, 3, 2, 2], [1, 750, 2, 2, 2], [1, 385, 1, 1, 1], [1, 1454, 4, 4, 1], [1, 480, 1, 2, 2], [1, 660, 2, 2, 2], [1, 1600, 3, 3, 3], [1, 434, 1, 2, 2], [1, 1121, 3, 3, 1], [1, 620, 1, 2, 2], [1, 937, 3, 2, 3], [1, 470, 1, 2, 2], [1, 410, 1, 1, 1], [1, 850, 3, 3, 1], [1, 1500, 3, 4, 3], [1, 888, 2, 2, 3], [1, 380, 1, 2, 1], [1, 360, 1, 1, 1], [1, 565, 1, 2, 3], [1, 2000, 3, 4, 2], [1, 1358, 4, 4, 2], [1, 661, 2, 2, 2], [1, 450, 1, 2, 1], [1, 1300, 3, 3, 1], [1, 600, 2, 2, 3], [1, 900, 2, 3, 2], [1, 379, 1, 1, 2], [1, 805, 2, 3, 2], [1, 650, 1, 2, 3], [1, 500, 1, 2, 2], [1, 480, 1, 2, 3], [1, 550, 2, 2, 2], [1, 1600, 3, 3, 3], [1, 1400, 3, 2, 2], [1, 1500, 3, 2, 2], [1, 1050, 3, 3, 1], [1, 920, 3, 3, 1], [1, 450, 1, 1, 2], [1, 440, 1, 1, 2], [1, 932, 3, 3, 1], [1, 270, 1, 2, 1], [1, 379, 1, 2, 2], [1, 582, 2, 2, 3], [1, 800, 2, 2, 2], [1, 444, 1, 2, 1], [1, 428, 1, 1, 1], [1, 1880, 5, 4, 3], [1, 888, 2, 2, 2], [1, 490, 1, 1, 1], [1, 937, 3, 4, 1], [1, 710, 2, 2, 1], [1, 1617, 4, 5, 2], [1, 836, 2, 2, 1], [1, 1200, 2, 3, 2], [1, 950, 2, 2, 3], [1, 460, 1, 2, 2], [1, 585, 1, 2, 2], [1, 550, 2, 2, 3], [1, 375, 1, 1, 1], [1, 700, 2, 2, 3], [1, 750, 2, 2, 1], [1, 2000, 4, 4, 3], [1, 2046, 4, 5, 2], [1, 750, 2, 2, 2], [1, 730, 2, 2, 1], [1, 750, 2, 2, 2], [1, 229, 1, 1, 2], [1, 910, 2, 2, 1], [1, 1648, 4, 5, 2], [1, 1100, 3, 3, 1], [1, 560, 1, 2, 1], [1, 850, 2, 2, 1], [1, 450, 1, 1, 1], [1, 820, 2, 2, 2], [1, 750, 2, 2, 1], [1, 410, 1, 1, 1], [1, 490, 1, 2, 1], [1, 700, 2, 2, 1], [1, 3000, 5, 5, 2], [1, 560, 1, 1, 3], [1, 650, 2, 2, 1], [1, 520, 1, 1, 2], [1, 850, 2, 2, 1], [1, 777, 2, 2, 3], [1, 771, 2, 2, 1], [1, 400, 1, 1, 1], [1, 600, 2, 2, 3], [1, 390, 1, 2, 2], [1, 3200, 4, 4, 3], [1, 450, 1, 2, 3], [1, 500, 1, 2, 2], [1, 410, 1, 1, 2], [1, 160, 1, 1, 1], [1, 750, 2, 2, 1], [1, 585, 1, 2, 1], [1, 1300, 3, 3, 2], [1, 350, 1, 1, 3], [1, 490, 1, 2, 2], [1, 650, 2, 2, 1], [1, 225, 1, 1, 1], [1, 850, 2, 2, 2], [1, 385, 1, 1, 1], [1, 800, 2, 2, 1], [1, 2500, 4, 4, 3], [1, 1526, 4, 5, 2], [1, 300, 1, 1, 1], [1, 1800, 3, 3, 2], [1, 800, 2, 2, 2], [1, 890, 3, 2, 3], [1, 700, 2, 2, 1], [1, 465, 1, 1, 2], [1, 900, 2, 2, 3], [1, 1073, 3, 3, 2], [1, 450, 1, 1, 1], [1, 1350, 3, 3, 3], [1, 800, 2, 2, 3], [1, 600, 2, 2, 1], [1, 650, 2, 2, 1], [1, 550, 2, 2, 3], [1, 840, 1, 2, 1], [1, 1121, 3, 2, 3], [1, 650, 2, 2, 1], [1, 575, 1, 1, 1], [1, 475, 1, 1, 3], [1, 830, 2, 2, 2], [1, 1337, 3, 3, 2], [1, 420, 1, 2, 2], [1, 310, 1, 1, 1], [1, 1800, 3, 4, 3], [1, 967, 3, 3, 3], [1, 505, 1, 1, 2], [1, 275, 1, 1, 1], [1, 640, 2, 2, 2], [1, 1500, 3, 3, 2], [1, 850, 2, 2, 2], [1, 900, 2, 2, 2], [1, 430, 1, 2, 3], [1, 1649, 4, 3, 2], [1, 1100, 3, 3, 1], [1, 1200, 3, 3, 2], [1, 680, 2, 2, 1], [1, 600, 2, 2, 2], [1, 1560, 4, 4, 1], [1, 4500, 5, 5, 3], [1, 771, 2, 2, 1], [1, 800, 2, 2, 2], [1, 800, 2, 2, 2], [1, 1425, 3, 4, 3], [1, 1750, 4, 4, 2], [1, 475, 1, 2, 1], [1, 2000, 4, 5, 1], [1, 1375, 3, 3, 2], [1, 2800, 5, 5, 2], [1, 650, 1, 1, 2], [1, 600, 2, 2, 1], [1, 649, 1, 1, 1], [1, 950, 2, 2, 3], [1, 225, 1, 1, 1], [1, 1000, 2, 2, 3], [1, 330, 1, 1, 3], [1, 1200, 3, 3, 3], [1, 1270, 3, 3, 2], [1, 920, 3, 3, 1], [1, 630, 2, 2, 1], [1, 670, 2, 2, 3], [1, 450, 1, 1, 3], [1, 265, 1, 1, 1], [1, 600, 2, 2, 2], [1, 670, 2, 2, 1], [1, 650, 2, 2, 2], [1, 422, 1, 2, 2], [1, 955, 2, 2, 1], [1, 1100, 3, 3, 3], [1, 300, 1, 1, 1], [1, 900, 2, 2, 2], [1, 785, 2, 2, 1], [1, 1350, 3, 3, 3], [1, 900, 2, 2, 2], [1, 400, 1, 1, 1], [1, 800, 2, 3, 2], [1, 895, 2, 2, 2], [1, 625, 1, 1, 2], [1, 720, 2, 2, 2], [1, 750, 2, 2, 3], [1, 1663, 3, 2, 2], [1, 660, 2, 2, 2], [1, 700, 2, 2, 3], [1, 377, 1, 2, 1], [1, 650, 2, 2, 2], [1, 650, 2, 2, 1], [1, 2080, 4, 5, 2], [1, 700, 2, 2, 2], [1, 430, 1, 1, 3], [1, 650, 2, 2, 1], [1, 890, 3, 2, 3], [1, 965, 2, 2, 1], [1, 630, 1, 2, 2], [1, 2100, 4, 4, 2], [1, 1100, 3, 3, 3], [1, 730, 2, 2, 2], [1, 1380, 3, 3, 2], [1, 1100, 3, 3, 2], [1, 450, 1, 1, 2], [1, 500, 1, 1, 1], [1, 1100, 3, 3, 2], [1, 868, 3, 3, 1], [1, 750, 2, 2, 2], [1, 540, 1, 2, 1], [1, 2100, 4, 5, 3], [1, 450, 1, 2, 2], [1, 1600, 3, 4, 2], [1, 560, 1, 2, 2], [1, 500, 1, 1, 1], [1, 305, 1, 1, 1], [1, 970, 3, 2, 3], [1, 480, 1, 1, 1], [1, 720, 2, 2, 2], [1, 950, 2, 2, 2], [1, 3200, 4, 4, 3], [1, 1450, 3, 3, 3], [1, 774, 2, 2, 2], [1, 450, 1, 1, 1], [1, 1000, 3, 3, 2], [1, 340, 1, 1, 2], [1, 430, 1, 2, 2], [1, 722, 2, 2, 1], [1, 1152, 3, 2, 3], [1, 641, 1, 1, 1], [1, 810, 2, 2, 3], [1, 800, 2, 2, 3], [1, 875, 2, 2, 1], [1, 700, 2, 2, 1], [1, 420, 1, 1, 2], [1, 1400, 3, 3, 3], [1, 758, 2, 2, 2], [1, 2880, 4, 5, 1], [1, 480, 1, 2, 3], [1, 550, 1, 2, 1], [1, 900, 2, 2, 2], [1, 400, 1, 1, 1], [1, 760, 2, 2, 2], [1, 2800, 4, 5, 1], [1, 400, 1, 1, 2], [1, 1962, 4, 5, 2], [1, 1100, 3, 3, 2], [1, 800, 2, 2, 2], [1, 590, 2, 2, 1], [1, 600, 2, 2, 2], [1, 2500, 4, 6, 2], [1, 670, 2, 2, 1], [1, 960, 2, 2, 2], [1, 1500, 2, 3, 2], [1, 500, 1, 1, 2], [1, 1120, 3, 2, 3], [1, 2729, 4, 5, 2], [1, 3354, 3, 3, 3], [1, 800, 2, 2, 2], [1, 1000, 2, 2, 2], [1, 1040, 2, 2, 3], [1, 1403, 3, 3, 2], [1, 600, 2, 1, 3], [1, 2608, 4, 3, 2], [1, 850, 2, 2, 2], [1, 400, 1, 1, 1], [1, 1000, 2, 2, 2], [1, 1350, 3, 3, 2], [1, 800, 2, 2, 2], [1, 350, 1, 1, 2], [1, 900, 1, 1, 2], [1, 2000, 3, 3, 2], [1, 700, 2, 2, 2], [1, 600, 1, 1, 2], [1, 700, 2, 1, 2], [1, 600, 1, 1, 2], [1, 1400, 2, 3, 3], [1, 600, 1, 1, 1], [1, 770, 2, 2, 3], [1, 900, 2, 2, 2], [1, 500, 1, 1, 3], [1, 1100, 2, 2, 1], [1, 500, 1, 1, 2], [1, 1260, 3, 3, 3], [1, 1750, 3, 3, 2], [1, 600, 1, 1, 2], [1, 450, 1, 1, 2], [1, 800, 2, 1, 2], [1, 400, 1, 1, 1], [1, 600, 2, 2, 1], [1, 400, 1, 1, 1], [1, 900, 2, 2, 3], [1, 1200, 2, 1, 2], [1, 1045, 2, 2, 2], [1, 1021, 3, 3, 3], [1, 1200, 3, 2, 1], [1, 1000, 2, 1, 1], [1, 1280, 2, 2, 3], [1, 450, 1, 1, 2], [1, 450, 2, 2, 1], [1, 600, 1, 2, 2], [1, 800, 2, 2, 2], [1, 500, 1, 1, 1], [1, 1680, 3, 3, 2], [1, 2000, 3, 3, 2], [1, 500, 1, 1, 2], [1, 500, 1, 1, 2], [1, 800, 1, 1, 1], [1, 1100, 2, 2, 2], [1, 1200, 2, 2, 2], [1, 500, 1, 1, 1], [1, 1155, 2, 2, 2], [1, 440, 1, 1, 2], [1, 1040, 2, 2, 2], [1, 2900, 4, 4, 3], [1, 1200, 3, 2, 2], [1, 1600, 3, 3, 2], [1, 3150, 4, 4, 1], [1, 1000, 2, 2, 2], [1, 1200, 2, 2, 2], [1, 400, 1, 1, 2], [1, 950, 2, 3, 3], [1, 530, 2, 1, 2], [1, 300, 1, 1, 1], [1, 1000, 2, 2, 2], [1, 450, 1, 1, 1], [1, 600, 1, 1, 2], [1, 1100, 2, 2, 1], [1, 400, 1, 1, 1], [1, 700, 2, 2, 1], [1, 1105, 2, 2, 2], [1, 1430, 3, 2, 2], [1, 850, 2, 2, 2], [1, 650, 1, 1, 1], [1, 1200, 2, 2, 1], [1, 600, 2, 2, 1], [1, 400, 1, 1, 2], [1, 2800, 4, 4, 3], [1, 1100, 2, 2, 2], [1, 900, 2, 2, 1], [1, 1300, 3, 2, 2], [1, 1000, 2, 3, 2], [1, 1000, 3, 3, 3], [1, 900, 2, 2, 1], [1, 800, 1, 1, 1], [1, 750, 2, 2, 1], [1, 1100, 2, 2, 1], [1, 1200, 2, 2, 2], [1, 1000, 2, 2, 2], [1, 1000, 2, 2, 2], [1, 2000, 3, 3, 2], [1, 550, 1, 1, 2], [1, 1130, 2, 2, 1], [1, 600, 2, 2, 2], [1, 100, 1, 1, 2], [1, 500, 2, 1, 2], [1, 600, 1, 1, 1], [1, 1200, 2, 2, 2], [1, 850, 2, 2, 2], [1, 600, 1, 1, 1], [1, 600, 2, 1, 1], [1, 700, 2, 1, 2], [1, 400, 1, 1, 1], [1, 400, 1, 1, 2], [1, 1000, 2, 2, 1], [1, 1200, 2, 2, 2], [1, 1603, 3, 3, 2], [1, 1200, 3, 3, 2], [1, 420, 1, 1, 2], [1, 1200, 2, 2, 2], [1, 1771, 3, 3, 2], [1, 1200, 3, 3, 2], [1, 700, 2, 1, 1], [1, 610, 1, 1, 2], [1, 800, 1, 1, 1], [1, 550, 1, 1, 2], [1, 750, 2, 1, 2], [1, 700, 2, 2, 2], [1, 600, 1, 1, 2], [1, 360, 1, 1, 1], [1, 800, 2, 2, 1], [1, 3700, 4, 5, 2], [1, 1200, 2, 2, 1], [1, 480, 1, 1, 3], [1, 1000, 2, 2, 2], [1, 800, 1, 1, 2], [1, 900, 3, 2, 3], [1, 1450, 3, 3, 2], [1, 400, 1, 1, 1], [1, 700, 2, 2, 2], [1, 1000, 2, 2, 2], [1, 450, 1, 1, 3], [1, 773, 3, 2, 2], [1, 1200, 2, 2, 2], [1, 1000, 2, 2, 1], [1, 150, 1, 1, 1], [1, 865, 2, 2, 2], [1, 600, 1, 1, 2], [1, 800, 2, 1, 2], [1, 200, 1, 1, 2], [1, 600, 1, 2, 1], [1, 1840, 3, 2, 2], [1, 800, 2, 2, 2], [1, 1600, 3, 2, 2], [1, 600, 2, 1, 1], [1, 1100, 2, 2, 1], [1, 950, 2, 2, 2], [1, 905, 2, 2, 2], [1, 1200, 3, 2, 2], [1, 1000, 3, 1, 2], [1, 1080, 2, 2, 3], [1, 600, 1, 1, 2], [1, 1000, 2, 2, 2], [1, 600, 1, 1, 2], [1, 1100, 2, 2, 2], [1, 300, 1, 1, 1], [1, 1200, 2, 1, 3], [1, 800, 2, 1, 3], [1, 535, 2, 1, 1], [1, 800, 2, 2, 1], [1, 1159, 3, 2, 1], [1, 2650, 4, 5, 1], [1, 50, 1, 1, 2], [1, 700, 2, 1, 1], [1, 550, 1, 1, 2], [1, 700, 1, 1, 2], [1, 600, 2, 2, 1], [1, 600, 2, 1, 2], [1, 1000, 2, 1, 2], [1, 1100, 2, 3, 2], [1, 750, 1, 1, 2], [1, 2900, 4, 4, 3], [1, 990, 2, 2, 1], [1, 1300, 2, 2, 3], [1, 550, 1, 1, 2], [1, 1360, 3, 2, 2], [1, 600, 2, 2, 2], [1, 1200, 2, 2, 2], [1, 1050, 2, 2, 2], [1, 840, 2, 2, 2], [1, 1050, 2, 2, 2], [1, 3250, 3, 4, 3], [1, 500, 1, 1, 1], [1, 900, 2, 1, 2], [1, 1300, 2, 2, 2], [1, 600, 2, 1, 1], [1, 900, 2, 1, 2], [1, 1100, 2, 2, 2], [1, 1100, 2, 2, 2], [1, 600, 1, 1, 1], [1, 1250, 2, 2, 1], [1, 415, 1, 1, 2], [1, 1200, 3, 3, 3], [1, 1200, 3, 2, 1], [1, 1000, 2, 2, 2], [1, 1300, 2, 2, 3], [1, 1150, 2, 2, 1], [1, 450, 1, 1, 2], [1, 600, 1, 1, 2], [1, 1000, 2, 2, 2], [1, 1900, 3, 3, 1], [1, 1700, 3, 3, 2], [1, 1100, 2, 2, 2], [1, 500, 1, 1, 2], [1, 1757, 3, 3, 2], [1, 300, 1, 1, 2], [1, 500, 1, 1, 2], [1, 1200, 2, 2, 1], [1, 800, 1, 1, 2], [1, 1281, 3, 3, 2], [1, 1450, 2, 2, 2], [1, 600, 1, 1, 2], [1, 980, 2, 2, 3], [1, 1500, 3, 3, 2], [1, 1800, 3, 3, 2], [1, 400, 1, 1, 1], [1, 600, 1, 1, 1], [1, 1100, 2, 2, 2], [1, 1100, 2, 2, 2], [1, 3500, 4, 5, 2], [1, 1100, 2, 2, 1], [1, 700, 2, 2, 2], [1, 600, 1, 1, 1], [1, 700, 2, 2, 1], [1, 250, 1, 1, 2], [1, 1200, 2, 1, 2], [1, 1450, 3, 3, 2], [1, 1221, 2, 2, 1], [1, 1250, 2, 2, 2], [1, 700, 2, 1, 2], [1, 700, 2, 2, 2], [1, 200, 1, 1, 2], [1, 1200, 2, 2, 2], [1, 600, 2, 2, 2], [1, 600, 1, 1, 2], [1, 1800, 3, 3, 2], [1, 900, 2, 2, 1], [1, 1000, 2, 2, 2], [1, 500, 2, 2, 2], [1, 1800, 3, 3, 2], [1, 416, 1, 1, 1], [1, 600, 2, 1, 2], [1, 400, 1, 1, 1], [1, 1200, 3, 2, 2], [1, 1600, 3, 3, 2], [1, 500, 1, 1, 2], [1, 500, 1, 1, 2], [1, 1800, 3, 3, 2], [1, 900, 2, 2, 3], [1, 550, 1, 1, 2], [1, 600, 1, 1, 1], [1, 1800, 3, 3, 1], [1, 976, 2, 1, 2], [1, 350, 1, 1, 2], [1, 1100, 2, 2, 2], [1, 500, 2, 1, 1], [1, 600, 1, 1, 2], [1, 1100, 2, 2, 2], [1, 1150, 2, 2, 3], [1, 850, 2, 2, 2], [1, 600, 1, 1, 2], [1, 900, 2, 2, 2], [1, 300, 1, 1, 2], [1, 1130, 2, 2, 2], [1, 1200, 2, 2, 1], [1, 1000, 2, 2, 2], [1, 1700, 3, 3, 3], [1, 1100, 2, 2, 2], [1, 300, 1, 1, 2], [1, 600, 1, 1, 1], [1, 1000, 1, 2, 2], [1, 1200, 2, 2, 1], [1, 500, 1, 1, 2], [1, 1050, 2, 2, 2], [1, 350, 1, 1, 1], [1, 1000, 2, 2, 2], [1, 600, 1, 1, 2], [1, 150, 1, 1, 1], [1, 1400, 2, 2, 3], [1, 1387, 2, 3, 2], [1, 1350, 3, 2, 3], [1, 1020, 2, 2, 1], [1, 600, 1, 1, 2], [1, 400, 1, 1, 2], [1, 550, 1, 1, 2], [1, 1400, 3, 2, 3], [1, 1050, 2, 2, 2], [1, 800, 2, 2, 1], [1, 1100, 2, 2, 1], [1, 1500, 3, 2, 2], [1, 800, 1, 1, 2], [1, 800, 2, 1, 2], [1, 1200, 2, 2, 2], [1, 450, 1, 1, 1], [1, 1425, 3, 2, 2], [1, 720, 2, 2, 2], [1, 700, 1, 1, 2], [1, 1100, 2, 2, 2], [1, 1645, 3, 3, 2], [1, 3276, 3, 3, 2], [1, 500, 1, 1, 1], [1, 600, 2, 2, 3], [1, 600, 1, 1, 2], [1, 1893, 3, 4, 2], [1, 450, 1, 1, 1], [1, 650, 1, 1, 2], [1, 400, 1, 1, 1], [1, 1296, 2, 2, 2], [1, 1000, 2, 2, 2], [1, 600, 1, 1, 1], [1, 600, 1, 1, 3], [1, 4800, 4, 4, 2], [1, 1000, 2, 1, 2], [1, 800, 1, 1, 1], [1, 455, 1, 1, 2], [1, 575, 2, 2, 2], [1, 1066, 2, 2, 1], [1, 850, 2, 1, 2], [1, 1550, 3, 3, 2], [1, 1000, 2, 2, 2], [1, 800, 2, 1, 2], [1, 450, 1, 1, 2], [1, 1350, 2, 2, 2], [1, 1350, 2, 2, 2], [1, 600, 1, 1, 2], [1, 2150, 3, 3, 2], [1, 1080, 2, 2, 2], [1, 1450, 3, 3, 2], [1, 700, 2, 2, 1], [1, 1200, 2, 2, 2], [1, 2110, 3, 3, 1], [1, 500, 1, 1, 2], [1, 850, 2, 1, 2], [1, 400, 1, 1, 1], [1, 800, 1, 1, 3], [1, 600, 1, 1, 2], [1, 450, 1, 1, 1], [1, 2080, 3, 3, 2], [1, 2500, 3, 3, 2], [1, 650, 2, 1, 2], [1, 1100, 2, 2, 2], [1, 1025, 2, 2, 2], [1, 1100, 2, 2, 2], [1, 350, 1, 1, 1], [1, 1050, 2, 2, 3], [1, 600, 2, 1, 2], [1, 800, 2, 2, 2], [1, 700, 2, 2, 2], [1, 750, 3, 2, 2], [1, 1600, 3, 3, 2], [1, 1180, 2, 2, 2], [1, 1400, 2, 2, 2], [1, 750, 1, 1, 2], [1, 580, 2, 1, 2], [1, 350, 1, 1, 1], [1, 1100, 2, 2, 2], [1, 1900, 3, 3, 1], [1, 1105, 2, 2, 3], [1, 1080, 2, 2, 3], [1, 1281, 2, 2, 2], [1, 600, 1, 1, 2], [1, 850, 2, 2, 2], [1, 1200, 2, 2, 2], [1, 900, 2, 2, 3], [1, 1250, 3, 3, 2], [1, 800, 2, 2, 1], [1, 500, 1, 1, 1], [1, 600, 2, 2, 2], [1, 904, 3, 2, 3], [1, 750, 2, 2, 2], [1, 1252, 3, 2, 2], [1, 1200, 2, 2, 2], [1, 440, 2, 2, 3], [1, 1600, 3, 3, 2], [1, 1200, 2, 2, 3], [1, 950, 2, 2, 2], [1, 800, 2, 2, 1], [1, 1000, 2, 1, 2], [1, 2770, 3, 3, 2], [1, 800, 2, 1, 2], [1, 400, 1, 1, 2], [1, 144, 1, 1, 2], [1, 600, 1, 1, 3], [1, 2200, 3, 3, 2], [1, 1005, 2, 3, 2], [1, 1200, 2, 2, 2], [1, 1180, 2, 2, 2], [1, 900, 2, 2, 2], [1, 500, 1, 1, 2], [1, 1100, 3, 2, 2], [1, 1100, 2, 2, 2], [1, 400, 1, 1, 2], [1, 1250, 2, 2, 2], [1, 600, 2, 2, 1], [1, 780, 2, 1, 2], [1, 1274, 2, 2, 2], [1, 1200, 2, 2, 3], [1, 400, 1, 1, 1], [1, 500, 1, 1, 1], [1, 1100, 3, 3, 2], [1, 700, 1, 1, 1], [1, 600, 2, 1, 2], [1, 1200, 2, 2, 2], [1, 900, 2, 2, 2], [1, 1850, 3, 3, 2], [1, 900, 2, 2, 1], [1, 1050, 2, 2, 2], [1, 1200, 2, 2, 2], [1, 600, 2, 2, 1], [1, 1480, 3, 2, 3], [1, 400, 1, 1, 2], [1, 4500, 4, 4, 1], [1, 600, 1, 1, 2], [1, 1100, 2, 2, 1], [1, 600, 1, 1, 1], [1, 1100, 3, 3, 2], [1, 1320, 3, 2, 2], [1, 500, 2, 1, 1], [1, 600, 1, 1, 1], [1, 650, 2, 1, 1], [1, 300, 1, 1, 1], [1, 1000, 2, 2, 1], [1, 1200, 2, 2, 2], [1, 650, 1, 1, 2], [1, 600, 1, 1, 1], [1, 400, 1, 1, 2], [1, 1000, 2, 2, 3], [1, 1100, 2, 2, 2], [1, 1300, 2, 2, 1], [1, 600, 1, 1, 1], [1, 800, 2, 2, 2], [1, 1115, 2, 2, 3], [1, 1060, 2, 2, 1], [1, 1278, 3, 2, 2], [1, 1500, 3, 3, 2], [1, 1000, 2, 2, 2], [1, 4105, 4, 4, 2], [1, 800, 2, 2, 2], [1, 500, 2, 1, 2], [1, 700, 2, 1, 2], [1, 1055, 2, 2, 2], [1, 1325, 3, 2, 2], [1, 950, 2, 2, 1], [1, 450, 1, 1, 2], [1, 1200, 3, 2, 2], [1, 400, 1, 1, 2], [1, 400, 1, 1, 2], [1, 600, 2, 2, 2], [1, 500, 1, 1, 1], [1, 400, 1, 1, 1], [1, 1100, 2, 2, 3], [1, 650, 2, 2, 2], [1, 600, 2, 2, 2], [1, 800, 2, 2, 3], [1, 460, 1, 1, 2], [1, 1380, 2, 2, 2], [1, 500, 1, 1, 2], [1, 825, 2, 2, 1], [1, 700, 2, 2, 2], [1, 1110, 2, 2, 1], [1, 800, 2, 2, 2], [1, 810, 2, 1, 2], [1, 1150, 4, 3, 2], [1, 700, 1, 1, 2], [1, 300, 1, 1, 1], [1, 1400, 3, 3, 2], [1, 450, 1, 1, 1], [1, 1603, 3, 3, 2], [1, 1500, 3, 2, 2], [1, 200, 1, 1, 2], [1, 1500, 3, 3, 3], [1, 600, 1, 1, 2], [1, 150, 1, 1, 3], [1, 750, 2, 2, 2], [1, 1300, 2, 2, 2], [1, 1900, 4, 3, 1], [1, 300, 2, 2, 2], [1, 700, 1, 2, 2], [1, 1325, 2, 2, 2], [1, 894, 2, 2, 1], [1, 1100, 2, 2, 2], [1, 600, 2, 2, 1], [1, 500, 1, 1, 3], [1, 1000, 2, 2, 3], [1, 850, 2, 2, 2], [1, 400, 1, 1, 2], [1, 2400, 3, 4, 2], [1, 1200, 2, 2, 2], [1, 500, 1, 1, 1], [1, 550, 1, 1, 2], [1, 450, 1, 1, 2], [1, 430, 1, 1, 2], [1, 2430, 3, 3, 2], [1, 500, 1, 2, 3], [1, 600, 2, 1, 2], [1, 805, 2, 2, 3], [1, 950, 2, 2, 2], [1, 1000, 2, 2, 1], [1, 1350, 3, 3, 3], [1, 1500, 3, 2, 3], [1, 1000, 2, 2, 1], [1, 800, 3, 3, 2], [1, 1000, 2, 1, 1], [1, 800, 2, 2, 3], [1, 1550, 3, 3, 2], [1, 1000, 2, 2, 1], [1, 800, 2, 2, 1], [1, 700, 1, 1, 3], [1, 500, 2, 2, 3], [1, 500, 1, 1, 2], [1, 900, 2, 2, 2], [1, 1200, 3, 2, 1], [1, 1000, 2, 2, 2], [1, 1680, 3, 3, 1], [1, 1100, 2, 2, 2], [1, 1200, 2, 1, 3], [1, 900, 1, 2, 2], [1, 1600, 3, 3, 2], [1, 1475, 2, 2, 3], [1, 300, 1, 1, 1], [1, 400, 1, 1, 1], [1, 550, 1, 1, 2], [1, 400, 1, 1, 1], [1, 500, 1, 1, 1], [1, 1200, 3, 3, 1], [1, 1300, 2, 2, 2], [1, 2100, 3, 3, 3], [1, 800, 2, 1, 2], [1, 800, 2, 1, 2], [1, 4341, 4, 4, 2], [1, 1300, 2, 2, 2], [1, 400, 1, 1, 2], [1, 800, 2, 2, 1], [1, 1000, 2, 1, 1], [1, 400, 1, 1, 2], [1, 1100, 2, 2, 2], [1, 1200, 2, 2, 2], [1, 600, 2, 2, 2], [1, 1700, 2, 2, 2], [1, 846, 2, 2, 2], [1, 1100, 2, 2, 1], [1, 700, 2, 1, 2], [1, 110, 2, 2, 1], [1, 900, 3, 3, 2], [1, 420, 1, 1, 2], [1, 800, 2, 2, 2], [1, 1500, 3, 3, 2], [1, 900, 1, 1, 2], [1, 1600, 3, 3, 2], [1, 5700, 4, 4, 2], [1, 625, 1, 1, 1], [1, 1760, 4, 3, 1], [1, 600, 2, 1, 3], [1, 1200, 2, 2, 2], [1, 300, 1, 1, 1], [1, 900, 2, 1, 3], [1, 450, 1, 1, 2], [1, 1050, 2, 2, 2], [1, 580, 1, 1, 2], [1, 600, 2, 2, 1], [1, 550, 1, 1, 2], [1, 1115, 2, 2, 2], [1, 300, 1, 1, 2], [1, 1200, 2, 2, 2], [1, 900, 1, 1, 2], [1, 1400, 3, 3, 2], [1, 400, 1, 1, 2], [1, 900, 2, 1, 2], [1, 500, 1, 1, 2], [1, 1360, 3, 2, 2], [1, 1110, 3, 2, 2], [1, 2400, 3, 3, 2], [1, 1700, 3, 3, 2], [1, 980, 2, 2, 3], [1, 600, 2, 2, 2], [1, 200, 2, 2, 3], [1, 1300, 3, 2, 2], [1, 750, 1, 1, 1], [1, 850, 2, 2, 1], [1, 600, 1, 1, 2], [1, 3100, 4, 4, 2], [1, 660, 2, 1, 1], [1, 600, 2, 1, 2], [1, 250, 1, 1, 1], [1, 1200, 2, 2, 1], [1, 630, 2, 2, 2], [1, 840, 2, 1, 2], [1, 500, 2, 1, 1], [1, 1680, 3, 3, 2], [1, 775, 2, 1, 2], [1, 1000, 2, 2, 2], [1, 900, 2, 2, 2], [1, 500, 1, 1, 2], [1, 550, 1, 1, 2], [1, 1250, 3, 3, 2], [1, 850, 2, 2, 2], [1, 150, 1, 1, 2], [1, 445, 1, 1, 2], [1, 500, 2, 2, 2], [1, 750, 2, 2, 2], [1, 2000, 3, 2, 2], [1, 500, 1, 1, 2], [1, 730, 1, 1, 2], [1, 750, 2, 2, 2], [1, 600, 1, 1, 2], [1, 2710, 3, 3, 2], [1, 1190, 2, 2, 2], [1, 435, 1, 1, 2], [1, 750, 2, 2, 1], [1, 1800, 3, 3, 2], [1, 1200, 1, 1, 3], [1, 600, 2, 1, 2], [1, 450, 1, 1, 1], [1, 1100, 3, 3, 1], [1, 700, 1, 1, 1], [1, 650, 2, 2, 3], [1, 1768, 3, 3, 2], [1, 1600, 3, 3, 2], [1, 400, 1, 1, 2], [1, 1200, 2, 2, 2], [1, 500, 1, 1, 2], [1, 700, 2, 2, 1], [1, 2500, 4, 4, 2], [1, 500, 1, 1, 2], [1, 500, 1, 1, 2], [1, 500, 1, 1, 2], [1, 1280, 2, 2, 1], [1, 200, 2, 1, 2], [1, 750, 2, 2, 1], [1, 900, 2, 2, 2], [1, 1200, 3, 2, 2], [1, 800, 1, 1, 1], [1, 500, 2, 1, 1], [1, 1000, 2, 2, 2], [1, 850, 2, 2, 2], [1, 900, 2, 2, 2], [1, 600, 1, 1, 2], [1, 600, 1, 1, 1], [1, 600, 1, 1, 1], [1, 1250, 3, 2, 2], [1, 2000, 3, 3, 2], [1, 532, 2, 1, 1], [1, 1000, 2, 2, 1], [1, 150, 1, 1, 1], [1, 500, 1, 1, 2], [1, 600, 1, 1, 2], [1, 1100, 2, 2, 3], [1, 1500, 3, 3, 2], [1, 500, 2, 1, 2], [1, 600, 1, 1, 2], [1, 1200, 2, 1, 1], [1, 1100, 2, 2, 2], [1, 1550, 3, 3, 2], [1, 1050, 2, 2, 2], [1, 500, 1, 1, 2], [1, 1500, 2, 2, 2], [1, 1150, 2, 2, 2], [1, 2000, 4, 3, 3], [1, 110, 2, 1, 2], [1, 500, 1, 1, 2], [1, 1465, 3, 3, 2], [1, 940, 2, 2, 2], [1, 850, 2, 1, 2], [1, 990, 2, 2, 3], [1, 750, 2, 2, 2], [1, 500, 1, 1, 2], [1, 1430, 3, 2, 2], [1, 600, 1, 1, 2], [1, 900, 2, 1, 2], [1, 1100, 2, 2, 2], [1, 900, 2, 1, 2], [1, 600, 1, 1, 2], [1, 1000, 2, 2, 2], [1, 1150, 2, 2, 3], [1, 1250, 2, 2, 2], [1, 1000, 2, 2, 2], [1, 500, 1, 1, 2], [1, 2000, 3, 3, 2], [1, 850, 2, 2, 2], [1, 990, 2, 2, 2], [1, 850, 2, 1, 2], [1, 1000, 2, 2, 2], [1, 650, 2, 2, 2], [1, 400, 1, 1, 2], [1, 1000, 2, 2, 2], [1, 1350, 2, 2, 2], [1, 600, 2, 2, 2], [1, 4000, 4, 5, 3], [1, 950, 2, 2, 1], [1, 777, 2, 2, 2], [1, 1200, 3, 2, 2], [1, 1600, 2, 3, 3], [1, 1500, 3, 3, 2], [1, 570, 2, 2, 2], [1, 1800, 3, 3, 2], [1, 1100, 2, 1, 2], [1, 400, 1, 1, 1], [1, 750, 1, 1, 2], [1, 1400, 2, 2, 3], [1, 1789, 3, 3, 2], [1, 650, 2, 1, 2], [1, 1200, 2, 2, 2], [1, 460, 1, 1, 2], [1, 500, 2, 1, 2], [1, 1080, 2, 2, 2], [1, 2000, 3, 2, 3], [1, 1100, 2, 2, 2], [1, 1025, 2, 2, 1], [1, 650, 2, 2, 1], [1, 800, 2, 1, 2], [1, 2800, 3, 3, 3], [1, 1100, 2, 2, 3], [1, 1300, 3, 3, 2], [1, 2000, 3, 3, 2], [1, 2500, 3, 3, 1], [1, 600, 2, 2, 2], [1, 630, 2, 2, 3], [1, 550, 2, 2, 1], [1, 1025, 2, 2, 2], [1, 500, 1, 1, 2], [1, 1286, 3, 3, 2], [1, 800, 1, 1, 2], [1, 900, 2, 2, 2], [1, 1618, 3, 3, 2], [1, 500, 1, 1, 2], [1, 450, 1, 1, 2], [1, 850, 2, 2, 2], [1, 1374, 3, 2, 2], [1, 1600, 3, 3, 2], [1, 400, 1, 1, 2], [1, 1500, 3, 3, 3], [1, 800, 2, 1, 1], [1, 1580, 3, 3, 1], [1, 700, 2, 1, 2], [1, 700, 2, 1, 2], [1, 550, 1, 1, 2], [1, 450, 1, 1, 2], [1, 4550, 4, 5, 2], [1, 400, 1, 1, 2], [1, 650, 1, 1, 2], [1, 700, 2, 2, 2], [1, 1333, 2, 2, 1], [1, 1500, 3, 2, 2], [1, 425, 1, 1, 2], [1, 300, 1, 1, 1], [1, 650, 2, 2, 1], [1, 800, 2, 2, 2], [1, 1200, 2, 2, 2], [1, 500, 1, 1, 1], [1, 1000, 2, 2, 2], [1, 600, 2, 2, 2], [1, 600, 1, 1, 2], [1, 1875, 3, 2, 2], [1, 1000, 2, 2, 2], [1, 1300, 3, 2, 3], [1, 350, 1, 1, 1], [1, 900, 2, 2, 1], [1, 200, 1, 1, 2], [1, 700, 2, 2, 2], [1, 1000, 2, 2, 2], [1, 1700, 3, 3, 2], [1, 600, 2, 1, 2], [1, 650, 1, 1, 2], [1, 750, 2, 1, 2], [1, 1750, 3, 3, 2], [1, 1950, 3, 3, 2], [1, 1065, 2, 2, 2], [1, 600, 2, 1, 2], [1, 600, 2, 1, 2], [1, 500, 1, 1, 1], [1, 600, 2, 1, 2], [1, 600, 1, 1, 2], [1, 900, 2, 1, 2], [1, 500, 2, 2, 2], [1, 600, 1, 1, 1], [1, 1710, 3, 3, 1], [1, 600, 1, 1, 1], [1, 1100, 3, 2, 2], [1, 920, 2, 2, 2], [1, 750, 1, 1, 2], [1, 300, 1, 1, 2], [1, 1660, 3, 2, 2], [1, 400, 1, 1, 2], [1, 300, 2, 1, 2], [1, 300, 1, 1, 1], [1, 2000, 3, 2, 3], [1, 1200, 3, 3, 2], [1, 300, 1, 1, 2], [1, 700, 1, 1, 1], [1, 850, 2, 3, 2], [1, 700, 1, 1, 3], [1, 455, 1, 1, 2], [1, 1000, 2, 2, 2], [1, 600, 1, 1, 2], [1, 250, 1, 1, 1], [1, 400, 1, 1, 1], [1, 1200, 2, 2, 2], [1, 500, 1, 1, 2], [1, 350, 1, 1, 1], [1, 1100, 2, 2, 2], [1, 1650, 2, 3, 1], [1, 1000, 4, 2, 2], [1, 500, 2, 1, 2], [1, 700, 1, 2, 2], [1, 1200, 2, 2, 1], [1, 600, 1, 1, 1], [1, 925, 2, 2, 1], [1, 2400, 3, 3, 2], [1, 1500, 3, 3, 2], [1, 600, 2, 2, 1], [1, 435, 1, 1, 2], [1, 650, 1, 1, 2], [1, 700, 2, 2, 2], [1, 890, 2, 2, 2], [1, 600, 1, 1, 3], [1, 1250, 2, 2, 2], [1, 1350, 3, 2, 2], [1, 2600, 3, 4, 2], [1, 440, 1, 1, 2], [1, 1150, 2, 2, 2], [1, 450, 1, 1, 2], [1, 1150, 2, 2, 3], [1, 600, 2, 1, 1], [1, 980, 2, 2, 2], [1, 1850, 3, 3, 3], [1, 625, 2, 2, 2], [1, 100, 1, 2, 2], [1, 1200, 2, 1, 2], [1, 1200, 3, 2, 2], [1, 1080, 2, 1, 2], [1, 700, 1, 1, 2], [1, 800, 2, 2, 1], [1, 1880, 3, 2, 2], [1, 1305, 2, 2, 2], [1, 600, 1, 1, 2], [1, 950, 2, 2, 2], [1, 1188, 2, 2, 1], [1, 500, 1, 1, 1], [1, 875, 2, 2, 2], [1, 2100, 3, 3, 1], [1, 1200, 3, 2, 3], [1, 2390, 3, 3, 2], [1, 600, 1, 1, 2], [1, 1150, 2, 2, 2], [1, 1788, 3, 3, 2], [1, 1250, 2, 2, 2], [1, 600, 1, 1, 2], [1, 1600, 3, 2, 2], [1, 1520, 3, 4, 2], [1, 550, 1, 1, 2], [1, 1100, 2, 2, 2], [1, 1100, 2, 2, 2], [1, 1100, 2, 2, 2], [1, 400, 1, 1, 1], [1, 300, 1, 1, 2], [1, 500, 1, 1, 2], [1, 1100, 2, 2, 3], [1, 1000, 2, 2, 1], [1, 850, 2, 2, 2], [1, 1020, 2, 2, 2], [1, 1250, 2, 2, 1], [1, 1400, 3, 3, 2], [1, 600, 1, 1, 1], [1, 200, 1, 1, 1], [1, 300, 1, 1, 1], [1, 400, 1, 1, 3], [1, 450, 1, 1, 2], [1, 1180, 2, 2, 2], [1, 1460, 3, 3, 1], [1, 1464, 3, 3, 2], [1, 700, 2, 2, 2], [1, 680, 2, 2, 2], [1, 2750, 3, 4, 2], [1, 800, 2, 1, 2], [1, 600, 2, 1, 1], [1, 1200, 3, 3, 1], [1, 3200, 4, 3, 2], [1, 1800, 2, 2, 2], [1, 500, 1, 1, 3], [1, 1200, 2, 2, 1], [1, 750, 1, 1, 1], [1, 700, 1, 2, 2], [1, 1000, 2, 2, 1], [1, 800, 2, 2, 2], [1, 200, 1, 1, 3], [1, 1800, 3, 3, 2], [1, 400, 1, 1, 1], [1, 600, 3, 3, 1], [1, 1550, 3, 3, 2], [1, 650, 2, 2, 1], [1, 850, 2, 2, 1], [1, 2000, 4, 4, 1], [1, 180, 1, 1, 1], [1, 140, 3, 2, 2], [1, 450, 1, 1, 2], [1, 2500, 3, 3, 2], [1, 720, 1, 1, 1], [1, 400, 2, 1, 1], [1, 450, 2, 1, 1], [1, 250, 1, 1, 2], [1, 3000, 4, 5, 2], [1, 550, 2, 2, 1], [1, 450, 2, 1, 1], [1, 2500, 3, 3, 1], [1, 800, 4, 4, 1], [1, 100, 2, 2, 1], [1, 400, 1, 1, 3], [1, 750, 2, 2, 2], [1, 400, 1, 1, 2], [1, 1100, 3, 2, 2], [1, 450, 1, 1, 3], [1, 850, 2, 2, 1], [1, 600, 3, 1, 2], [1, 750, 2, 2, 1], [1, 500, 1, 1, 2], [1, 350, 1, 1, 2], [1, 623, 2, 1, 3], [1, 2400, 3, 3, 2], [1, 75, 1, 1, 1], [1, 450, 2, 1, 2], [1, 445, 2, 2, 1], [1, 300, 3, 3, 3], [1, 1670, 3, 3, 2], [1, 550, 1, 1, 2], [1, 350, 1, 1, 2], [1, 650, 2, 2, 2], [1, 70, 2, 1, 2], [1, 100, 2, 2, 2], [1, 800, 3, 1, 1], [1, 60, 2, 1, 1], [1, 2000, 3, 2, 2], [1, 600, 2, 2, 1], [1, 450, 1, 1, 2], [1, 2200, 2, 3, 1], [1, 600, 2, 2, 1], [1, 2000, 4, 3, 2], [1, 800, 2, 2, 2], [1, 170, 3, 2, 1], [1, 150, 2, 2, 1], [1, 650, 2, 2, 1], [1, 1250, 3, 3, 2], [1, 600, 1, 2, 2], [1, 2100, 4, 4, 2], [1, 450, 1, 1, 1], [1, 100, 2, 2, 1], [1, 650, 1, 1, 3], [1, 48, 2, 2, 1], [1, 550, 2, 2, 2], [1, 240, 1, 1, 1], [1, 700, 2, 2, 2], [1, 48, 1, 1, 2], [1, 100, 2, 2, 1], [1, 1901, 3, 3, 2], [1, 50, 1, 1, 1], [1, 1300, 3, 3, 2], [1, 145, 2, 2, 1], [1, 800, 2, 3, 1], [1, 1100, 3, 4, 2], [1, 450, 1, 1, 2], [1, 300, 2, 1, 1], [1, 1040, 2, 3, 2], [1, 25, 1, 1, 1], [1, 900, 2, 2, 2], [1, 1100, 2, 1, 1], [1, 380, 2, 2, 1], [1, 450, 3, 2, 2], [1, 550, 1, 1, 2], [1, 180, 1, 1, 2], [1, 1650, 3, 2, 2], [1, 250, 1, 1, 3], [1, 400, 1, 1, 1], [1, 900, 2, 2, 2], [1, 1900, 3, 3, 3], [1, 892, 3, 2, 1], [1, 400, 1, 1, 2], [1, 100, 3, 2, 1], [1, 60, 2, 1, 1], [1, 80, 2, 2, 2], [1, 450, 2, 1, 2], [1, 520, 1, 1, 2], [1, 350, 1, 1, 3], [1, 600, 2, 2, 2], [1, 950, 3, 2, 3], [1, 450, 2, 1, 2], [1, 450, 1, 1, 2], [1, 850, 2, 2, 2], [1, 200, 1, 1, 1], [1, 3000, 4, 4, 2], [1, 1500, 3, 3, 2], [1, 700, 2, 2, 1], [1, 530, 1, 1, 1], [1, 800, 3, 2, 1], [1, 45, 1, 1, 2], [1, 900, 1, 1, 3], [1, 450, 1, 1, 1], [1, 650, 2, 1, 1], [1, 900, 2, 2, 3], [1, 900, 2, 2, 3], [1, 120, 2, 2, 2], [1, 600, 2, 2, 1], [1, 615, 2, 2, 1], [1, 225, 1, 1, 2], [1, 800, 1, 1, 1], [1, 400, 1, 1, 2], [1, 800, 1, 2, 3], [1, 60, 2, 1, 2], [1, 1000, 3, 2, 1], [1, 75, 3, 1, 1], [1, 800, 3, 2, 1], [1, 200, 1, 1, 3], [1, 800, 3, 2, 1], [1, 80, 2, 2, 1], [1, 900, 2, 2, 1], [1, 1125, 2, 2, 3], [1, 900, 3, 2, 1], [1, 1100, 2, 2, 1], [1, 400, 1, 1, 1], [1, 713, 3, 3, 3], [1, 700, 2, 1, 1], [1, 1000, 2, 2, 2], [1, 54, 1, 1, 2], [1, 200, 3, 3, 1], [1, 200, 1, 1, 3], [1, 800, 2, 2, 3], [1, 1000, 2, 2, 1], [1, 500, 2, 2, 2], [1, 300, 1, 1, 2], [1, 900, 2, 2, 1], [1, 240, 3, 3, 1], [1, 650, 2, 2, 2], [1, 950, 3, 2, 2], [1, 500, 1, 1, 2], [1, 500, 1, 1, 2], [1, 450, 2, 2, 2], [1, 2800, 4, 4, 2], [1, 150, 2, 1, 2], [1, 400, 1, 1, 3], [1, 100, 3, 2, 3], [1, 400, 1, 1, 2], [1, 900, 2, 2, 2], [1, 1350, 3, 3, 2], [1, 500, 1, 1, 2], [1, 1700, 3, 3, 3], [1, 400, 1, 1, 1], [1, 110, 2, 1, 2], [1, 1200, 3, 2, 2], [1, 50, 2, 2, 2], [1, 100, 3, 2, 2], [1, 1000, 2, 2, 3], [1, 63, 1, 1, 3], [1, 1800, 3, 2, 2], [1, 1440, 2, 2, 2], [1, 55, 2, 2, 1], [1, 1500, 3, 3, 1], [1, 400, 2, 1, 1], [1, 100, 3, 2, 3], [1, 500, 2, 1, 1], [1, 100, 2, 2, 1], [1, 455, 2, 1, 1], [1, 80, 2, 1, 2], [1, 450, 2, 1, 1], [1, 400, 1, 1, 1], [1, 300, 4, 4, 1], [1, 700, 2, 2, 2], [1, 600, 2, 2, 2], [1, 800, 2, 2, 2], [1, 950, 2, 2, 1], [1, 450, 2, 1, 2], [1, 450, 1, 1, 1], [1, 68, 2, 1, 1], [1, 850, 2, 2, 1], [1, 1000, 2, 2, 2], [1, 600, 1, 1, 3], [1, 65, 2, 1, 1], [1, 1700, 3, 3, 2], [1, 1800, 3, 3, 2], [1, 1000, 2, 1, 2], [1, 900, 2, 2, 2], [1, 2300, 4, 4, 2], [1, 75, 2, 2, 1], [1, 200, 3, 3, 2], [1, 200, 1, 1, 1], [1, 200, 1, 1, 1], [1, 450, 2, 1, 2], [1, 750, 2, 2, 3], [1, 400, 2, 1, 1], [1, 84, 2, 2, 2], [1, 90, 2, 2, 1], [1, 90, 2, 2, 2], [1, 500, 2, 2, 2], [1, 75, 2, 2, 1], [1, 512, 1, 1, 3], [1, 1500, 3, 3, 2], [1, 446, 1, 1, 1], [1, 1100, 3, 2, 2], [1, 125, 1, 1, 1], [1, 1800, 3, 3, 3], [1, 1300, 3, 2, 1], [1, 2000, 3, 2, 2], [1, 1200, 2, 2, 3], [1, 125, 3, 2, 1], [1, 730, 2, 2, 1], [1, 160, 2, 2, 2], [1, 1000, 2, 2, 1], [1, 450, 1, 1, 3], [1, 75, 2, 2, 3], [1, 2000, 3, 3, 2], [1, 2400, 4, 3, 1], [1, 1800, 2, 2, 2], [1, 1800, 3, 3, 1], [1, 2200, 3, 3, 1], [1, 2200, 3, 2, 2], [1, 900, 3, 2, 2], [1, 75, 2, 1, 1], [1, 75, 2, 2, 2], [1, 1800, 3, 3, 2], [1, 160, 3, 3, 2], [1, 2700, 4, 4, 2], [1, 1050, 3, 2, 3], [1, 1800, 3, 3, 3], [1, 2700, 2, 2, 3], [1, 499, 1, 1, 2], [1, 450, 1, 1, 1], [1, 60, 1, 1, 1], [1, 2200, 3, 3, 1], [1, 130, 2, 1, 1], [1, 650, 3, 1, 2], [1, 100, 2, 1, 1], [1, 45, 2, 1, 1], [1, 600, 2, 2, 1], [1, 800, 3, 1, 1], [1, 1500, 3, 3, 1], [1, 30, 1, 1, 3], [1, 55, 1, 1, 1], [1, 900, 2, 2, 2], [1, 1000, 2, 1, 1], [1, 360, 1, 1, 2], [1, 450, 1, 1, 3], [1, 900, 2, 2, 2], [1, 1100, 2, 2, 3], [1, 700, 2, 2, 3], [1, 400, 1, 1, 1], [1, 950, 3, 2, 1], [1, 3000, 3, 4, 2], [1, 950, 2, 2, 1], [1, 1100, 3, 3, 2], [1, 497, 1, 1, 1], [1, 100, 3, 2, 2], [1, 70, 2, 2, 2], [1, 55, 2, 2, 1], [1, 300, 1, 1, 1], [1, 400, 1, 1, 1], [1, 500, 2, 2, 2], [1, 650, 4, 2, 3], [1, 630, 1, 1, 3], [1, 450, 1, 1, 1], [1, 500, 2, 1, 2], [1, 200, 5, 5, 1], [1, 95, 2, 1, 2], [1, 272, 4, 3, 3], [1, 800, 2, 2, 1], [1, 50, 2, 2, 1], [1, 400, 1, 1, 3], [1, 450, 1, 1, 1], [1, 1800, 3, 3, 2], [1, 1800, 3, 3, 2], [1, 2000, 3, 3, 2], [1, 2700, 4, 4, 2], [1, 2700, 4, 3, 2], [1, 1800, 3, 3, 2], [1, 2700, 4, 4, 2], [1, 1800, 3, 3, 2], [1, 1800, 3, 3, 2], [1, 1200, 3, 2, 2], [1, 600, 1, 1, 2], [1, 350, 1, 1, 3], [1, 100, 2, 2, 2], [1, 1800, 3, 3, 1], [1, 900, 2, 2, 2], [1, 1150, 3, 2, 1], [1, 1400, 4, 2, 2], [1, 500, 1, 1, 2], [1, 300, 4, 3, 2], [1, 1800, 3, 3, 2], [1, 500, 1, 1, 1], [1, 500, 1, 1, 1], [1, 80, 2, 2, 2], [1, 1000, 2, 2, 2], [1, 1600, 3, 2, 1], [1, 1800, 4, 4, 2], [1, 400, 2, 2, 2], [1, 900, 2, 2, 2], [1, 480, 1, 1, 1], [1, 180, 1, 1, 1], [1, 1000, 2, 2, 1], [1, 1120, 3, 2, 1], [1, 1800, 3, 3, 2], [1, 1200, 3, 2, 2], [1, 550, 1, 1, 2], [1, 1400, 2, 1, 1], [1, 1600, 3, 2, 2], [1, 650, 1, 1, 2], [1, 120, 4, 4, 3], [1, 450, 2, 1, 1], [1, 520, 1, 1, 3], [1, 850, 1, 1, 2], [1, 850, 2, 2, 2], [1, 585, 2, 1, 2], [1, 1600, 3, 2, 3], [1, 950, 2, 2, 1], [1, 120, 1, 1, 1], [1, 500, 2, 1, 2], [1, 200, 1, 1, 1], [1, 550, 1, 1, 2], [1, 650, 1, 1, 2], [1, 2800, 4, 4, 1], [1, 50, 1, 1, 3], [1, 550, 2, 1, 1], [1, 90, 2, 2, 2], [1, 2925, 3, 3, 2], [1, 150, 1, 1, 3], [1, 450, 2, 1, 1], [1, 750, 2, 2, 1], [1, 975, 2, 1, 2], [1, 106, 3, 1, 2], [1, 750, 2, 2, 3], [1, 80, 2, 2, 2], [1, 96, 3, 2, 1], [1, 500, 1, 1, 1], [1, 1550, 3, 2, 2], [1, 1000, 2, 2, 2], [1, 400, 1, 1, 1], [1, 450, 1, 1, 1], [1, 1000, 2, 1, 2], [1, 450, 1, 1, 1], [1, 100, 3, 2, 2], [1, 550, 2, 2, 2], [1, 400, 1, 1, 2], [1, 60, 1, 1, 3], [1, 900, 4, 2, 1], [1, 700, 1, 1, 2], [1, 500, 2, 1, 1], [1, 2000, 3, 3, 3], [1, 400, 2, 1, 2], [1, 1500, 3, 2, 1], [1, 70, 2, 1, 1], [1, 60, 2, 2, 1], [1, 200, 3, 3, 2], [1, 1650, 2, 2, 3], [1, 1150, 2, 2, 1], [1, 1800, 2, 2, 3], [1, 4000, 4, 5, 2], [1, 900, 2, 1, 1], [1, 700, 2, 1, 1], [1, 900, 2, 2, 1], [1, 400, 1, 1, 2], [1, 2700, 4, 4, 1], [1, 2000, 3, 3, 1], [1, 450, 2, 1, 1], [1, 400, 2, 1, 1], [1, 500, 2, 1, 2], [1, 450, 1, 1, 3], [1, 350, 1, 1, 1], [1, 272, 4, 4, 1], [1, 545, 1, 1, 3], [1, 84, 2, 2, 2], [1, 600, 1, 1, 3], [1, 75, 2, 2, 1], [1, 165, 3, 2, 2], [1, 1100, 3, 3, 1], [1, 500, 1, 1, 1], [1, 150, 3, 3, 2], [1, 70, 2, 2, 2], [1, 250, 3, 2, 2], [1, 70, 2, 2, 1], [1, 300, 1, 1, 2], [1, 1800, 3, 3, 2], [1, 400, 1, 1, 2], [1, 1250, 3, 2, 2], [1, 480, 2, 1, 2], [1, 84, 2, 2, 2], [1, 84, 2, 2, 2], [1, 600, 2, 2, 2], [1, 600, 2, 2, 2], [1, 720, 2, 2, 2], [1, 75, 2, 1, 1], [1, 1000, 3, 2, 1], [1, 900, 2, 2, 2], [1, 2200, 2, 2, 2], [1, 900, 3, 1, 2], [1, 550, 1, 1, 2], [1, 450, 2, 1, 3], [1, 470, 2, 2, 3], [1, 125, 3, 2, 2], [1, 400, 1, 1, 3], [1, 2600, 4, 4, 2], [1, 1500, 3, 3, 2], [1, 80, 2, 1, 2], [1, 1100, 3, 2, 2], [1, 1000, 2, 2, 2], [1, 800, 2, 2, 1], [1, 50, 2, 1, 3], [1, 1000, 2, 2, 2], [1, 550, 1, 1, 1], [1, 450, 1, 1, 1], [1, 670, 2, 2, 3], [1, 700, 2, 1, 2], [1, 125, 3, 2, 2], [1, 1872, 3, 3, 2], [1, 650, 2, 1, 1], [1, 550, 2, 2, 1], [1, 84, 2, 2, 2], [1, 90, 1, 2, 1], [1, 1000, 2, 2, 1], [1, 65, 1, 1, 1], [1, 75, 2, 1, 1], [1, 250, 1, 1, 3], [1, 900, 2, 2, 1], [1, 900, 3, 3, 2], [1, 650, 2, 2, 1], [1, 900, 2, 2, 2], [1, 800, 1, 1, 2], [1, 410, 1, 1, 1], [1, 1500, 3, 3, 3], [1, 2800, 4, 4, 1], [1, 1800, 3, 2, 2], [1, 1400, 2, 2, 2], [1, 1600, 3, 3, 2], [1, 1200, 3, 2, 2], [1, 1150, 3, 3, 1], [1, 110, 2, 1, 2], [1, 300, 1, 1, 3], [1, 750, 2, 2, 2], [1, 450, 1, 1, 2], [1, 410, 2, 1, 1], [1, 800, 2, 1, 3], [1, 120, 3, 3, 3], [1, 650, 1, 1, 3], [1, 400, 2, 1, 1], [1, 810, 2, 2, 2], [1, 700, 3, 2, 3], [1, 1125, 2, 2, 3], [1, 600, 2, 2, 1], [1, 1300, 3, 3, 3], [1, 1450, 3, 3, 2], [1, 110, 3, 2, 1], [1, 3500, 4, 6, 2], [1, 4000, 4, 7, 2], [1, 2500, 3, 4, 2], [1, 3000, 4, 5, 2], [1, 3500, 4, 6, 2], [1, 240, 1, 1, 2], [1, 1250, 3, 2, 1], [1, 1000, 3, 2, 2], [1, 900, 3, 2, 1], [1, 900, 2, 2, 2], [1, 1250, 3, 3, 1], [1, 650, 2, 2, 1], [1, 3200, 3, 4, 2], [1, 900, 2, 1, 2], [1, 1250, 3, 2, 1], [1, 60, 2, 2, 2], [1, 90, 2, 2, 1], [1, 55, 2, 1, 1], [1, 50, 2, 1, 1], [1, 400, 4, 4, 1], [1, 680, 2, 1, 3], [1, 756, 2, 2, 2], [1, 500, 2, 1, 1], [1, 900, 2, 2, 3], [1, 2000, 3, 3, 3], [1, 40, 1, 1, 3], [1, 100, 1, 1, 3], [1, 950, 2, 2, 2], [1, 200, 1, 1, 3], [1, 900, 2, 2, 3], [1, 750, 2, 1, 2], [1, 1400, 3, 3, 1], [1, 100, 2, 2, 2], [1, 100, 2, 2, 2], [1, 100, 1, 1, 2], [1, 1000, 2, 2, 2], [1, 400, 1, 1, 1], [1, 70, 1, 1, 1], [1, 450, 1, 1, 3], [1, 900, 2, 1, 1], [1, 42, 1, 1, 2], [1, 400, 1, 1, 3], [1, 900, 2, 2, 2], [1, 1500, 4, 2, 2], [1, 70, 1, 1, 2], [1, 450, 2, 1, 3], [1, 900, 2, 1, 2], [1, 500, 1, 1, 1], [1, 400, 1, 2, 1], [1, 150, 3, 2, 2], [1, 450, 1, 1, 1], [1, 540, 2, 1, 1], [1, 400, 1, 1, 3], [1, 450, 1, 1, 1], [1, 700, 1, 1, 1], [1, 1450, 3, 2, 3], [1, 1000, 2, 2, 2], [1, 550, 2, 2, 2], [1, 900, 2, 2, 3], [1, 300, 3, 3, 2], [1, 1100, 2, 2, 1], [1, 600, 1, 1, 2], [1, 450, 1, 1, 2], [1, 550, 2, 1, 1], [1, 1000, 3, 2, 1], [1, 1250, 3, 2, 1], [1, 1950, 4, 4, 2], [1, 1750, 3, 4, 2], [1, 25, 1, 1, 1], [1, 700, 2, 1, 1], [1, 1800, 2, 1, 1], [1, 1000, 2, 2, 3], [1, 200, 2, 1, 1], [1, 1700, 3, 3, 2], [1, 70, 3, 2, 2], [1, 1700, 3, 3, 2], [1, 450, 1, 1, 2], [1, 1350, 3, 3, 2], [1, 2550, 4, 4, 2], [1, 650, 2, 2, 1], [1, 650, 2, 2, 2], [1, 1250, 3, 3, 1], [1, 1250, 3, 2, 1], [1, 1000, 3, 2, 1], [1, 500, 1, 1, 2], [1, 500, 1, 1, 2], [1, 1550, 3, 3, 2], [1, 3800, 4, 5, 2], [1, 1150, 2, 2, 1], [1, 2000, 3, 3, 1], [1, 30, 1, 1, 3], [1, 50, 1, 1, 2], [1, 1205, 3, 2, 3], [1, 1450, 3, 2, 2], [1, 200, 1, 1, 1], [1, 350, 2, 2, 2], [1, 700, 2, 1, 1], [1, 400, 1, 1, 3], [1, 700, 1, 1, 2], [1, 1000, 2, 2, 2], [1, 450, 1, 1, 3], [1, 1200, 3, 2, 2], [1, 1200, 3, 2, 2], [1, 900, 2, 2, 2], [1, 84, 2, 2, 3], [1, 200, 1, 1, 1], [1, 1300, 2, 2, 1], [1, 1300, 2, 2, 3], [1, 200, 1, 1, 1], [1, 300, 1, 1, 2], [1, 550, 2, 1, 1], [1, 950, 2, 1, 2], [1, 750, 2, 2, 3], [1, 950, 2, 2, 2], [1, 350, 1, 1, 2], [1, 2000, 3, 3, 1], [1, 180, 3, 3, 1], [1, 60, 2, 1, 2], [1, 950, 2, 1, 1], [1, 1400, 3, 3, 2], [1, 200, 3, 2, 1], [1, 450, 1, 1, 3], [1, 600, 2, 2, 1], [1, 350, 1, 1, 1], [1, 300, 1, 1, 3], [1, 95, 2, 2, 2], [1, 550, 1, 1, 3], [1, 900, 3, 3, 3], [1, 25, 1, 1, 2], [1, 325, 3, 3, 1], [1, 80, 2, 2, 2], [1, 77, 2, 1, 1], [1, 60, 2, 1, 2], [1, 100, 1, 1, 3], [1, 1300, 3, 2, 2], [1, 500, 2, 2, 2], [1, 500, 2, 2, 2], [1, 1200, 2, 2, 2], [1, 250, 1, 1, 2], [1, 700, 2, 1, 2], [1, 1050, 3, 2, 1], [1, 500, 2, 2, 2], [1, 1100, 2, 2, 2], [1, 1000, 2, 2, 2], [1, 2400, 3, 3, 2], [1, 3000, 3, 4, 3], [1, 650, 1, 1, 2], [1, 1000, 2, 2, 2], [1, 700, 2, 2, 1], [1, 1200, 3, 3, 2], [1, 1710, 3, 3, 2], [1, 600, 2, 2, 3], [1, 1080, 2, 2, 1], [1, 1300, 2, 2, 2], [1, 1027, 2, 2, 2], [1, 1350, 3, 3, 3], [1, 950, 2, 2, 1], [1, 1300, 2, 2, 1], [1, 600, 2, 1, 1], [1, 1428, 3, 2, 1], [1, 920, 2, 2, 2], [1, 600, 2, 2, 2], [1, 810, 2, 1, 1], [1, 1200, 2, 2, 2], [1, 550, 1, 1, 2], [1, 600, 2, 1, 1], [1, 850, 2, 1, 3], [1, 2117, 4, 4, 2], [1, 900, 2, 2, 1], [1, 1000, 2, 2, 2], [1, 500, 1, 1, 1], [1, 800, 2, 1, 2], [1, 1550, 2, 3, 2], [1, 1500, 2, 2, 1], [1, 1700, 3, 6, 3], [1, 700, 2, 2, 2], [1, 400, 1, 1, 1], [1, 450, 2, 1, 2], [1, 500, 1, 1, 3], [1, 770, 2, 2, 2], [1, 150, 1, 1, 2], [1, 850, 2, 2, 1], [1, 1100, 2, 2, 2], [1, 650, 2, 1, 1], [1, 550, 1, 1, 1], [1, 1000, 2, 2, 1], [1, 250, 1, 1, 2], [1, 790, 2, 2, 2], [1, 600, 2, 2, 2], [1, 700, 2, 2, 1], [1, 550, 1, 1, 1], [1, 500, 1, 1, 1], [1, 1800, 3, 3, 1], [1, 1550, 3, 2, 2], [1, 1462, 3, 3, 2], [1, 970, 2, 2, 2], [1, 2300, 3, 3, 2], [1, 700, 2, 1, 1], [1, 674, 2, 2, 1], [1, 750, 2, 2, 1], [1, 1000, 2, 2, 2], [1, 1030, 2, 2, 2], [1, 1540, 3, 2, 3], [1, 1800, 3, 3, 1], [1, 1100, 2, 2, 1], [1, 985, 2, 2, 1], [1, 1200, 2, 2, 2], [1, 1200, 2, 2, 1], [1, 900, 2, 2, 1], [1, 800, 2, 2, 1], [1, 800, 2, 2, 2], [1, 1500, 3, 3, 2], [1, 680, 2, 2, 1], [1, 800, 2, 2, 2], [1, 875, 2, 2, 2], [1, 880, 2, 2, 2], [1, 1500, 3, 3, 2], [1, 950, 2, 2, 1], [1, 850, 2, 2, 2], [1, 700, 1, 1, 2], [1, 2000, 3, 2, 2], [1, 450, 1, 1, 1], [1, 400, 1, 1, 1], [1, 350, 1, 1, 1], [1, 1650, 3, 3, 2], [1, 800, 2, 1, 1], [1, 600, 2, 1, 1], [1, 800, 2, 1, 1], [1, 1600, 3, 3, 2], [1, 700, 2, 2, 1], [1, 800, 2, 2, 2], [1, 2120, 3, 3, 3], [1, 560, 1, 1, 1], [1, 420, 1, 1, 1], [1, 1000, 2, 2, 3], [1, 1330, 3, 3, 2], [1, 930, 3, 2, 2], [1, 1900, 3, 3, 2], [1, 1200, 2, 2, 3], [1, 350, 1, 1, 1], [1, 1000, 3, 1, 2], [1, 1210, 2, 2, 2], [1, 750, 2, 2, 1], [1, 1150, 3, 3, 2], [1, 800, 2, 2, 1], [1, 930, 2, 2, 3], [1, 2800, 2, 2, 1], [1, 800, 2, 2, 2], [1, 850, 2, 2, 1], [1, 650, 2, 2, 2], [1, 770, 2, 1, 1], [1, 1800, 3, 3, 2], [1, 1100, 3, 2, 2], [1, 950, 2, 2, 2], [1, 1250, 3, 2, 2], [1, 400, 1, 1, 1], [1, 575, 2, 2, 2], [1, 1234, 2, 2, 2], [1, 870, 2, 2, 2], [1, 1162, 2, 2, 2], [1, 2200, 3, 3, 1], [1, 500, 1, 1, 1], [1, 900, 3, 1, 1], [1, 600, 1, 1, 1], [1, 600, 2, 1, 3], [1, 1600, 3, 3, 3], [1, 2400, 4, 4, 1], [1, 1600, 3, 3, 2], [1, 400, 1, 1, 1], [1, 1000, 2, 2, 2], [1, 600, 2, 2, 1], [1, 750, 2, 2, 1], [1, 700, 2, 2, 2], [1, 2200, 4, 5, 2], [1, 500, 1, 1, 2], [1, 700, 1, 1, 1], [1, 1480, 3, 2, 3], [1, 1700, 3, 3, 3], [1, 830, 2, 2, 2], [1, 1425, 3, 2, 2], [1, 1550, 3, 3, 1], [1, 200, 1, 1, 2], [1, 1200, 2, 2, 2], [1, 800, 3, 2, 2], [1, 1261, 3, 3, 2], [1, 425, 2, 2, 2], [1, 940, 2, 2, 1], [1, 2300, 3, 3, 2], [1, 700, 2, 2, 1], [1, 2400, 3, 3, 3], [1, 1145, 2, 2, 2], [1, 750, 2, 2, 2], [1, 1250, 3, 3, 2], [1, 900, 2, 2, 1], [1, 800, 3, 2, 2], [1, 800, 2, 2, 2], [1, 900, 2, 2, 2], [1, 600, 2, 1, 1], [1, 250, 1, 1, 1], [1, 910, 2, 2, 2], [1, 1350, 3, 3, 1], [1, 450, 3, 3, 2], [1, 600, 1, 1, 1], [1, 3600, 3, 3, 2], [1, 800, 2, 2, 1], [1, 850, 2, 2, 1], [1, 1000, 2, 2, 2], [1, 900, 2, 2, 2], [1, 2400, 3, 3, 3], [1, 400, 1, 1, 1], [1, 1900, 4, 4, 2], [1, 900, 2, 2, 2], [1, 805, 2, 2, 2], [1, 1200, 2, 2, 1], [1, 800, 2, 2, 3], [1, 1158, 3, 2, 2], [1, 400, 1, 1, 1], [1, 450, 1, 1, 1], [1, 960, 2, 2, 2], [1, 1400, 3, 2, 2], [1, 970, 2, 2, 3], [1, 1000, 2, 2, 1], [1, 900, 2, 2, 2], [1, 800, 2, 2, 2], [1, 1100, 2, 1, 2], [1, 800, 2, 2, 1], [1, 800, 2, 1, 1], [1, 898, 2, 2, 2], [1, 800, 2, 2, 2], [1, 600, 2, 1, 1], [1, 2000, 3, 3, 3], [1, 870, 2, 2, 1], [1, 1100, 2, 2, 2], [1, 650, 2, 2, 1], [1, 1100, 3, 2, 1], [1, 1250, 2, 2, 2], [1, 1145, 2, 2, 1], [1, 780, 2, 2, 2], [1, 680, 1, 1, 1], [1, 860, 2, 2, 2], [1, 600, 1, 1, 1], [1, 750, 2, 1, 2], [1, 800, 2, 2, 1], [1, 570, 2, 2, 1], [1, 1150, 2, 2, 3], [1, 350, 1, 1, 1], [1, 894, 2, 2, 2], [1, 600, 1, 1, 2], [1, 900, 3, 2, 2], [1, 550, 1, 1, 1], [1, 717, 2, 2, 2], [1, 660, 2, 2, 2], [1, 700, 1, 1, 2], [1, 800, 1, 1, 2], [1, 1070, 3, 2, 1], [1, 1000, 2, 2, 2], [1, 1500, 2, 2, 2], [1, 900, 2, 2, 1], [1, 1700, 2, 2, 1], [1, 900, 2, 2, 2], [1, 805, 2, 2, 1], [1, 750, 2, 2, 1], [1, 1000, 2, 2, 3], [1, 1500, 3, 3, 3], [1, 3200, 3, 3, 1], [1, 1700, 3, 3, 2], [1, 1000, 2, 2, 2], [1, 2036, 3, 3, 2], [1, 610, 2, 1, 3], [1, 1100, 2, 2, 3], [1, 900, 2, 2, 2], [1, 840, 2, 2, 2], [1, 965, 3, 2, 2], [1, 800, 2, 2, 1], [1, 700, 1, 2, 1], [1, 600, 1, 1, 1], [1, 650, 1, 2, 2], [1, 320, 1, 1, 1], [1, 700, 2, 1, 2], [1, 850, 2, 2, 1], [1, 550, 1, 1, 1], [1, 1400, 3, 3, 2], [1, 1300, 2, 2, 1], [1, 1125, 2, 2, 2], [1, 780, 2, 2, 2], [1, 2200, 3, 3, 1], [1, 2500, 3, 3, 1], [1, 1300, 1, 2, 3], [1, 619, 2, 1, 3], [1, 700, 2, 1, 2], [1, 2100, 3, 3, 2], [1, 2000, 3, 3, 1], [1, 700, 1, 1, 2], [1, 2000, 3, 3, 2], [1, 600, 2, 2, 1], [1, 550, 1, 2, 1], [1, 300, 1, 1, 1], [1, 800, 2, 2, 2], [1, 850, 2, 2, 1], [1, 450, 1, 1, 2], [1, 500, 1, 1, 1], [1, 115, 1, 1, 1], [1, 800, 2, 2, 1], [1, 600, 2, 1, 2], [1, 800, 2, 2, 1], [1, 1725, 3, 2, 3], [1, 1330, 2, 2, 3], [1, 2064, 3, 4, 2], [1, 700, 1, 1, 2], [1, 900, 2, 2, 2], [1, 1066, 2, 2, 1], [1, 700, 2, 2, 2], [1, 900, 2, 2, 3], [1, 700, 2, 2, 2], [1, 950, 3, 2, 2], [1, 850, 2, 2, 1], [1, 600, 2, 2, 3], [1, 750, 2, 2, 2], [1, 850, 2, 2, 1], [1, 1650, 3, 3, 2], [1, 960, 2, 2, 1], [1, 1200, 2, 2, 1], [1, 650, 2, 2, 3], [1, 800, 2, 2, 1], [1, 1350, 3, 3, 2], [1, 560, 2, 2, 2], [1, 250, 1, 1, 1], [1, 685, 2, 2, 1], [1, 1021, 2, 2, 2], [1, 1200, 3, 3, 1], [1, 1557, 3, 3, 2], [1, 550, 2, 1, 1], [1, 800, 2, 2, 2], [1, 917, 3, 2, 2], [1, 960, 2, 2, 2], [1, 1000, 2, 2, 1], [1, 1000, 2, 2, 3], [1, 579, 1, 1, 2], [1, 800, 1, 1, 1], [1, 1100, 2, 2, 1], [1, 635, 2, 2, 2], [1, 1700, 3, 3, 2], [1, 600, 1, 1, 1], [1, 2500, 4, 4, 1], [1, 1920, 3, 3, 2], [1, 850, 2, 2, 2], [1, 1850, 3, 3, 1], [1, 1375, 2, 1, 3], [1, 700, 2, 2, 1], [1, 700, 1, 2, 1], [1, 675, 1, 1, 1], [1, 900, 3, 2, 1], [1, 1020, 2, 2, 3], [1, 3000, 4, 4, 1], [1, 800, 2, 1, 2], [1, 600, 2, 1, 1], [1, 890, 2, 2, 1], [1, 1700, 3, 3, 2], [1, 2000, 4, 3, 2], [1, 800, 2, 2, 2], [1, 1002, 3, 2, 3], [1, 1225, 3, 3, 2], [1, 610, 2, 1, 3], [1, 1200, 3, 3, 2], [1, 850, 2, 2, 1], [1, 500, 1, 1, 2], [1, 778, 2, 2, 1], [1, 850, 2, 2, 1], [1, 800, 2, 2, 1], [1, 1200, 2, 2, 2], [1, 750, 2, 2, 1], [1, 550, 1, 1, 1], [1, 1567, 3, 3, 3], [1, 650, 1, 1, 2], [1, 1150, 2, 2, 1], [1, 4500, 6, 5, 2], [1, 900, 2, 2, 1], [1, 1450, 3, 2, 1], [1, 850, 2, 2, 2], [1, 550, 1, 1, 1], [1, 600, 1, 1, 1], [1, 1200, 2, 2, 3], [1, 1450, 4, 4, 2], [1, 560, 2, 2, 2], [1, 1113, 2, 2, 2], [1, 1600, 3, 4, 2], [1, 550, 1, 1, 1], [1, 1200, 2, 2, 1], [1, 900, 2, 2, 2], [1, 800, 1, 1, 1], [1, 1200, 2, 2, 2], [1, 1000, 2, 2, 2], [1, 1100, 2, 2, 2], [1, 700, 2, 1, 3], [1, 650, 1, 1, 1], [1, 1500, 3, 2, 2], [1, 1175, 3, 2, 3], [1, 750, 2, 2, 1], [1, 1010, 2, 2, 2], [1, 1050, 2, 2, 2], [1, 1060, 3, 2, 1], [1, 900, 2, 2, 1], [1, 1000, 2, 2, 2], [1, 450, 1, 1, 1], [1, 1600, 3, 3, 2], [1, 1760, 3, 3, 2], [1, 618, 2, 2, 2], [1, 1220, 3, 2, 2], [1, 580, 1, 1, 1], [1, 1651, 3, 3, 2], [1, 705, 2, 2, 2], [1, 700, 1, 1, 1], [1, 1700, 3, 3, 3], [1, 901, 2, 2, 1], [1, 1100, 2, 2, 3], [1, 1120, 3, 2, 2], [1, 1300, 2, 2, 2], [1, 1350, 3, 3, 3], [1, 1340, 2, 2, 2], [1, 250, 1, 1, 1], [1, 700, 2, 2, 2], [1, 650, 2, 2, 1], [1, 490, 1, 1, 2], [1, 700, 2, 1, 1], [1, 580, 1, 2, 1], [1, 1400, 2, 3, 2], [1, 850, 2, 2, 2], [1, 850, 2, 2, 2], [1, 900, 2, 2, 1], [1, 780, 2, 2, 3], [1, 1246, 3, 2, 2], [1, 300, 1, 1, 2], [1, 900, 2, 2, 1], [1, 350, 1, 1, 1], [1, 900, 2, 2, 1], [1, 1099, 2, 2, 2], [1, 1530, 3, 3, 2], [1, 2000, 3, 3, 2], [1, 1095, 3, 2, 3], [1, 780, 2, 2, 1], [1, 1300, 3, 3, 1], [1, 900, 2, 2, 2], [1, 450, 1, 1, 1], [1, 400, 2, 2, 1], [1, 900, 3, 2, 2], [1, 935, 2, 2, 1], [1, 450, 1, 1, 1], [1, 1020, 2, 2, 3], [1, 1280, 3, 2, 2], [1, 450, 1, 1, 2], [1, 1120, 2, 2, 2], [1, 1000, 2, 2, 2], [1, 1000, 2, 2, 2], [1, 750, 2, 2, 1], [1, 1000, 2, 2, 2], [1, 1100, 3, 2, 1], [1, 3000, 3, 3, 3], [1, 650, 2, 2, 2], [1, 1500, 3, 3, 2], [1, 500, 1, 1, 1], [1, 700, 2, 1, 1], [1, 450, 1, 1, 3], [1, 700, 2, 2, 1], [1, 1250, 2, 2, 2], [1, 700, 2, 2, 1], [1, 650, 2, 2, 2], [1, 850, 2, 2, 2], [1, 750, 2, 2, 1], [1, 1780, 3, 3, 2], [1, 980, 2, 2, 1], [1, 700, 2, 2, 1], [1, 600, 2, 2, 2], [1, 800, 2, 2, 1], [1, 1500, 2, 2, 2], [1, 1402, 3, 3, 2], [1, 1500, 3, 3, 2], [1, 1300, 3, 3, 3], [1, 1484, 3, 3, 2], [1, 630, 1, 1, 2], [1, 1150, 2, 2, 2], [1, 800, 2, 2, 1], [1, 600, 2, 2, 2], [1, 2200, 3, 3, 1], [1, 950, 2, 2, 2], [1, 700, 2, 2, 1], [1, 450, 1, 1, 2], [1, 150, 1, 1, 1], [1, 360, 1, 1, 1], [1, 750, 1, 1, 2], [1, 1065, 2, 2, 2], [1, 650, 2, 2, 1], [1, 1140, 2, 2, 2], [1, 1525, 3, 3, 2], [1, 1450, 3, 3, 3], [1, 1200, 2, 2, 2], [1, 1100, 2, 2, 2], [1, 700, 2, 2, 2], [1, 600, 1, 1, 1], [1, 1200, 3, 2, 1], [1, 2100, 3, 3, 1], [1, 950, 2, 2, 2], [1, 800, 1, 1, 2], [1, 900, 2, 2, 1], [1, 805, 2, 2, 2], [1, 800, 2, 2, 1], [1, 2300, 2, 2, 3], [1, 1200, 2, 2, 2], [1, 1200, 3, 2, 2], [1, 4000, 4, 4, 2], [1, 1500, 3, 2, 1], [1, 500, 1, 1, 3], [1, 1050, 2, 2, 2], [1, 2550, 4, 4, 2], [1, 650, 2, 2, 1], [1, 800, 1, 1, 1], [1, 1000, 2, 2, 1], [1, 900, 2, 2, 2], [1, 1475, 3, 3, 2], [1, 360, 1, 1, 2], [1, 1600, 3, 3, 1], [1, 550, 1, 1, 1], [1, 1800, 3, 2, 1], [1, 1000, 2, 2, 1], [1, 700, 2, 2, 3], [1, 500, 1, 1, 2], [1, 1132, 3, 2, 2], [1, 1400, 3, 3, 2], [1, 3300, 5, 5, 2], [1, 1400, 3, 3, 2], [1, 800, 2, 2, 2], [1, 80, 3, 2, 2], [1, 1000, 3, 3, 2], [1, 1020, 2, 2, 2], [1, 500, 2, 2, 3], [1, 900, 2, 2, 3], [1, 600, 2, 1, 1], [1, 1100, 2, 2, 1], [1, 1200, 2, 3, 1], [1, 650, 2, 2, 1], [1, 900, 2, 2, 2], [1, 100, 3, 2, 1], [1, 1100, 2, 2, 1], [1, 585, 2, 2, 1], [1, 740, 2, 2, 1], [1, 550, 1, 1, 1], [1, 786, 2, 2, 3], [1, 1100, 2, 2, 1], [1, 1500, 3, 3, 2], [1, 1440, 3, 3, 2], [1, 700, 1, 1, 2], [1, 450, 1, 1, 1], [1, 1200, 3, 2, 2], [1, 1785, 3, 3, 2], [1, 1050, 2, 2, 2], [1, 700, 2, 1, 2], [1, 450, 2, 1, 1], [1, 803, 2, 2, 2], [1, 1800, 3, 3, 2], [1, 985, 2, 2, 1], [1, 2880, 4, 3, 2], [1, 850, 2, 2, 1], [1, 1100, 3, 2, 1], [1, 1100, 2, 2, 2], [1, 1500, 2, 2, 3], [1, 1975, 3, 3, 2], [1, 400, 1, 1, 1], [1, 914, 2, 2, 2], [1, 1000, 2, 2, 2], [1, 1170, 3, 2, 2], [1, 350, 1, 1, 1], [1, 1120, 3, 2, 1], [1, 1100, 2, 2, 1], [1, 500, 1, 1, 1], [1, 1435, 3, 3, 3], [1, 200, 1, 1, 2], [1, 1444, 3, 3, 2], [1, 350, 1, 1, 2], [1, 800, 2, 2, 2], [1, 1503, 3, 2, 2], [1, 1200, 3, 3, 1], [1, 900, 3, 2, 1], [1, 625, 1, 1, 2], [1, 860, 2, 2, 2], [1, 960, 2, 2, 1], [1, 550, 2, 1, 1], [1, 1000, 3, 3, 2], [1, 520, 1, 1, 2], [1, 1500, 3, 2, 1], [1, 966, 2, 2, 2], [1, 1400, 3, 3, 2], [1, 1300, 3, 2, 2], [1, 1062, 3, 2, 2], [1, 1850, 3, 3, 2], [1, 600, 2, 2, 1], [1, 1000, 2, 2, 2], [1, 1065, 3, 3, 2], [1, 950, 3, 3, 1], [1, 740, 2, 2, 1], [1, 700, 2, 2, 2], [1, 880, 2, 2, 1], [1, 890, 2, 2, 1], [1, 1100, 2, 2, 1], [1, 700, 2, 2, 3], [1, 1155, 3, 2, 1], [1, 1500, 3, 3, 2], [1, 550, 1, 1, 1], [1, 1000, 2, 2, 2], [1, 550, 2, 2, 1], [1, 2900, 3, 3, 2], [1, 2100, 3, 2, 2], [1, 1000, 2, 2, 1], [1, 800, 2, 1, 1], [1, 900, 2, 1, 1], [1, 800, 2, 2, 2], [1, 1015, 2, 3, 2], [1, 1700, 3, 3, 2], [1, 850, 1, 1, 1], [1, 1260, 2, 3, 2], [1, 800, 2, 2, 2], [1, 550, 1, 1, 1], [1, 800, 2, 2, 2], [1, 1200, 3, 2, 2], [1, 1570, 3, 3, 2], [1, 570, 1, 1, 2], [1, 900, 2, 2, 2], [1, 700, 2, 2, 1], [1, 500, 1, 1, 1], [1, 1000, 2, 2, 1], [1, 700, 2, 2, 1], [1, 690, 2, 1, 1], [1, 100, 2, 2, 2], [1, 1200, 3, 3, 2], [1, 1200, 2, 2, 2], [1, 800, 2, 2, 1], [1, 1157, 3, 3, 1], [1, 780, 2, 2, 2], [1, 2792, 3, 5, 3], [1, 500, 1, 1, 1], [1, 750, 2, 2, 1], [1, 1800, 6, 6, 3], [1, 500, 1, 1, 2], [1, 1153, 2, 2, 2], [1, 500, 1, 1, 3], [1, 1000, 3, 2, 1], [1, 510, 1, 1, 1], [1, 730, 2, 2, 2], [1, 950, 2, 2, 1], [1, 730, 2, 2, 2], [1, 1400, 3, 2, 2], [1, 900, 2, 2, 2], [1, 506, 1, 1, 1], [1, 749, 2, 2, 1], [1, 520, 1, 1, 2], [1, 850, 2, 2, 1], [1, 1000, 2, 2, 2], [1, 600, 1, 1, 1], [1, 1900, 1, 1, 2], [1, 600, 2, 1, 2], [1, 500, 1, 1, 1], [1, 550, 1, 1, 1], [1, 1200, 2, 2, 1], [1, 1107, 3, 2, 2], [1, 550, 1, 1, 2], [1, 1150, 2, 2, 2], [1, 600, 2, 2, 1], [1, 1235, 3, 2, 2], [1, 600, 1, 2, 1], [1, 400, 1, 2, 2], [1, 1400, 3, 3, 2], [1, 800, 3, 2, 1], [1, 700, 2, 2, 1], [1, 900, 2, 2, 2], [1, 400, 1, 1, 1], [1, 850, 2, 2, 3], [1, 1415, 3, 2, 3], [1, 281, 1, 1, 1], [1, 600, 1, 1, 3], [1, 6000, 5, 4, 2], [1, 1050, 2, 2, 1], [1, 390, 1, 1, 1], [1, 950, 3, 2, 2], [1, 1500, 3, 3, 2], [1, 200, 2, 2, 1], [1, 926, 2, 2, 2], [1, 1700, 3, 3, 2], [1, 1068, 2, 2, 2], [1, 1800, 3, 3, 2], [1, 590, 2, 2, 2], [1, 1400, 3, 3, 2], [1, 550, 1, 1, 2], [1, 520, 1, 1, 2], [1, 900, 2, 2, 2], [1, 700, 2, 2, 2], [1, 400, 1, 1, 2], [1, 2280, 4, 4, 2], [1, 826, 2, 2, 2], [1, 1050, 2, 2, 2], [1, 700, 2, 2, 2], [1, 800, 2, 2, 2], [1, 850, 2, 2, 3], [1, 502, 1, 1, 1], [1, 925, 2, 2, 1], [1, 500, 2, 1, 1], [1, 950, 2, 2, 1], [1, 930, 2, 2, 2], [1, 950, 2, 2, 2], [1, 800, 2, 2, 2], [1, 950, 2, 1, 2], [1, 1100, 3, 2, 1], [1, 750, 2, 3, 1], [1, 1000, 2, 2, 2], [1, 950, 2, 2, 1], [1, 800, 2, 2, 2], [1, 500, 1, 1, 1], [1, 1500, 3, 3, 2], [1, 550, 1, 1, 3], [1, 400, 1, 1, 2], [1, 550, 1, 1, 1], [1, 730, 2, 1, 1], [1, 1000, 2, 2, 2], [1, 975, 2, 2, 2], [1, 1800, 2, 2, 2], [1, 745, 2, 2, 2], [1, 900, 2, 2, 2], [1, 600, 2, 2, 1], [1, 600, 2, 2, 1], [1, 450, 1, 1, 1], [1, 1030, 2, 2, 2], [1, 833, 2, 2, 1], [1, 1000, 2, 2, 2], [1, 840, 2, 2, 1], [1, 750, 2, 2, 3], [1, 950, 2, 2, 2], [1, 550, 1, 1, 2], [1, 1125, 3, 2, 2], [1, 700, 2, 2, 1], [1, 1100, 2, 2, 2], [1, 700, 2, 2, 1], [1, 1250, 3, 3, 2], [1, 1100, 2, 2, 1], [1, 475, 1, 1, 2], [1, 530, 2, 1, 2], [1, 1050, 2, 2, 2], [1, 830, 2, 2, 2], [1, 809, 2, 2, 1], [1, 900, 2, 2, 2], [1, 700, 1, 1, 2], [1, 1150, 2, 2, 2], [1, 750, 1, 1, 2], [1, 920, 2, 2, 2], [1, 1050, 2, 2, 2], [1, 1800, 2, 2, 1], [1, 1000, 2, 2, 2], [1, 1062, 3, 2, 2], [1, 800, 2, 2, 1], [1, 450, 1, 1, 1], [1, 900, 2, 1, 1], [1, 2240, 4, 4, 3], [1, 500, 1, 1, 1], [1, 750, 1, 1, 1], [1, 1400, 3, 3, 2], [1, 1200, 2, 2, 2], [1, 1424, 2, 2, 2], [1, 450, 1, 1, 1], [1, 2700, 3, 2, 3], [1, 805, 2, 2, 1], [1, 434, 1, 1, 1], [1, 1000, 2, 2, 2], [1, 595, 1, 1, 2], [1, 685, 2, 2, 1], [1, 1075, 2, 2, 2], [1, 1100, 3, 3, 2], [1, 950, 2, 2, 1], [1, 1500, 3, 3, 1], [1, 1100, 3, 2, 2], [1, 1100, 2, 2, 2], [1, 1000, 3, 3, 1], [1, 800, 2, 2, 2], [1, 1500, 3, 2, 2], [1, 1250, 3, 2, 2], [1, 650, 2, 2, 1], [1, 1650, 3, 3, 1], [1, 2317, 4, 4, 1], [1, 950, 2, 2, 2], [1, 1700, 3, 3, 3], [1, 1300, 3, 2, 3], [1, 805, 2, 2, 2], [1, 1109, 2, 2, 2], [1, 300, 1, 1, 1], [1, 700, 2, 1, 1], [1, 950, 2, 2, 2], [1, 1290, 3, 3, 1], [1, 950, 2, 2, 1], [1, 400, 1, 1, 3], [1, 2000, 2, 2, 3], [1, 939, 2, 2, 2], [1, 1200, 3, 3, 1], [1, 1800, 2, 2, 2], [1, 1200, 3, 2, 1], [1, 1200, 2, 2, 2], [1, 1750, 3, 3, 1], [1, 300, 1, 1, 1], [1, 650, 1, 1, 1], [1, 950, 2, 2, 2], [1, 1610, 3, 3, 2], [1, 900, 2, 2, 1], [1, 550, 1, 1, 1], [1, 700, 2, 2, 1], [1, 800, 2, 2, 1], [1, 580, 2, 2, 2], [1, 950, 2, 2, 2], [1, 700, 1, 1, 1], [1, 600, 2, 1, 2], [1, 200, 1, 1, 2], [1, 600, 1, 1, 2], [1, 550, 2, 2, 1], [1, 600, 1, 1, 1], [1, 1680, 3, 3, 2], [1, 1100, 2, 2, 1], [1, 600, 1, 1, 1], [1, 820, 2, 2, 2], [1, 1125, 3, 3, 2], [1, 973, 2, 2, 2], [1, 780, 2, 1, 3], [1, 400, 1, 1, 1], [1, 4000, 4, 4, 2], [1, 1000, 2, 2, 2], [1, 3500, 3, 3, 2], [1, 350, 1, 1, 2], [1, 800, 2, 2, 2], [1, 700, 2, 2, 1], [1, 550, 1, 1, 1], [1, 2100, 3, 4, 2], [1, 1700, 3, 3, 2], [1, 1420, 3, 2, 2], [1, 950, 2, 2, 2], [1, 780, 2, 2, 2], [1, 800, 1, 1, 1], [1, 500, 2, 1, 2], [1, 1000, 2, 2, 2], [1, 750, 2, 2, 1], [1, 1200, 2, 2, 1], [1, 1152, 3, 3, 2], [1, 843, 2, 2, 2], [1, 900, 2, 2, 1], [1, 1250, 2, 2, 2], [1, 650, 2, 2, 1], [1, 2600, 4, 4, 2], [1, 700, 1, 1, 1], [1, 720, 2, 2, 1], [1, 3500, 4, 4, 2], [1, 3000, 4, 4, 1], [1, 1144, 2, 2, 2], [1, 1750, 3, 3, 1], [1, 1450, 3, 2, 1], [1, 590, 2, 1, 1], [1, 900, 2, 2, 2], [1, 800, 2, 1, 2], [1, 1000, 2, 2, 2], [1, 1650, 3, 3, 2], [1, 700, 2, 2, 2], [1, 1280, 3, 2, 2], [1, 700, 2, 2, 1], [1, 980, 2, 2, 1], [1, 900, 2, 2, 2], [1, 450, 1, 1, 1], [1, 1200, 2, 2, 1], [1, 650, 2, 2, 2], [1, 1903, 3, 3, 2], [1, 650, 2, 1, 2], [1, 450, 1, 1, 1], [1, 900, 2, 2, 1], [1, 550, 2, 1, 1], [1, 750, 2, 2, 2], [1, 1000, 2, 2, 2], [1, 1050, 3, 3, 2], [1, 650, 1, 2, 3], [1, 400, 1, 1, 2], [1, 1075, 3, 3, 2], [1, 2000, 3, 3, 2], [1, 720, 2, 2, 2], [1, 1000, 3, 2, 1], [1, 500, 1, 1, 1], [1, 900, 2, 2, 3], [1, 900, 2, 2, 2], [1, 900, 2, 2, 2], [1, 1000, 1, 2, 1], [1, 1300, 3, 3, 2], [1, 1383, 3, 3, 2], [1, 800, 2, 2, 2], [1, 1500, 2, 2, 1], [1, 1350, 3, 2, 2], [1, 2000, 3, 3, 2], [1, 1200, 3, 2, 1], [1, 1912, 3, 3, 1], [1, 500, 1, 1, 1], [1, 950, 2, 2, 1], [1, 1000, 2, 2, 1], [1, 1600, 3, 3, 1], [1, 900, 2, 2, 1], [1, 1265, 3, 2, 2], [1, 1060, 3, 2, 2], [1, 1050, 2, 2, 2], [1, 1500, 3, 3, 1], [1, 890, 2, 2, 1], [1, 700, 2, 3, 1], [1, 1146, 3, 2, 2], [1, 700, 1, 1, 2], [1, 800, 2, 2, 2], [1, 640, 2, 2, 1], [1, 909, 2, 2, 2], [1, 2400, 4, 3, 1], [1, 3800, 4, 4, 2], [1, 400, 2, 2, 1], [1, 886, 2, 2, 1], [1, 1570, 3, 3, 2], [1, 900, 2, 2, 1], [1, 400, 1, 1, 1], [1, 1600, 2, 2, 2], [1, 1000, 2, 2, 1], [1, 850, 2, 2, 2], [1, 750, 2, 2, 1], [1, 750, 2, 2, 1], [1, 2000, 3, 3, 2], [1, 1270, 3, 2, 2], [1, 2000, 2, 2, 2], [1, 1250, 2, 2, 3], [1, 1000, 2, 2, 1], [1, 1050, 3, 3, 2], [1, 800, 2, 2, 2], [1, 1625, 3, 3, 3], [1, 1535, 3, 3, 1], [1, 850, 2, 2, 3], [1, 3800, 4, 4, 2], [1, 4500, 4, 4, 2], [1, 1100, 2, 2, 1], [1, 3200, 3, 3, 2], [1, 647, 2, 1, 1], [1, 1798, 3, 3, 2], [1, 1700, 3, 3, 3], [1, 930, 2, 2, 2], [1, 150, 1, 1, 1], [1, 1200, 2, 2, 2], [1, 1250, 2, 2, 1], [1, 900, 2, 2, 2], [1, 500, 1, 1, 2], [1, 900, 2, 2, 2], [1, 1100, 2, 2, 3], [1, 1500, 3, 3, 2], [1, 500, 1, 1, 1], [1, 1300, 3, 3, 3], [1, 300, 1, 1, 3], [1, 800, 2, 2, 2], [1, 1400, 3, 2, 2], [1, 500, 1, 1, 3], [1, 750, 2, 2, 1], [1, 1200, 3, 3, 2], [1, 1350, 3, 2, 2], [1, 1400, 2, 2, 1], [1, 450, 1, 1, 1], [1, 2061, 3, 3, 3], [1, 100, 2, 2, 3], [1, 1100, 2, 2, 2], [1, 1650, 3, 3, 2], [1, 1500, 3, 3, 2], [1, 1140, 2, 2, 2], [1, 990, 2, 2, 1], [1, 1700, 3, 3, 2], [1, 1200, 2, 2, 1], [1, 850, 2, 2, 1], [1, 900, 2, 2, 1], [1, 800, 2, 2, 2], [1, 1000, 2, 2, 1], [1, 1020, 2, 2, 2], [1, 300, 1, 1, 1], [1, 1800, 2, 2, 2], [1, 919, 3, 2, 2], [1, 25, 3, 3, 2], [1, 1050, 2, 2, 2], [1, 200, 2, 2, 1], [1, 450, 1, 1, 1], [1, 1000, 4, 3, 2], [1, 1250, 3, 2, 2], [1, 1900, 3, 3, 1], [1, 1500, 2, 2, 2], [1, 2395, 3, 3, 2], [1, 1800, 2, 2, 3], [1, 700, 2, 2, 1], [1, 1700, 3, 2, 1], [1, 1200, 2, 2, 1], [1, 1600, 3, 3, 2], [1, 745, 2, 2, 1], [1, 2210, 3, 3, 2], [1, 1450, 3, 3, 2], [1, 1400, 3, 3, 2], [1, 2000, 3, 3, 3], [1, 1815, 4, 3, 2], [1, 1000, 2, 1, 2], [1, 1000, 2, 2, 1], [1, 1200, 2, 3, 1], [1, 2430, 3, 3, 2], [1, 140, 1, 1, 1], [1, 1200, 2, 2, 2], [1, 1100, 2, 3, 1], [1, 800, 2, 2, 1], [1, 1500, 3, 3, 2], [1, 1200, 2, 2, 2], [1, 1350, 3, 3, 2], [1, 2300, 5, 3, 1], [1, 1300, 1, 2, 3], [1, 1000, 2, 2, 2], [1, 1210, 2, 2, 1], [1, 1050, 2, 2, 1], [1, 1600, 3, 3, 2], [1, 300, 1, 1, 1], [1, 300, 1, 1, 2], [1, 1010, 2, 2, 1], [1, 1850, 3, 3, 3], [1, 1300, 2, 2, 2], [1, 1100, 2, 2, 1], [1, 2200, 3, 3, 2], [1, 500, 1, 1, 1], [1, 2290, 3, 3, 2], [1, 1900, 3, 3, 2], [1, 1600, 3, 3, 2], [1, 800, 2, 1, 1], [1, 1600, 3, 3, 3], [1, 500, 1, 1, 1], [1, 1500, 3, 3, 3], [1, 650, 1, 1, 2], [1, 3300, 4, 4, 2], [1, 1200, 2, 2, 1], [1, 800, 2, 2, 2], [1, 1200, 3, 4, 2], [1, 1000, 2, 1, 1], [1, 1600, 2, 3, 1], [1, 1200, 2, 2, 3], [1, 1100, 2, 2, 2], [1, 1250, 3, 3, 2], [1, 1100, 2, 2, 1], [1, 1600, 2, 2, 3], [1, 1000, 2, 2, 2], [1, 455, 1, 1, 1], [1, 1473, 3, 2, 3], [1, 4050, 5, 4, 1], [1, 400, 1, 1, 1], [1, 1300, 2, 2, 2], [1, 2520, 4, 5, 2], [1, 500, 1, 1, 3], [1, 200, 2, 1, 1], [1, 1200, 2, 2, 1], [1, 1950, 3, 3, 2], [1, 500, 1, 1, 2], [1, 500, 1, 3, 1], [1, 1150, 2, 2, 3], [1, 242, 2, 2, 1], [1, 720, 2, 2, 2], [1, 1800, 3, 3, 1], [1, 450, 1, 1, 2], [1, 130, 2, 2, 1], [1, 690, 2, 2, 1], [1, 1000, 2, 2, 3], [1, 1500, 3, 2, 2], [1, 1150, 3, 3, 2], [1, 1783, 3, 2, 2], [1, 900, 2, 2, 1], [1, 1725, 3, 3, 3], [1, 680, 1, 1, 1], [1, 550, 1, 1, 2], [1, 1290, 2, 2, 2], [1, 1450, 2, 2, 2], [1, 1300, 2, 2, 2], [1, 1450, 2, 2, 2], [1, 1496, 3, 2, 2], [1, 1850, 3, 2, 2], [1, 1600, 3, 3, 2], [1, 3500, 3, 3, 2], [1, 1850, 3, 3, 2], [1, 1210, 2, 2, 1], [1, 1400, 2, 2, 2], [1, 950, 2, 2, 2], [1, 878, 2, 2, 2], [1, 875, 2, 2, 1], [1, 300, 2, 2, 3], [1, 1800, 3, 3, 3], [1, 1956, 3, 3, 2], [1, 800, 2, 1, 1], [1, 1175, 2, 2, 1], [1, 1080, 2, 2, 2], [1, 1955, 3, 3, 1], [1, 950, 2, 2, 1], [1, 800, 2, 2, 1], [1, 1090, 2, 2, 1], [1, 1450, 3, 3, 2], [1, 1070, 2, 2, 2], [1, 60, 2, 2, 1], [1, 3133, 4, 5, 3], [1, 900, 1, 1, 1], [1, 60, 1, 1, 2], [1, 600, 2, 2, 1], [1, 750, 1, 1, 2], [1, 900, 2, 2, 1], [1, 1800, 3, 3, 2], [1, 470, 1, 1, 3], [1, 720, 2, 2, 1], [1, 450, 1, 1, 1], [1, 600, 2, 2, 1], [1, 1100, 2, 2, 1], [1, 1300, 2, 2, 1], [1, 1500, 2, 2, 2], [1, 1200, 2, 2, 3], [1, 3000, 4, 4, 2], [1, 2000, 3, 3, 2], [1, 800, 2, 2, 1], [1, 1000, 3, 3, 2], [1, 1200, 2, 2, 1], [1, 400, 1, 1, 1], [1, 1250, 3, 2, 1], [1, 700, 1, 1, 2], [1, 1100, 2, 2, 3], [1, 2050, 4, 2, 2], [1, 1428, 2, 2, 2], [1, 1700, 3, 3, 3], [1, 1140, 2, 2, 2], [1, 1000, 2, 2, 2], [1, 1160, 2, 2, 1], [1, 3000, 3, 2, 3], [1, 450, 1, 1, 1], [1, 1540, 3, 2, 1], [1, 1000, 2, 2, 2], [1, 1417, 3, 3, 3], [1, 2100, 3, 3, 3], [1, 550, 2, 1, 1], [1, 1600, 3, 3, 2], [1, 1200, 2, 2, 3], [1, 500, 2, 2, 3], [1, 1300, 3, 2, 2], [1, 600, 2, 1, 1], [1, 1565, 3, 3, 3], [1, 350, 1, 1, 1], [1, 1100, 2, 2, 1], [1, 1200, 2, 2, 2], [1, 2000, 3, 3, 3], [1, 2200, 3, 3, 2], [1, 1400, 3, 3, 1], [1, 1950, 3, 3, 2], [1, 130, 2, 2, 1], [1, 1300, 2, 2, 2], [1, 1675, 3, 3, 1], [1, 1135, 2, 2, 2], [1, 1800, 3, 2, 1], [1, 1400, 3, 3, 3], [1, 3698, 4, 5, 2], [1, 950, 2, 2, 1], [1, 650, 2, 2, 1], [1, 100, 1, 1, 2], [1, 950, 2, 2, 1], [1, 1000, 2, 2, 1], [1, 900, 2, 1, 2], [1, 1800, 3, 3, 2], [1, 1000, 2, 2, 1], [1, 1800, 3, 3, 2], [1, 1000, 2, 2, 2], [1, 450, 1, 1, 1], [1, 1771, 3, 3, 1], [1, 1150, 2, 2, 3], [1, 1000, 2, 2, 2], [1, 1050, 2, 2, 2], [1, 1500, 3, 2, 1], [1, 750, 2, 2, 1], [1, 1100, 2, 2, 2], [1, 800, 2, 2, 1], [1, 150, 3, 3, 1], [1, 750, 1, 1, 1], [1, 600, 2, 1, 1], [1, 1080, 2, 2, 2], [1, 1100, 2, 2, 1], [1, 750, 2, 2, 2], [1, 2405, 3, 4, 2], [1, 1248, 2, 2, 2], [1, 1110, 2, 2, 2], [1, 2300, 3, 3, 2], [1, 1000, 2, 2, 3], [1, 800, 2, 2, 1], [1, 3115, 4, 5, 3], [1, 500, 1, 1, 1], [1, 950, 2, 2, 1], [1, 1374, 2, 2, 2], [1, 1300, 1, 1, 3], [1, 1150, 2, 2, 3], [1, 450, 1, 1, 2], [1, 927, 2, 2, 2], [1, 1500, 3, 3, 1], [1, 1200, 2, 2, 1], [1, 1200, 2, 2, 2], [1, 2800, 3, 3, 3], [1, 562, 1, 1, 1], [1, 1500, 2, 2, 2], [1, 1950, 3, 3, 2], [1, 1360, 3, 2, 3], [1, 1800, 3, 3, 2], [1, 950, 2, 2, 2], [1, 780, 2, 2, 1], [1, 500, 1, 1, 2], [1, 1050, 2, 2, 2], [1, 600, 1, 1, 2], [1, 1800, 3, 3, 2], [1, 1800, 3, 3, 1], [1, 1900, 3, 3, 2], [1, 1100, 2, 2, 1], [1, 200, 2, 1, 1], [1, 1400, 3, 3, 2], [1, 1200, 2, 2, 2], [1, 1600, 3, 3, 3], [1, 1150, 2, 2, 2], [1, 130, 2, 2, 1], [1, 3800, 4, 4, 2], [1, 1720, 3, 3, 2], [1, 500, 1, 1, 1], [1, 1200, 2, 2, 1], [1, 2400, 4, 4, 2], [1, 800, 2, 2, 3], [1, 1300, 2, 2, 2], [1, 1400, 2, 2, 3], [1, 650, 2, 2, 1], [1, 103, 2, 2, 1], [1, 950, 1, 1, 2], [1, 1500, 3, 3, 1], [1, 1550, 3, 2, 1], [1, 140, 2, 2, 1], [1, 1800, 3, 2, 1], [1, 2550, 4, 4, 2], [1, 500, 1, 1, 1], [1, 800, 2, 2, 2], [1, 800, 2, 2, 2], [1, 1300, 2, 2, 1], [1, 600, 2, 2, 1], [1, 1000, 3, 3, 1], [1, 1000, 3, 3, 2], [1, 500, 1, 1, 2], [1, 8000, 1, 10, 1], [1, 1100, 2, 2, 1], [1, 1100, 2, 2, 1], [1, 200, 2, 2, 1], [1, 1800, 2, 2, 1], [1, 190, 2, 2, 3], [1, 1350, 3, 2, 1], [1, 1200, 2, 2, 1], [1, 400, 1, 1, 1], [1, 1200, 2, 2, 2], [1, 1400, 3, 3, 2], [1, 1300, 3, 3, 1], [1, 400, 1, 1, 1], [1, 650, 1, 1, 1], [1, 500, 1, 1, 1], [1, 875, 2, 2, 2], [1, 850, 1, 2, 1], [1, 1730, 3, 3, 2], [1, 1500, 3, 3, 2], [1, 1600, 3, 3, 2], [1, 900, 2, 2, 1], [1, 925, 2, 2, 2], [1, 1500, 2, 2, 1], [1, 1600, 3, 3, 2], [1, 1300, 3, 3, 2], [1, 1200, 2, 2, 2], [1, 133, 2, 2, 2], [1, 950, 2, 2, 1], [1, 1200, 3, 3, 2], [1, 950, 2, 2, 1], [1, 1095, 2, 2, 2], [1, 400, 1, 1, 1], [1, 2210, 3, 3, 2], [1, 1450, 3, 2, 2], [1, 192, 3, 3, 2], [1, 80, 1, 1, 2], [1, 1315, 2, 2, 2], [1, 1600, 3, 3, 2], [1, 1450, 2, 2, 2], [1, 1900, 3, 3, 2], [1, 2600, 3, 3, 2], [1, 450, 1, 2, 1], [1, 1000, 2, 2, 2], [1, 100, 2, 2, 1], [1, 1100, 2, 2, 1], [1, 1200, 2, 2, 1], [1, 1400, 2, 2, 1], [1, 2000, 3, 3, 2], [1, 1070, 2, 2, 1], [1, 1450, 2, 2, 1], [1, 1230, 2, 2, 3], [1, 1000, 2, 3, 2], [1, 1200, 2, 2, 1], [1, 150, 2, 2, 1], [1, 850, 2, 2, 2], [1, 1300, 2, 2, 1], [1, 4761, 4, 5, 2], [1, 1250, 2, 2, 2], [1, 100, 1, 1, 1], [1, 1550, 3, 2, 1], [1, 1300, 2, 2, 1], [1, 1600, 3, 2, 2], [1, 1200, 2, 3, 1], [1, 1200, 2, 2, 2], [1, 1970, 3, 3, 2], [1, 650, 2, 2, 1], [1, 1000, 2, 3, 1], [1, 1500, 3, 3, 1], [1, 1250, 2, 2, 1], [1, 1940, 3, 3, 2], [1, 700, 2, 2, 1], [1, 700, 2, 1, 2], [1, 100, 2, 2, 1], [1, 300, 1, 1, 2], [1, 980, 2, 2, 2], [1, 800, 2, 2, 2], [1, 1250, 3, 2, 1], [1, 1000, 2, 2, 2], [1, 1000, 2, 2, 1], [1, 1800, 3, 3, 1], [1, 2000, 3, 3, 2], [1, 1500, 3, 3, 2], [1, 1050, 2, 3, 1], [1, 1100, 2, 2, 3], [1, 1000, 2, 2, 2], [1, 700, 2, 2, 1], [1, 750, 1, 1, 1], [1, 450, 1, 1, 1], [1, 1000, 3, 2, 1], [1, 1500, 3, 3, 2], [1, 1550, 2, 2, 3], [1, 1450, 2, 2, 2], [1, 650, 2, 2, 1], [1, 650, 2, 2, 1], [1, 1500, 3, 3, 2], [1, 900, 2, 2, 3], [1, 1645, 3, 3, 2], [1, 600, 2, 2, 1], [1, 1250, 2, 2, 2], [1, 1300, 2, 2, 2], [1, 1000, 2, 2, 2], [1, 1500, 3, 3, 2], [1, 1150, 2, 2, 2], [1, 110, 2, 2, 2], [1, 103, 2, 2, 1], [1, 1050, 2, 2, 1], [1, 60, 2, 2, 1], [1, 1170, 2, 2, 1], [1, 167, 2, 2, 1], [1, 500, 1, 1, 2], [1, 600, 1, 1, 1], [1, 600, 1, 1, 1], [1, 200, 1, 1, 1], [1, 600, 2, 1, 1], [1, 900, 2, 2, 2], [1, 800, 2, 2, 1], [1, 1000, 3, 2, 2], [1, 3200, 3, 3, 2], [1, 1400, 2, 2, 3], [1, 550, 1, 1, 1], [1, 540, 1, 1, 1], [1, 400, 1, 1, 1], [1, 1225, 2, 2, 1], [1, 1430, 3, 2, 3], [1, 1200, 2, 2, 3], [1, 1197, 2, 2, 1], [1, 1150, 2, 2, 2], [1, 500, 1, 1, 2], [1, 1200, 2, 2, 2], [1, 500, 1, 2, 2], [1, 1600, 3, 3, 3], [1, 1100, 2, 2, 3], [1, 1220, 2, 2, 2], [1, 1500, 3, 3, 3], [1, 500, 1, 1, 1], [1, 850, 2, 2, 1], [1, 1000, 2, 2, 1], [1, 100, 3, 3, 1], [1, 1140, 2, 2, 3], [1, 1100, 2, 2, 3], [1, 1400, 3, 2, 2], [1, 1350, 2, 2, 2], [1, 180, 2, 2, 1], [1, 1250, 2, 2, 1], [1, 1300, 2, 2, 1], [1, 840, 2, 2, 1], [1, 1200, 2, 2, 2], [1, 700, 2, 2, 3], [1, 2700, 4, 4, 3], [1, 1100, 2, 2, 3], [1, 1000, 2, 2, 2], [1, 1000, 2, 3, 2], [1, 1600, 3, 3, 2], [1, 1550, 3, 3, 1], [1, 600, 1, 1, 2], [1, 500, 1, 1, 2], [1, 1100, 2, 2, 2], [1, 1000, 3, 2, 3], [1, 1000, 2, 2, 2], [1, 1800, 3, 3, 1], [1, 1300, 2, 2, 2], [1, 1100, 2, 2, 1], [1, 950, 2, 2, 1], [1, 1000, 2, 2, 2], [1, 1200, 2, 2, 1], [1, 2800, 6, 7, 3], [1, 550, 2, 2, 1], [1, 1000, 2, 2, 2], [1, 800, 2, 2, 2], [1, 600, 2, 1, 1], [1, 1800, 3, 3, 1], [1, 500, 1, 1, 2], [1, 1000, 2, 2, 1], [1, 1100, 2, 2, 2], [1, 1450, 3, 2, 2], [1, 550, 1, 1, 2], [1, 933, 2, 2, 1], [1, 1100, 3, 2, 2], [1, 1030, 2, 2, 2], [1, 1150, 3, 3, 2], [1, 850, 2, 2, 1], [1, 1000, 2, 2, 1], [1, 1400, 3, 3, 2], [1, 2700, 3, 3, 3], [1, 1700, 3, 3, 2], [1, 1742, 3, 2, 2], [1, 1000, 2, 2, 1], [1, 1440, 2, 2, 2], [1, 1600, 3, 3, 2], [1, 1838, 3, 3, 1], [1, 1200, 2, 2, 1], [1, 200, 3, 1, 1], [1, 1050, 1, 1, 3], [1, 400, 1, 1, 1], [1, 1350, 2, 2, 2], [1, 1960, 3, 3, 1], [1, 800, 1, 1, 1], [1, 1000, 2, 2, 1], [1, 1100, 2, 2, 1], [1, 1480, 3, 3, 3], [1, 700, 1, 1, 1], [1, 1500, 3, 2, 3], [1, 1000, 2, 2, 2], [1, 900, 2, 2, 2], [1, 1250, 3, 2, 2], [1, 1100, 2, 3, 1], [1, 1300, 3, 2, 2], [1, 1275, 3, 2, 1], [1, 1265, 3, 3, 2], [1, 700, 1, 1, 1], [1, 1150, 2, 2, 3], [1, 850, 2, 2, 2], [1, 1285, 2, 2, 2], [1, 2000, 3, 3, 2], [1, 1000, 2, 3, 2], [1, 700, 1, 1, 2], [1, 1100, 3, 2, 2], [1, 1000, 2, 2, 2], [1, 800, 2, 2, 1], [1, 1400, 2, 2, 3], [1, 1350, 2, 2, 2], [1, 1100, 2, 2, 2], [1, 840, 2, 2, 1], [1, 1325, 2, 2, 3], [1, 3500, 5, 6, 1], [1, 1250, 3, 3, 2], [1, 1500, 3, 3, 2], [1, 1050, 2, 2, 1], [1, 1200, 3, 2, 2], [1, 1500, 3, 3, 2], [1, 100, 1, 1, 2], [1, 1742, 3, 3, 2], [1, 650, 2, 2, 1], [1, 2235, 3, 5, 1], [1, 1000, 2, 2, 2], [1, 175, 2, 2, 2], [1, 160, 2, 2, 1], [1, 1200, 2, 2, 3], [1, 1283, 2, 2, 1], [1, 600, 1, 1, 2], [1, 3455, 4, 4, 2], [1, 1500, 3, 3, 2], [1, 540, 1, 1, 1], [1, 500, 1, 1, 1], [1, 1100, 2, 2, 1], [1, 1350, 2, 2, 1], [1, 400, 1, 1, 1], [1, 120, 2, 2, 2], [1, 3050, 3, 3, 2], [1, 400, 2, 3, 1], [1, 800, 2, 2, 2], [1, 90, 2, 1, 1], [1, 500, 1, 1, 1], [1, 1150, 2, 2, 1], [1, 1700, 3, 2, 2], [1, 1000, 2, 2, 1], [1, 1100, 3, 1, 2], [1, 1360, 3, 3, 2], [1, 400, 1, 1, 1], [1, 1150, 2, 2, 1], [1, 700, 2, 2, 2], [1, 100, 1, 1, 1], [1, 800, 2, 2, 1], [1, 500, 2, 2, 2], [1, 900, 2, 2, 2], [1, 1500, 3, 2, 2], [1, 1600, 3, 3, 2], [1, 1300, 2, 2, 1], [1, 1305, 3, 2, 2], [1, 400, 1, 1, 1], [1, 600, 2, 2, 3], [1, 1130, 2, 2, 1], [1, 7000, 4, 6, 2], [1, 890, 1, 1, 2], [1, 1606, 3, 3, 2], [1, 650, 1, 1, 1], [1, 600, 2, 1, 1], [1, 1350, 2, 2, 3], [1, 1050, 2, 2, 1], [1, 1600, 2, 3, 1], [1, 1840, 3, 3, 2], [1, 1100, 2, 2, 1], [1, 800, 2, 2, 2], [1, 800, 2, 2, 1], [1, 1100, 2, 2, 2], [1, 2000, 3, 3, 2], [1, 750, 1, 1, 1], [1, 1650, 3, 2, 2], [1, 600, 2, 2, 1], [1, 2352, 3, 4, 2], [1, 2671, 3, 3, 2], [1, 550, 2, 2, 1], [1, 1700, 3, 4, 2], [1, 1050, 2, 2, 2], [1, 2400, 6, 4, 1], [1, 800, 2, 2, 2], [1, 1000, 2, 2, 2], [1, 1100, 2, 2, 1], [1, 160, 1, 1, 1], [1, 1230, 2, 2, 2], [1, 500, 1, 1, 1], [1, 300, 1, 1, 3], [1, 1156, 2, 2, 1], [1, 1100, 2, 2, 2], [1, 1250, 2, 2, 2], [1, 900, 3, 3, 2], [1, 650, 1, 1, 1], [1, 350, 1, 1, 1], [1, 1500, 2, 2, 3], [1, 100, 2, 2, 2], [1, 900, 2, 2, 2], [1, 990, 2, 2, 3], [1, 1700, 3, 3, 2], [1, 900, 2, 2, 3], [1, 1700, 3, 3, 2], [1, 1050, 2, 2, 1], [1, 1550, 3, 3, 2], [1, 1050, 2, 2, 2], [1, 1600, 3, 3, 2], [1, 1250, 2, 2, 1], [1, 700, 2, 1, 2], [1, 1100, 2, 2, 2], [1, 850, 2, 1, 2], [1, 1700, 3, 3, 2], [1, 1800, 3, 3, 3], [1, 520, 1, 1, 2], [1, 800, 2, 2, 1], [1, 67, 1, 1, 2], [1, 500, 1, 1, 1], [1, 1060, 2, 2, 2], [1, 900, 2, 1, 3], [1, 1650, 2, 1, 2], [1, 800, 2, 2, 2], [1, 3400, 6, 7, 1], [1, 1100, 3, 1, 2], [1, 1492, 2, 2, 2], [1, 1100, 3, 1, 2], [1, 2990, 4, 3, 2], [1, 2780, 3, 3, 2], [1, 1100, 2, 2, 1], [1, 90, 2, 2, 2], [1, 760, 2, 2, 1], [1, 600, 1, 1, 3], [1, 940, 2, 2, 2], [1, 1742, 3, 3, 2], [1, 2000, 3, 3, 2], [1, 800, 1, 1, 2], [1, 1800, 3, 3, 3], [1, 1350, 2, 2, 1], [1, 1685, 3, 3, 3], [1, 1250, 2, 3, 1], [1, 1800, 3, 3, 2], [1, 853, 2, 2, 2], [1, 2000, 3, 3, 2], [1, 800, 1, 1, 3], [1, 1200, 2, 1, 2], [1, 1100, 2, 2, 2], [1, 550, 1, 1, 1], [1, 4761, 4, 6, 2], [1, 920, 2, 2, 2], [1, 1400, 3, 2, 2], [1, 2310, 3, 3, 2], [1, 650, 2, 2, 1], [1, 700, 1, 2, 2], [1, 300, 1, 1, 1], [1, 100, 4, 2, 1], [1, 1050, 2, 2, 3], [1, 1125, 2, 2, 1], [1, 1600, 4, 4, 1], [1, 2400, 3, 3, 3], [1, 650, 2, 2, 1], [1, 1000, 1, 1, 1], [1, 900, 2, 2, 2], [1, 1250, 2, 3, 2], [1, 1020, 2, 2, 3], [1, 1270, 3, 2, 3], [1, 600, 1, 1, 1], [1, 500, 1, 1, 1], [1, 800, 2, 2, 2], [1, 1500, 3, 2, 1], [1, 1200, 2, 2, 2], [1, 1900, 3, 3, 2], [1, 950, 2, 2, 1], [1, 300, 1, 1, 2], [1, 1250, 2, 2, 1], [1, 1200, 2, 2, 1], [1, 1100, 2, 2, 2], [1, 1100, 2, 2, 2], [1, 1500, 2, 2, 2], [1, 1400, 3, 2, 2], [1, 1742, 3, 3, 2], [1, 1250, 2, 2, 2], [1, 650, 1, 1, 3], [1, 1545, 3, 2, 3], [1, 700, 1, 2, 1], [1, 1600, 2, 2, 1], [1, 1700, 3, 3, 3], [1, 920, 2, 2, 1], [1, 1115, 2, 2, 1], [1, 1000, 3, 2, 2], [1, 1200, 2, 2, 1], [1, 500, 1, 1, 1], [1, 1850, 3, 2, 2], [1, 600, 1, 2, 1], [1, 200, 2, 2, 1], [1, 1500, 3, 3, 2], [1, 2100, 3, 3, 2], [1, 1250, 3, 3, 2], [1, 800, 1, 1, 2], [1, 1450, 3, 2, 1], [1, 1960, 3, 3, 2], [1, 1965, 3, 3, 2], [1, 1834, 3, 3, 2], [1, 1834, 3, 3, 2], [1, 1150, 2, 2, 1], [1, 1800, 3, 3, 3], [1, 1000, 2, 2, 2], [1, 1200, 2, 2, 1], [1, 2000, 3, 5, 1], [1, 700, 1, 1, 2], [1, 400, 1, 1, 1], [1, 1250, 2, 2, 3], [1, 500, 1, 1, 1], [1, 1550, 3, 3, 1], [1, 1000, 2, 2, 1], [1, 1200, 2, 2, 1], [1, 1200, 2, 2, 1], [1, 1200, 2, 2, 2], [1, 1800, 2, 2, 2], [1, 1100, 2, 2, 3], [1, 1650, 3, 2, 2], [1, 225, 3, 3, 1], [1, 550, 1, 1, 3], [1, 350, 1, 1, 1], [1, 600, 2, 1, 1], [1, 500, 1, 1, 1], [1, 1100, 2, 2, 1], [1, 1205, 2, 2, 3], [1, 1200, 2, 1, 2], [1, 540, 1, 1, 2], [1, 1800, 3, 4, 2], [1, 500, 1, 1, 1], [1, 1200, 2, 2, 2], [1, 1180, 2, 2, 2], [1, 1000, 2, 2, 1], [1, 675, 2, 2, 1], [1, 1450, 3, 2, 1], [1, 100, 1, 1, 1], [1, 500, 1, 1, 1], [1, 100, 2, 2, 1], [1, 2300, 4, 4, 2], [1, 300, 1, 1, 1], [1, 300, 1, 1, 1], [1, 800, 1, 1, 1], [1, 1280, 2, 3, 1], [1, 110, 2, 2, 1], [1, 920, 2, 2, 2], [1, 2000, 2, 2, 1], [1, 770, 2, 2, 2], [1, 3200, 3, 3, 2], [1, 1500, 2, 2, 1], [1, 1100, 2, 2, 2], [1, 450, 1, 1, 1], [1, 4500, 6, 6, 2], [1, 1300, 2, 2, 2], [1, 1000, 1, 1, 2], [1, 900, 2, 2, 2], [1, 400, 1, 1, 1], [1, 10, 3, 3, 3], [1, 450, 1, 1, 1], [1, 1300, 2, 2, 1], [1, 1000, 2, 2, 3], [1, 1300, 2, 2, 2], [1, 350, 1, 1, 2], [1, 1560, 3, 3, 2], [1, 1800, 3, 3, 2], [1, 600, 1, 1, 2], [1, 350, 2, 1, 1], [1, 1100, 2, 2, 3], [1, 1100, 2, 2, 2], [1, 1170, 2, 2, 1], [1, 550, 1, 1, 1], [1, 1000, 2, 2, 1], [1, 1100, 2, 2, 3], [1, 3789, 4, 5, 2], [1, 2700, 3, 3, 2], [1, 2170, 3, 3, 2], [1, 1160, 2, 2, 3], [1, 800, 2, 2, 3], [1, 1200, 2, 2, 1], [1, 1422, 3, 3, 2], [1, 1200, 2, 2, 2], [1, 1200, 2, 2, 1], [1, 1080, 2, 2, 2], [1, 1050, 2, 2, 2], [1, 1100, 2, 2, 2], [1, 700, 2, 2, 1], [1, 1150, 2, 2, 2], [1, 1124, 2, 2, 3], [1, 650, 1, 1, 2], [1, 1125, 2, 2, 1], [1, 850, 2, 2, 2], [1, 1140, 2, 2, 3], [1, 1350, 2, 2, 2], [1, 600, 1, 1, 1], [1, 1050, 2, 2, 1], [1, 1100, 3, 3, 2], [1, 1200, 2, 2, 2], [1, 1450, 3, 2, 2], [1, 1000, 2, 2, 2], [1, 300, 1, 1, 2], [1, 4200, 6, 5, 2], [1, 1000, 2, 2, 1], [1, 2300, 3, 3, 3], [1, 900, 2, 2, 1], [1, 650, 1, 1, 2], [1, 850, 1, 1, 2], [1, 1300, 2, 2, 2], [1, 950, 2, 2, 3], [1, 150, 1, 1, 1], [1, 900, 2, 2, 1], [1, 50, 1, 1, 1], [1, 1200, 2, 2, 1], [1, 1350, 2, 2, 1], [1, 400, 1, 1, 1], [1, 800, 2, 2, 1], [1, 1450, 3, 2, 2], [1, 2405, 3, 3, 2], [1, 2500, 3, 2, 1], [1, 1000, 4, 2, 2], [1, 1200, 2, 2, 1], [1, 3250, 4, 5, 2], [1, 1600, 3, 3, 2], [1, 980, 2, 2, 1], [1, 1600, 3, 3, 2], [1, 1000, 2, 2, 2], [1, 40, 1, 1, 1], [1, 850, 1, 1, 1], [1, 840, 2, 2, 3], [1, 600, 2, 1, 1], [1, 650, 1, 1, 3], [1, 1100, 2, 2, 3], [1, 214, 3, 4, 3], [1, 1700, 3, 3, 2], [1, 1500, 2, 2, 1], [1, 600, 2, 2, 1], [1, 950, 2, 2, 1], [1, 900, 2, 1, 1], [1, 500, 1, 1, 3], [1, 1450, 3, 3, 2], [1, 1250, 3, 2, 3], [1, 1500, 3, 3, 2], [1, 1500, 3, 3, 2], [1, 855, 2, 2, 1], [1, 1040, 2, 2, 1], [1, 1350, 2, 2, 1], [1, 1000, 2, 2, 2], [1, 2000, 3, 3, 2], [1, 1750, 3, 3, 2], [1, 1500, 3, 2, 2], [1, 1000, 2, 2, 1]]\n"
          ]
        }
      ]
    },
    {
      "cell_type": "markdown",
      "source": [
        "# **Normal Equation Calculation Starts From Here**"
      ],
      "metadata": {
        "id": "3beut-Xntb_6"
      }
    },
    {
      "cell_type": "code",
      "source": [
        "XT = np.transpose(X)\n",
        "#print((XT))"
      ],
      "metadata": {
        "id": "-J3BLnKNqMkF"
      },
      "execution_count": null,
      "outputs": []
    },
    {
      "cell_type": "code",
      "source": [
        "XTX = np.matmul(XT,X)\n",
        "#print((XTX))"
      ],
      "metadata": {
        "id": "jf8t1uiRqhgQ"
      },
      "execution_count": null,
      "outputs": []
    },
    {
      "cell_type": "code",
      "source": [
        "from numpy.linalg import inv\n",
        "INV_XTX = inv(XTX)\n",
        "#print((INV_XTX))"
      ],
      "metadata": {
        "id": "Sde2M81orYBv"
      },
      "execution_count": null,
      "outputs": []
    },
    {
      "cell_type": "code",
      "source": [
        "XTY = np.matmul(XT,Y)\n",
        "#print(XTY)"
      ],
      "metadata": {
        "id": "Vkd4Laz1r1Pd"
      },
      "execution_count": null,
      "outputs": []
    },
    {
      "cell_type": "code",
      "source": [
        "thetas = np.matmul(INV_XTX,XTY)\n",
        "print(len(thetas),len(thetas[0]))\n",
        "print(thetas)"
      ],
      "metadata": {
        "colab": {
          "base_uri": "https://localhost:8080/"
        },
        "id": "lOZi6jgksnJ6",
        "outputId": "fbcdd16e-12ba-47ef-81f0-32a26e62ace4"
      },
      "execution_count": null,
      "outputs": [
        {
          "output_type": "stream",
          "name": "stdout",
          "text": [
            "5 1\n",
            "[[-4.93089571e+04]\n",
            " [ 2.35095594e+01]\n",
            " [-1.29289804e+03]\n",
            " [ 2.64676202e+04]\n",
            " [ 6.93957077e+03]]\n"
          ]
        }
      ]
    },
    {
      "cell_type": "code",
      "source": [
        "t0 = thetas[0][0]\n",
        "t1 = thetas[1][0]\n",
        "t2 = thetas[2][0]\n",
        "t3 = thetas[3][0]\n",
        "t4 = thetas[4][0]\n",
        "print(t0,t1,t2,t3,t4)"
      ],
      "metadata": {
        "colab": {
          "base_uri": "https://localhost:8080/"
        },
        "id": "68D0_i8qwQuK",
        "outputId": "5eb96884-daf1-469a-d996-85a10cbaa1c4"
      },
      "execution_count": null,
      "outputs": [
        {
          "output_type": "stream",
          "name": "stdout",
          "text": [
            "-49308.9570519877 23.509559413395415 -1292.8980373916556 26467.620179929152 6939.570768955076\n"
          ]
        }
      ]
    },
    {
      "cell_type": "markdown",
      "source": [
        "# **Cost** **Calculate**"
      ],
      "metadata": {
        "id": "u2IKsLhXxe-q"
      }
    },
    {
      "cell_type": "code",
      "source": [
        "m = len(x1)\n",
        "sum = 0\n",
        "for j in range(m):\n",
        "    tsum = t0 +  t1*x1[j] + t2*x2[j] + t3*x3[j] + t4*x4[j] - y[j]\n",
        "    tsum = tsum * tsum\n",
        "    sum = sum + tsum\n",
        "    \n",
        "cost = sum/(2*m)\n",
        "print(cost)"
      ],
      "metadata": {
        "colab": {
          "base_uri": "https://localhost:8080/"
        },
        "id": "iCDEfh_uw6wz",
        "outputId": "4e32c13f-d40d-43c8-d232-31370f3ab667"
      },
      "execution_count": null,
      "outputs": [
        {
          "output_type": "stream",
          "name": "stdout",
          "text": [
            "2394004443.1277804\n"
          ]
        }
      ]
    },
    {
      "cell_type": "code",
      "source": [
        "predict = t0 + t1*1100 + t2*2 + t3*2 + t4*1\n",
        "print(predict)"
      ],
      "metadata": {
        "colab": {
          "base_uri": "https://localhost:8080/"
        },
        "id": "Os4eM7DxxkdC",
        "outputId": "c536f8db-47c0-4318-ce76-a6d19ce8ac17"
      },
      "execution_count": null,
      "outputs": [
        {
          "output_type": "stream",
          "name": "stdout",
          "text": [
            "33840.57335677733\n"
          ]
        }
      ]
    },
    {
      "cell_type": "markdown",
      "source": [
        "# **Plotting**"
      ],
      "metadata": {
        "id": "Sa--9HHCyCRR"
      }
    },
    {
      "cell_type": "code",
      "source": [
        "max_x = np.max(x1) + 100\n",
        "min_x = np.min(x1)\n",
        "x = np.linspace(min_x, max_x, 1000)\n",
        "yy = t1 * x + t0\n",
        "plt.plot(x, yy, color='#01779c', label='Regression Line')\n",
        "plt.scatter(x1, y, c = \"#99cc99\", label = 'Scatter Plot')\n",
        "\n",
        "plt.xlabel('House Size')\n",
        "plt.ylabel('Price')\n",
        "plt.legend()\n",
        "plt.show()"
      ],
      "metadata": {
        "colab": {
          "base_uri": "https://localhost:8080/",
          "height": 290
        },
        "id": "UTv9vNhYyBi5",
        "outputId": "e251ee1c-c5b5-4257-bd9a-4a2da4c4aefc"
      },
      "execution_count": null,
      "outputs": [
        {
          "output_type": "display_data",
          "data": {
            "text/plain": [
              "<Figure size 432x288 with 1 Axes>"
            ],
            "image/png": "[encoded data removed]"
          },
          "metadata": {
            "needs_background": "light"
          }
        }
      ]
    }
  ]
}